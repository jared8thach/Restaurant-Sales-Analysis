{
 "cells": [
  {
   "cell_type": "markdown",
   "metadata": {},
   "source": [
    "### Importing Libraries and Reading Data"
   ]
  },
  {
   "cell_type": "code",
   "execution_count": 1,
   "metadata": {},
   "outputs": [],
   "source": [
    "import pandas as pd\n",
    "import numpy as np\n",
    "import seaborn as sns\n",
    "import matplotlib.pyplot as plt\n",
    "from scipy.stats import norm"
   ]
  },
  {
   "cell_type": "code",
   "execution_count": 2,
   "metadata": {
    "scrolled": true
   },
   "outputs": [
    {
     "data": {
      "text/html": [
       "<div>\n",
       "<style scoped>\n",
       "    .dataframe tbody tr th:only-of-type {\n",
       "        vertical-align: middle;\n",
       "    }\n",
       "\n",
       "    .dataframe tbody tr th {\n",
       "        vertical-align: top;\n",
       "    }\n",
       "\n",
       "    .dataframe thead th {\n",
       "        text-align: right;\n",
       "    }\n",
       "</style>\n",
       "<table border=\"1\" class=\"dataframe\">\n",
       "  <thead>\n",
       "    <tr style=\"text-align: right;\">\n",
       "      <th></th>\n",
       "      <th>Date Time</th>\n",
       "      <th>Unnamed: 1</th>\n",
       "      <th>Non Taxable</th>\n",
       "      <th>Taxable</th>\n",
       "      <th>Discount</th>\n",
       "      <th>Tax</th>\n",
       "      <th>Total Sales</th>\n",
       "      <th>Total Sales (Cash)</th>\n",
       "      <th>Total Sales (Credit Card)</th>\n",
       "      <th>Total Sales (Other Types)</th>\n",
       "      <th>Service charges (Tax include)</th>\n",
       "      <th>Total Sales + SC</th>\n",
       "      <th>Tips</th>\n",
       "      <th>Total Sales + SC + Tips</th>\n",
       "      <th>Paid Balance</th>\n",
       "    </tr>\n",
       "  </thead>\n",
       "  <tbody>\n",
       "    <tr>\n",
       "      <td>0</td>\n",
       "      <td>01/01/20 00:00-23:59</td>\n",
       "      <td>NaN</td>\n",
       "      <td>0.0</td>\n",
       "      <td>0.0</td>\n",
       "      <td>0.0</td>\n",
       "      <td>0.0</td>\n",
       "      <td>0.0</td>\n",
       "      <td>0.0</td>\n",
       "      <td>0.0</td>\n",
       "      <td>0.0</td>\n",
       "      <td>0.0</td>\n",
       "      <td>0.0</td>\n",
       "      <td>0.0</td>\n",
       "      <td>0.0</td>\n",
       "      <td>0.0</td>\n",
       "    </tr>\n",
       "    <tr>\n",
       "      <td>1</td>\n",
       "      <td>01/02/20 00:00-23:59</td>\n",
       "      <td>NaN</td>\n",
       "      <td>0.0</td>\n",
       "      <td>0.0</td>\n",
       "      <td>0.0</td>\n",
       "      <td>0.0</td>\n",
       "      <td>0.0</td>\n",
       "      <td>0.0</td>\n",
       "      <td>0.0</td>\n",
       "      <td>0.0</td>\n",
       "      <td>0.0</td>\n",
       "      <td>0.0</td>\n",
       "      <td>0.0</td>\n",
       "      <td>0.0</td>\n",
       "      <td>0.0</td>\n",
       "    </tr>\n",
       "    <tr>\n",
       "      <td>2</td>\n",
       "      <td>01/03/20 00:00-23:59</td>\n",
       "      <td>NaN</td>\n",
       "      <td>0.0</td>\n",
       "      <td>0.0</td>\n",
       "      <td>0.0</td>\n",
       "      <td>0.0</td>\n",
       "      <td>0.0</td>\n",
       "      <td>0.0</td>\n",
       "      <td>0.0</td>\n",
       "      <td>0.0</td>\n",
       "      <td>0.0</td>\n",
       "      <td>0.0</td>\n",
       "      <td>0.0</td>\n",
       "      <td>0.0</td>\n",
       "      <td>0.0</td>\n",
       "    </tr>\n",
       "    <tr>\n",
       "      <td>3</td>\n",
       "      <td>01/04/20 00:00-23:59</td>\n",
       "      <td>NaN</td>\n",
       "      <td>0.0</td>\n",
       "      <td>0.0</td>\n",
       "      <td>0.0</td>\n",
       "      <td>0.0</td>\n",
       "      <td>0.0</td>\n",
       "      <td>0.0</td>\n",
       "      <td>0.0</td>\n",
       "      <td>0.0</td>\n",
       "      <td>0.0</td>\n",
       "      <td>0.0</td>\n",
       "      <td>0.0</td>\n",
       "      <td>0.0</td>\n",
       "      <td>0.0</td>\n",
       "    </tr>\n",
       "    <tr>\n",
       "      <td>4</td>\n",
       "      <td>01/05/20 00:00-23:59</td>\n",
       "      <td>NaN</td>\n",
       "      <td>0.0</td>\n",
       "      <td>0.0</td>\n",
       "      <td>0.0</td>\n",
       "      <td>0.0</td>\n",
       "      <td>0.0</td>\n",
       "      <td>0.0</td>\n",
       "      <td>0.0</td>\n",
       "      <td>0.0</td>\n",
       "      <td>0.0</td>\n",
       "      <td>0.0</td>\n",
       "      <td>0.0</td>\n",
       "      <td>0.0</td>\n",
       "      <td>0.0</td>\n",
       "    </tr>\n",
       "  </tbody>\n",
       "</table>\n",
       "</div>"
      ],
      "text/plain": [
       "              Date Time  Unnamed: 1  Non Taxable  Taxable  Discount  Tax  \\\n",
       "0  01/01/20 00:00-23:59         NaN          0.0      0.0       0.0  0.0   \n",
       "1  01/02/20 00:00-23:59         NaN          0.0      0.0       0.0  0.0   \n",
       "2  01/03/20 00:00-23:59         NaN          0.0      0.0       0.0  0.0   \n",
       "3  01/04/20 00:00-23:59         NaN          0.0      0.0       0.0  0.0   \n",
       "4  01/05/20 00:00-23:59         NaN          0.0      0.0       0.0  0.0   \n",
       "\n",
       "   Total Sales  Total Sales (Cash)  Total Sales (Credit Card)  \\\n",
       "0          0.0                 0.0                        0.0   \n",
       "1          0.0                 0.0                        0.0   \n",
       "2          0.0                 0.0                        0.0   \n",
       "3          0.0                 0.0                        0.0   \n",
       "4          0.0                 0.0                        0.0   \n",
       "\n",
       "   Total Sales (Other Types)  Service charges (Tax include)  Total Sales + SC  \\\n",
       "0                        0.0                            0.0               0.0   \n",
       "1                        0.0                            0.0               0.0   \n",
       "2                        0.0                            0.0               0.0   \n",
       "3                        0.0                            0.0               0.0   \n",
       "4                        0.0                            0.0               0.0   \n",
       "\n",
       "   Tips  Total Sales + SC + Tips  Paid Balance  \n",
       "0   0.0                      0.0           0.0  \n",
       "1   0.0                      0.0           0.0  \n",
       "2   0.0                      0.0           0.0  \n",
       "3   0.0                      0.0           0.0  \n",
       "4   0.0                      0.0           0.0  "
      ]
     },
     "execution_count": 2,
     "metadata": {},
     "output_type": "execute_result"
    }
   ],
   "source": [
    "daily_sales_breakdown = pd.read_csv('.\\data\\Daily Sales Breakdown 01-01-2020 to 01-31-2021.csv', thousands=',')\n",
    "daily_sales_breakdown.head()"
   ]
  },
  {
   "cell_type": "markdown",
   "metadata": {},
   "source": [
    "### Data Cleaning / Processing"
   ]
  },
  {
   "cell_type": "markdown",
   "metadata": {},
   "source": [
    "Before creating our Lantern Vietnamese Cafe Dashboard in this Jupyter Notebook, we must clean our dataset."
   ]
  },
  {
   "cell_type": "code",
   "execution_count": 3,
   "metadata": {},
   "outputs": [],
   "source": [
    "def clean_df(df):\n",
    "    \n",
    "    # saving the dataframe to a variable to return a clean copy without manipulating the actual dataset\n",
    "    temp = df.copy()\n",
    "    \n",
    "    # converting `Date Time` to datetime object for easier manipulation\n",
    "    temp['Date Time'] = temp['Date Time'].apply(lambda x: pd.to_datetime(x).date())\n",
    "\n",
    "    # dropping `Unnamed: 1` because it is an entirely null column\n",
    "    temp = temp.drop('Unnamed: 1', axis=1)\n",
    "\n",
    "    # dropping `Total Sales (Other Types)` because Lantern does not accept any other forms of sales in store\n",
    "    temp = temp.drop('Total Sales (Other Types)', axis=1)\n",
    "\n",
    "    # dropping `Service charges (Tax include)` because Lantern has no service charges\n",
    "    temp = temp.drop('Service charges (Tax include)', axis=1)\n",
    "\n",
    "    # dropping `Total Sales + SC` because Lantern has no services charges, and therefore, this column is identical to `Total Sales`\n",
    "    temp = temp.drop('Total Sales + SC', axis=1)\n",
    "\n",
    "    # dropping `Paid Balance` because Lantern does not use this feature\n",
    "    temp = temp.drop('Paid Balance', axis=1)\n",
    "\n",
    "    # finally, we will rename some columns to be less verbose\n",
    "    temp = temp.rename(\n",
    "        {'Date Time': 'Date', \n",
    "         'Total Sales': 'Sales',\n",
    "         'Total Sales (Cash)': 'Cash', \n",
    "         'Total Sales (Credit Card)': 'Card', \n",
    "         'Total Sales + SC + Tips': 'Sales + Tips'},\n",
    "        axis=1\n",
    "    )\n",
    "    \n",
    "    return temp"
   ]
  },
  {
   "cell_type": "markdown",
   "metadata": {},
   "source": [
    "This is the final product of our data cleaning:"
   ]
  },
  {
   "cell_type": "code",
   "execution_count": 4,
   "metadata": {
    "scrolled": true
   },
   "outputs": [
    {
     "data": {
      "text/html": [
       "<div>\n",
       "<style scoped>\n",
       "    .dataframe tbody tr th:only-of-type {\n",
       "        vertical-align: middle;\n",
       "    }\n",
       "\n",
       "    .dataframe tbody tr th {\n",
       "        vertical-align: top;\n",
       "    }\n",
       "\n",
       "    .dataframe thead th {\n",
       "        text-align: right;\n",
       "    }\n",
       "</style>\n",
       "<table border=\"1\" class=\"dataframe\">\n",
       "  <thead>\n",
       "    <tr style=\"text-align: right;\">\n",
       "      <th></th>\n",
       "      <th>Date</th>\n",
       "      <th>Non Taxable</th>\n",
       "      <th>Taxable</th>\n",
       "      <th>Discount</th>\n",
       "      <th>Tax</th>\n",
       "      <th>Sales</th>\n",
       "      <th>Cash</th>\n",
       "      <th>Card</th>\n",
       "      <th>Tips</th>\n",
       "      <th>Sales + Tips</th>\n",
       "    </tr>\n",
       "  </thead>\n",
       "  <tbody>\n",
       "    <tr>\n",
       "      <td>0</td>\n",
       "      <td>2020-01-01</td>\n",
       "      <td>0.0</td>\n",
       "      <td>0.0</td>\n",
       "      <td>0.0</td>\n",
       "      <td>0.0</td>\n",
       "      <td>0.0</td>\n",
       "      <td>0.0</td>\n",
       "      <td>0.0</td>\n",
       "      <td>0.0</td>\n",
       "      <td>0.0</td>\n",
       "    </tr>\n",
       "    <tr>\n",
       "      <td>1</td>\n",
       "      <td>2020-01-02</td>\n",
       "      <td>0.0</td>\n",
       "      <td>0.0</td>\n",
       "      <td>0.0</td>\n",
       "      <td>0.0</td>\n",
       "      <td>0.0</td>\n",
       "      <td>0.0</td>\n",
       "      <td>0.0</td>\n",
       "      <td>0.0</td>\n",
       "      <td>0.0</td>\n",
       "    </tr>\n",
       "    <tr>\n",
       "      <td>2</td>\n",
       "      <td>2020-01-03</td>\n",
       "      <td>0.0</td>\n",
       "      <td>0.0</td>\n",
       "      <td>0.0</td>\n",
       "      <td>0.0</td>\n",
       "      <td>0.0</td>\n",
       "      <td>0.0</td>\n",
       "      <td>0.0</td>\n",
       "      <td>0.0</td>\n",
       "      <td>0.0</td>\n",
       "    </tr>\n",
       "    <tr>\n",
       "      <td>3</td>\n",
       "      <td>2020-01-04</td>\n",
       "      <td>0.0</td>\n",
       "      <td>0.0</td>\n",
       "      <td>0.0</td>\n",
       "      <td>0.0</td>\n",
       "      <td>0.0</td>\n",
       "      <td>0.0</td>\n",
       "      <td>0.0</td>\n",
       "      <td>0.0</td>\n",
       "      <td>0.0</td>\n",
       "    </tr>\n",
       "    <tr>\n",
       "      <td>4</td>\n",
       "      <td>2020-01-05</td>\n",
       "      <td>0.0</td>\n",
       "      <td>0.0</td>\n",
       "      <td>0.0</td>\n",
       "      <td>0.0</td>\n",
       "      <td>0.0</td>\n",
       "      <td>0.0</td>\n",
       "      <td>0.0</td>\n",
       "      <td>0.0</td>\n",
       "      <td>0.0</td>\n",
       "    </tr>\n",
       "  </tbody>\n",
       "</table>\n",
       "</div>"
      ],
      "text/plain": [
       "         Date  Non Taxable  Taxable  Discount  Tax  Sales  Cash  Card  Tips  \\\n",
       "0  2020-01-01          0.0      0.0       0.0  0.0    0.0   0.0   0.0   0.0   \n",
       "1  2020-01-02          0.0      0.0       0.0  0.0    0.0   0.0   0.0   0.0   \n",
       "2  2020-01-03          0.0      0.0       0.0  0.0    0.0   0.0   0.0   0.0   \n",
       "3  2020-01-04          0.0      0.0       0.0  0.0    0.0   0.0   0.0   0.0   \n",
       "4  2020-01-05          0.0      0.0       0.0  0.0    0.0   0.0   0.0   0.0   \n",
       "\n",
       "   Sales + Tips  \n",
       "0           0.0  \n",
       "1           0.0  \n",
       "2           0.0  \n",
       "3           0.0  \n",
       "4           0.0  "
      ]
     },
     "execution_count": 4,
     "metadata": {},
     "output_type": "execute_result"
    }
   ],
   "source": [
    "df = clean_df(daily_sales_breakdown)\n",
    "df.head()"
   ]
  },
  {
   "cell_type": "markdown",
   "metadata": {},
   "source": [
    "### EDA / Restaurant Dashboard"
   ]
  },
  {
   "cell_type": "markdown",
   "metadata": {},
   "source": [
    "This particular restaurant opened for its first day of business on **January 11th 2020**. However, due to the unfortunate circumstances of COVID-19, this restaurant was prompted to close for a few months (between **March 16th 2020** and **May 28th 2020**), possibly thwarting its initial \"Grand Opening\" buzz as indicated by the low sales on its re-opening. Quickly plotting the entire sales history, we get the following:"
   ]
  },
  {
   "cell_type": "code",
   "execution_count": 5,
   "metadata": {
    "scrolled": true
   },
   "outputs": [
    {
     "name": "stderr",
     "output_type": "stream",
     "text": [
      "C:\\Users\\jared\\Anaconda3\\lib\\site-packages\\pandas\\plotting\\_matplotlib\\converter.py:103: FutureWarning: Using an implicitly registered datetime converter for a matplotlib plotting method. The converter was registered by pandas on import. Future versions of pandas will require you to explicitly register matplotlib converters.\n",
      "\n",
      "To register the converters:\n",
      "\t>>> from pandas.plotting import register_matplotlib_converters\n",
      "\t>>> register_matplotlib_converters()\n",
      "  warnings.warn(msg, FutureWarning)\n"
     ]
    },
    {
     "data": {
      "image/png": "[encoded data removed]",
      "text/plain": [
       "<Figure size 432x288 with 1 Axes>"
      ]
     },
     "metadata": {
      "needs_background": "light"
     },
     "output_type": "display_data"
    }
   ],
   "source": [
    "sns.lineplot(x='Date', y='Sales', data=df)\n",
    "plt.title('Daily Sales from 1-1-2020 to 1-31-2021');\n",
    "plt.xticks(rotation=45);"
   ]
  },
  {
   "cell_type": "markdown",
   "metadata": {},
   "source": [
    "However, we can make this more detailed by stratifying our sales by weekdays and weekends. As we can see below, of course weekends total more profit."
   ]
  },
  {
   "cell_type": "code",
   "execution_count": 6,
   "metadata": {
    "scrolled": true
   },
   "outputs": [
    {
     "data": {
      "image/png": "[encoded data removed]",
      "text/plain": [
       "<Figure size 432x288 with 1 Axes>"
      ]
     },
     "metadata": {
      "needs_background": "light"
     },
     "output_type": "display_data"
    }
   ],
   "source": [
    "# assigning new `Weekend` column\n",
    "df = df.assign(**{'Weekend': df['Date'].apply(lambda x: 1 if x.weekday() in [4,5,6] else 0)})\n",
    "\n",
    "# plotting\n",
    "sns.lineplot(x='Date', y='Sales + Tips', hue='Weekend', data=df)\n",
    "plt.title('Daily Sales from 1-1-2020 to 1-31-2021');\n",
    "plt.xticks(rotation=45);"
   ]
  },
  {
   "cell_type": "markdown",
   "metadata": {},
   "source": [
    "#### Defining a Plotting Function"
   ]
  },
  {
   "cell_type": "markdown",
   "metadata": {},
   "source": [
    "Here, we will construct a versatile function for plotting by other columns according to aggregation function, date frequency, date range, and etc."
   ]
  },
  {
   "cell_type": "code",
   "execution_count": 13,
   "metadata": {},
   "outputs": [],
   "source": [
    "def plotDf(df, col='Sales + Tips', agg='sum', freq='d', lower=None, upper=None, hue=None, rotation=45, title=None):\n",
    "    \"\"\"\n",
    "    df: input dataframe.\n",
    "    col: column of dataframe to plot along y-axis. Default = 'Sales + Tips'.\n",
    "    freq: frequency of date label along x-axis. Default = 'd'.\n",
    "    agg: method to compute y-axis values. Default = 'sum'.\n",
    "    lower: lower date bound.\n",
    "    upper: upper date bound.\n",
    "    hue: column of dataframe to create subgroups.\n",
    "    rotation: rotation of x-ticks labels. Default = 45.\n",
    "    \"\"\"\n",
    "    \n",
    "    temp = df.copy()\n",
    "    lower = pd.to_datetime(lower)\n",
    "    upper = pd.to_datetime(upper)\n",
    "    \n",
    "    # input of lower and upper dates\n",
    "    if lower != None and upper != None:\n",
    "        temp = temp[(temp['Date'] >= lower) & (temp['Date'] <= upper)]\n",
    "        \n",
    "    # input of lower only\n",
    "    elif lower != None:\n",
    "        temp = temp[temp['Date'] >= lower]\n",
    "    \n",
    "    # if `freq` is other than daily, group the dates\n",
    "    if freq != 'd':\n",
    "        temp['Date'] = pd.DatetimeIndex(temp['Date'] - pd.to_timedelta(7, unit='d'))\n",
    "        # if `hue` is selected, groupby both `Date` and `Hue`\n",
    "        if hue: \n",
    "            temp = temp.groupby([pd.Grouper(key='Date', freq=freq), hue])[col].agg(agg).reset_index().sort_values('Date')\n",
    "        else:\n",
    "            temp = temp.groupby(pd.Grouper(key='Date', freq=freq))[col].agg(agg).reset_index().sort_values('Date')\n",
    "\n",
    "    # generating daily plot according to `col`, `hue`, and `rotation`\n",
    "    sns.lineplot(x='Date', y=col, hue=hue, data=temp)\n",
    "    \n",
    "    if title == None:\n",
    "        plt.title('{} of \\'{}\\' by {}'.format(\n",
    "            agg.capitalize(), \n",
    "            col, \n",
    "            (lambda x: 'Day' if x.upper()[0]=='D' else ('Week' if x.upper()[0]=='W' else 'Month'))(freq))\n",
    "        )\n",
    "    else:\n",
    "        plt.title(title)\n",
    "        \n",
    "    plt.xticks(rotation=rotation);\n",
    "    "
   ]
  },
  {
   "cell_type": "markdown",
   "metadata": {},
   "source": [
    "#### Average Sales by Week Broken by Weekend"
   ]
  },
  {
   "cell_type": "markdown",
   "metadata": {},
   "source": [
    "Here, we are testing the method with its various arguments."
   ]
  },
  {
   "cell_type": "code",
   "execution_count": 14,
   "metadata": {
    "scrolled": true
   },
   "outputs": [
    {
     "data": {
      "image/png": "[encoded data removed]",
      "text/plain": [
       "<Figure size 432x288 with 1 Axes>"
      ]
     },
     "metadata": {
      "needs_background": "light"
     },
     "output_type": "display_data"
    }
   ],
   "source": [
    "plotDf(df, col='Sales', freq='W', hue='Weekend', agg='mean')"
   ]
  },
  {
   "cell_type": "markdown",
   "metadata": {},
   "source": [
    "# Restaurant Analysis\n",
    "In this section, we have three primary goals, (2) and (3) of which were desired of by the restaurant owner herself:\n",
    "\n",
    "**1. Determine whether customers tend to be more empathetic and give more tips after the first wave of COVID-19.**\n",
    "\n",
    "**2. Determine how to reduce menu itemization while minimizing loss.**\n",
    "\n",
    "**3. How to approach the pricing on certain menu items, namely rice and salad dishes.**"
   ]
  },
  {
   "cell_type": "markdown",
   "metadata": {},
   "source": [
    "### 1. Customer `Tip` Support?"
   ]
  },
  {
   "cell_type": "markdown",
   "metadata": {},
   "source": [
    "We can grasp a general sense of customer support / gratitude by viewing customer `Tips` over time."
   ]
  },
  {
   "cell_type": "code",
   "execution_count": 15,
   "metadata": {
    "scrolled": true
   },
   "outputs": [
    {
     "data": {
      "image/png": "[encoded data removed]",
      "text/plain": [
       "<Figure size 432x288 with 1 Axes>"
      ]
     },
     "metadata": {
      "needs_background": "light"
     },
     "output_type": "display_data"
    }
   ],
   "source": [
    "plotDf(df, col='Tips', freq='W')"
   ]
  },
  {
   "cell_type": "markdown",
   "metadata": {},
   "source": [
    "This graph gives us a general sense of total customer support using weekly sum of `Tips` as a metric. Although sum of `Tips` gives us some information, it does not answer the question of whether or not a higher *proportion* of customers are supporting the restaurant over time."
   ]
  },
  {
   "cell_type": "markdown",
   "metadata": {},
   "source": [
    "#### Percentage of `Tips` of Total `Sales + Tips` by Week"
   ]
  },
  {
   "cell_type": "markdown",
   "metadata": {},
   "source": [
    "We want to determine whether or not a higher *proportion* of customers are giving additional aid or support during or shortly after the large waves of COVID-19 cases. We can do this by redefining our approach and look at the **percentage of `Sales + Tips` that are tips**."
   ]
  },
  {
   "cell_type": "code",
   "execution_count": 51,
   "metadata": {},
   "outputs": [
    {
     "data": {
      "image/png": "[encoded data removed]",
      "text/plain": [
       "<Figure size 432x288 with 1 Axes>"
      ]
     },
     "metadata": {
      "needs_background": "light"
     },
     "output_type": "display_data"
    }
   ],
   "source": [
    "# creating new column for percentage of `Tips` of total `Sales + Tips`\n",
    "prop_tips = df['Tips'] / df['Sales + Tips']\n",
    "df = df.assign(**{'prop_tips': prop_tips})\n",
    "\n",
    "plotDf(df, col='prop_tips', title='Proportion of `Tips` by Day')"
   ]
  },
  {
   "cell_type": "markdown",
   "metadata": {},
   "source": [
    "Seeing this graph, it appears that the proportion of `Tips` are in fact higher after the initial surge of COVID-19. In order to test this statistically, a **2-Sample T-Test**. We will use 1 month's worth of data before and after the closure of this restaurant. \n",
    "\n",
    "*Note: we will use after-restaurant-closure data from roughly August 2020 to September 2020 because the months preceeding have several outlying observations*"
   ]
  },
  {
   "cell_type": "code",
   "execution_count": 49,
   "metadata": {},
   "outputs": [],
   "source": [
    "before = df[(df['Date'] > pd.to_datetime('January 15 2020')) & (df['Date'] < pd.to_datetime('February 15 2020'))]\n",
    "after = df[(df['Date'] > pd.to_datetime('August 2 2020')) & (df['Date'] < pd.to_datetime('September 2 2020'))]"
   ]
  },
  {
   "cell_type": "markdown",
   "metadata": {},
   "source": [
    "### 1 cont'd. Hypothesis Testing: 2-Sample T-Test"
   ]
  },
  {
   "cell_type": "markdown",
   "metadata": {},
   "source": [
    "**Null Hypothesis**: The mean percentage of tips before the COVID-19 closure is the **same** as the mean percentage of tips after the COVID-19 closure.\n",
    "\n",
    "**Alternative Hypothesis**: The mean percentage of tips after the COVID-19 closure **greater than** the mean percentage of tips before the COVID-19 closure.\n",
    "\n",
    "We will use a significance level of **alpha = 0.05**."
   ]
  },
  {
   "cell_type": "code",
   "execution_count": 50,
   "metadata": {},
   "outputs": [
    {
     "data": {
      "text/html": [
       "<div>\n",
       "<style scoped>\n",
       "    .dataframe tbody tr th:only-of-type {\n",
       "        vertical-align: middle;\n",
       "    }\n",
       "\n",
       "    .dataframe tbody tr th {\n",
       "        vertical-align: top;\n",
       "    }\n",
       "\n",
       "    .dataframe thead th {\n",
       "        text-align: right;\n",
       "    }\n",
       "</style>\n",
       "<table border=\"1\" class=\"dataframe\">\n",
       "  <thead>\n",
       "    <tr style=\"text-align: right;\">\n",
       "      <th></th>\n",
       "      <th>before</th>\n",
       "      <th>after</th>\n",
       "    </tr>\n",
       "  </thead>\n",
       "  <tbody>\n",
       "    <tr>\n",
       "      <td>count</td>\n",
       "      <td>30.000000</td>\n",
       "      <td>30.000000</td>\n",
       "    </tr>\n",
       "    <tr>\n",
       "      <td>mean</td>\n",
       "      <td>0.048912</td>\n",
       "      <td>0.058789</td>\n",
       "    </tr>\n",
       "    <tr>\n",
       "      <td>std</td>\n",
       "      <td>0.009449</td>\n",
       "      <td>0.008897</td>\n",
       "    </tr>\n",
       "  </tbody>\n",
       "</table>\n",
       "</div>"
      ],
      "text/plain": [
       "          before      after\n",
       "count  30.000000  30.000000\n",
       "mean    0.048912   0.058789\n",
       "std     0.009449   0.008897"
      ]
     },
     "execution_count": 50,
     "metadata": {},
     "output_type": "execute_result"
    }
   ],
   "source": [
    "# combining before and after statistics into a single dataframe for easier viewing\n",
    "before_stats = before.describe().loc[['count', 'mean', 'std'], 'prop_tips']\n",
    "after_stats = after.describe().loc[['count', 'mean', 'std'], 'prop_tips']\n",
    "stats = pd.DataFrame({'before': before_stats, 'after': after_stats})\n",
    "stats"
   ]
  },
  {
   "cell_type": "markdown",
   "metadata": {},
   "source": [
    "#### Test Statistic"
   ]
  },
  {
   "cell_type": "code",
   "execution_count": 54,
   "metadata": {},
   "outputs": [
    {
     "data": {
      "text/plain": [
       "4.168159303241813"
      ]
     },
     "execution_count": 54,
     "metadata": {},
     "output_type": "execute_result"
    }
   ],
   "source": [
    "a_n = stats.loc['count', 'after']\n",
    "a_mean = stats.loc['mean', 'after']\n",
    "a_std = stats.loc['std', 'after']\n",
    "\n",
    "b_n = stats.loc['count', 'before']\n",
    "b_mean = stats.loc['mean', 'before']\n",
    "b_std = stats.loc['std', 'before']\n",
    "\n",
    "t_stat = (\n",
    "    (a_mean - b_mean) / (np.sqrt(a_std**2/a_n + b_std**2/b_n))\n",
    ")\n",
    "t_stat"
   ]
  },
  {
   "cell_type": "markdown",
   "metadata": {},
   "source": [
    "#### Observed p-value"
   ]
  },
  {
   "cell_type": "code",
   "execution_count": 65,
   "metadata": {},
   "outputs": [
    {
     "data": {
      "image/png": "[encoded data removed]",
      "text/plain": [
       "<Figure size 432x288 with 1 Axes>"
      ]
     },
     "metadata": {
      "needs_background": "light"
     },
     "output_type": "display_data"
    },
    {
     "data": {
      "text/plain": [
       "1.53534652498537e-05"
      ]
     },
     "execution_count": 65,
     "metadata": {},
     "output_type": "execute_result"
    }
   ],
   "source": [
    "x_axis = np.arange(-5, 5, 0.001)\n",
    "plt.plot(x_axis, norm.pdf(x_axis,0,1))\n",
    "plt.plot(t_stat,0,'ro')\n",
    "plt.show()\n",
    "\n",
    "norm.cdf(-t_stat)"
   ]
  },
  {
   "cell_type": "markdown",
   "metadata": {},
   "source": [
    "#### Conclusion\n",
    "\n",
    "With a **p-value of 1.535e-5 < 0.05, we reject our null hypothesis**. We found statistically significanty evidence that the true mean percentage of tips is higher after the COVID-19 closure than before."
   ]
  },
  {
   "cell_type": "markdown",
   "metadata": {},
   "source": [
    "### 2. Reducing Menu Size\n",
    "In this section, we will reduce the menu size by looking at three particular items: **Egg Rolls**, **Chicken Skewers**, and **Firecracker Shrimp**. Currently, they have quantity choices for customers to choose from. A common complaint by the business owner is that it becomes hassling and awkward to clarify with the customer, \"how many pieces would you like for...?\" We will view previous months' sales history for these quantity choices to determine the optimal quantities."
   ]
  },
  {
   "cell_type": "code",
   "execution_count": 126,
   "metadata": {
    "scrolled": true
   },
   "outputs": [
    {
     "data": {
      "text/html": [
       "<div>\n",
       "<style scoped>\n",
       "    .dataframe tbody tr th:only-of-type {\n",
       "        vertical-align: middle;\n",
       "    }\n",
       "\n",
       "    .dataframe tbody tr th {\n",
       "        vertical-align: top;\n",
       "    }\n",
       "\n",
       "    .dataframe thead th {\n",
       "        text-align: right;\n",
       "    }\n",
       "</style>\n",
       "<table border=\"1\" class=\"dataframe\">\n",
       "  <thead>\n",
       "    <tr style=\"text-align: right;\">\n",
       "      <th></th>\n",
       "      <th>Appetizers</th>\n",
       "      <th>Qty</th>\n",
       "      <th>Total</th>\n",
       "    </tr>\n",
       "  </thead>\n",
       "  <tbody>\n",
       "    <tr>\n",
       "      <td>0</td>\n",
       "      <td>(3)</td>\n",
       "      <td>181</td>\n",
       "      <td>1,252.75</td>\n",
       "    </tr>\n",
       "    <tr>\n",
       "      <td>1</td>\n",
       "      <td>Egg Rolls (3)</td>\n",
       "      <td>181</td>\n",
       "      <td>0.00</td>\n",
       "    </tr>\n",
       "    <tr>\n",
       "      <td>2</td>\n",
       "      <td>(2)</td>\n",
       "      <td>170</td>\n",
       "      <td>837.80</td>\n",
       "    </tr>\n",
       "    <tr>\n",
       "      <td>3</td>\n",
       "      <td>Egg Rolls (3)</td>\n",
       "      <td>170</td>\n",
       "      <td>0.00</td>\n",
       "    </tr>\n",
       "    <tr>\n",
       "      <td>4</td>\n",
       "      <td>(3)</td>\n",
       "      <td>75</td>\n",
       "      <td>668.57</td>\n",
       "    </tr>\n",
       "    <tr>\n",
       "      <td>5</td>\n",
       "      <td>Chicken Skewers (3)</td>\n",
       "      <td>75</td>\n",
       "      <td>0.00</td>\n",
       "    </tr>\n",
       "    <tr>\n",
       "      <td>6</td>\n",
       "      <td>(2)</td>\n",
       "      <td>62</td>\n",
       "      <td>430.90</td>\n",
       "    </tr>\n",
       "    <tr>\n",
       "      <td>7</td>\n",
       "      <td>Chicken Skewers (3)</td>\n",
       "      <td>62</td>\n",
       "      <td>0.00</td>\n",
       "    </tr>\n",
       "    <tr>\n",
       "      <td>8</td>\n",
       "      <td>(4)</td>\n",
       "      <td>58</td>\n",
       "      <td>402.06</td>\n",
       "    </tr>\n",
       "    <tr>\n",
       "      <td>9</td>\n",
       "      <td>Firecracker Shrimp (5)</td>\n",
       "      <td>58</td>\n",
       "      <td>0.00</td>\n",
       "    </tr>\n",
       "    <tr>\n",
       "      <td>10</td>\n",
       "      <td>(7)</td>\n",
       "      <td>37</td>\n",
       "      <td>405.15</td>\n",
       "    </tr>\n",
       "    <tr>\n",
       "      <td>11</td>\n",
       "      <td>Firecracker Shrimp (5)</td>\n",
       "      <td>37</td>\n",
       "      <td>0.00</td>\n",
       "    </tr>\n",
       "    <tr>\n",
       "      <td>12</td>\n",
       "      <td>Rice</td>\n",
       "      <td>Qty</td>\n",
       "      <td>Total</td>\n",
       "    </tr>\n",
       "    <tr>\n",
       "      <td>13</td>\n",
       "      <td>pork</td>\n",
       "      <td>57</td>\n",
       "      <td>0.00</td>\n",
       "    </tr>\n",
       "    <tr>\n",
       "      <td>14</td>\n",
       "      <td>Saigon Rice Plate</td>\n",
       "      <td>57</td>\n",
       "      <td>736.21</td>\n",
       "    </tr>\n",
       "    <tr>\n",
       "      <td>15</td>\n",
       "      <td>Salad</td>\n",
       "      <td>Qty</td>\n",
       "      <td>Total</td>\n",
       "    </tr>\n",
       "    <tr>\n",
       "      <td>16</td>\n",
       "      <td>pork</td>\n",
       "      <td>107</td>\n",
       "      <td>0.00</td>\n",
       "    </tr>\n",
       "    <tr>\n",
       "      <td>17</td>\n",
       "      <td>Vermicelli Salad</td>\n",
       "      <td>107</td>\n",
       "      <td>1,379.83</td>\n",
       "    </tr>\n",
       "    <tr>\n",
       "      <td>18</td>\n",
       "      <td>chicken</td>\n",
       "      <td>36</td>\n",
       "      <td>0.00</td>\n",
       "    </tr>\n",
       "    <tr>\n",
       "      <td>19</td>\n",
       "      <td>Vermicelli Salad</td>\n",
       "      <td>36</td>\n",
       "      <td>466.20</td>\n",
       "    </tr>\n",
       "    <tr>\n",
       "      <td>20</td>\n",
       "      <td>shrimp</td>\n",
       "      <td>17</td>\n",
       "      <td>33.15</td>\n",
       "    </tr>\n",
       "    <tr>\n",
       "      <td>21</td>\n",
       "      <td>Vermicelli Salad</td>\n",
       "      <td>17</td>\n",
       "      <td>220.15</td>\n",
       "    </tr>\n",
       "  </tbody>\n",
       "</table>\n",
       "</div>"
      ],
      "text/plain": [
       "                Appetizers  Qty     Total\n",
       "0                      (3)  181  1,252.75\n",
       "1            Egg Rolls (3)  181      0.00\n",
       "2                      (2)  170    837.80\n",
       "3            Egg Rolls (3)  170      0.00\n",
       "4                      (3)   75    668.57\n",
       "5      Chicken Skewers (3)   75      0.00\n",
       "6                      (2)   62    430.90\n",
       "7      Chicken Skewers (3)   62      0.00\n",
       "8                      (4)   58    402.06\n",
       "9   Firecracker Shrimp (5)   58      0.00\n",
       "10                     (7)   37    405.15\n",
       "11  Firecracker Shrimp (5)   37      0.00\n",
       "12                    Rice  Qty     Total\n",
       "13                    pork   57      0.00\n",
       "14       Saigon Rice Plate   57    736.21\n",
       "15                   Salad  Qty     Total\n",
       "16                    pork  107      0.00\n",
       "17        Vermicelli Salad  107  1,379.83\n",
       "18                 chicken   36      0.00\n",
       "19        Vermicelli Salad   36    466.20\n",
       "20                  shrimp   17     33.15\n",
       "21        Vermicelli Salad   17    220.15"
      ]
     },
     "execution_count": 126,
     "metadata": {},
     "output_type": "execute_result"
    }
   ],
   "source": [
    "modifiers_09_20 = pd.read_csv('.\\data\\Modifiers 09-01-2020.csv')\n",
    "modifiers_09_20"
   ]
  },
  {
   "cell_type": "markdown",
   "metadata": {},
   "source": [
    "### Data Cleaning / Processing"
   ]
  },
  {
   "cell_type": "code",
   "execution_count": 143,
   "metadata": {},
   "outputs": [],
   "source": [
    "def clean_df2(df, month):\n",
    "    \n",
    "    temp = df.copy()\n",
    "    \n",
    "    # dropping `Qty`\n",
    "    temp = temp.drop('Qty', axis=1)\n",
    "    \n",
    "    # renaming rows\n",
    "    temp.loc[0, 'Appetizers'] = 'Egg Rolls (3)'\n",
    "    temp.loc[2, 'Appetizers'] = 'Egg Rolls (2)'\n",
    "    temp.loc[4, 'Appetizers'] = 'Chicken Skewers (3)'\n",
    "    temp.loc[6, 'Appetizers'] = 'Chicken Skewers (2)'\n",
    "    temp.loc[8, 'Appetizers'] = 'Firecracker Shrimp (4)'\n",
    "    temp.loc[10, 'Appetizers'] = 'Firecracker Shrimp (7)'\n",
    "    \n",
    "    # dropping all rows that do not contain pattern\n",
    "    temp = temp[temp['Appetizers'].str.contains('Egg|Chicken|Firecracker')]\n",
    "    temp = temp.iloc[range(0,len(temp),2),]\n",
    "    \n",
    "    # cleaning `Total` column\n",
    "    def clean_total(val):\n",
    "        val = val.replace(',','')\n",
    "        return float(val)\n",
    "    temp['Total'] = temp['Total'].apply(clean_total)\n",
    "    \n",
    "    # adding `Month` Column\n",
    "    temp = temp.assign(**{'Month': pd.to_datetime('{}-01-2020'.format(month))})\n",
    "    \n",
    "    return temp"
   ]
  },
  {
   "cell_type": "code",
   "execution_count": 151,
   "metadata": {},
   "outputs": [],
   "source": [
    "df2 = pd.DataFrame()\n",
    "\n",
    "# iterating through our 3 csv's\n",
    "for i in ('09','10','11'):\n",
    "    \n",
    "    # cleaning and joining each month's modifiers from September 2020 to December 2020\n",
    "    temp = pd.read_csv('.\\data\\Modifiers {}-01-2020.csv'.format(i))\n",
    "    df2 = pd.concat([df2, clean_df2(temp, month=i)])\n",
    "\n",
    "df2 = df2.reset_index(drop=True)"
   ]
  },
  {
   "cell_type": "code",
   "execution_count": 159,
   "metadata": {
    "scrolled": true
   },
   "outputs": [
    {
     "data": {
      "text/html": [
       "<div>\n",
       "<style scoped>\n",
       "    .dataframe tbody tr th:only-of-type {\n",
       "        vertical-align: middle;\n",
       "    }\n",
       "\n",
       "    .dataframe tbody tr th {\n",
       "        vertical-align: top;\n",
       "    }\n",
       "\n",
       "    .dataframe thead th {\n",
       "        text-align: right;\n",
       "    }\n",
       "</style>\n",
       "<table border=\"1\" class=\"dataframe\">\n",
       "  <thead>\n",
       "    <tr style=\"text-align: right;\">\n",
       "      <th></th>\n",
       "      <th></th>\n",
       "      <th>Total</th>\n",
       "    </tr>\n",
       "    <tr>\n",
       "      <th>Appetizers</th>\n",
       "      <th>Month</th>\n",
       "      <th></th>\n",
       "    </tr>\n",
       "  </thead>\n",
       "  <tbody>\n",
       "    <tr>\n",
       "      <td rowspan=\"3\" valign=\"top\">Chicken Skewers (2)</td>\n",
       "      <td>2020-09-01</td>\n",
       "      <td>430.90</td>\n",
       "    </tr>\n",
       "    <tr>\n",
       "      <td>2020-10-01</td>\n",
       "      <td>429.86</td>\n",
       "    </tr>\n",
       "    <tr>\n",
       "      <td>2020-11-01</td>\n",
       "      <td>335.69</td>\n",
       "    </tr>\n",
       "    <tr>\n",
       "      <td rowspan=\"3\" valign=\"top\">Chicken Skewers (3)</td>\n",
       "      <td>2020-09-01</td>\n",
       "      <td>668.57</td>\n",
       "    </tr>\n",
       "    <tr>\n",
       "      <td>2020-10-01</td>\n",
       "      <td>615.76</td>\n",
       "    </tr>\n",
       "    <tr>\n",
       "      <td>2020-11-01</td>\n",
       "      <td>456.45</td>\n",
       "    </tr>\n",
       "    <tr>\n",
       "      <td rowspan=\"3\" valign=\"top\">Egg Rolls (2)</td>\n",
       "      <td>2020-09-01</td>\n",
       "      <td>837.80</td>\n",
       "    </tr>\n",
       "    <tr>\n",
       "      <td>2020-10-01</td>\n",
       "      <td>721.22</td>\n",
       "    </tr>\n",
       "    <tr>\n",
       "      <td>2020-11-01</td>\n",
       "      <td>979.95</td>\n",
       "    </tr>\n",
       "    <tr>\n",
       "      <td rowspan=\"3\" valign=\"top\">Egg Rolls (3)</td>\n",
       "      <td>2020-09-01</td>\n",
       "      <td>1252.75</td>\n",
       "    </tr>\n",
       "    <tr>\n",
       "      <td>2020-10-01</td>\n",
       "      <td>1147.45</td>\n",
       "    </tr>\n",
       "    <tr>\n",
       "      <td>2020-11-01</td>\n",
       "      <td>706.12</td>\n",
       "    </tr>\n",
       "    <tr>\n",
       "      <td rowspan=\"3\" valign=\"top\">Firecracker Shrimp (4)</td>\n",
       "      <td>2020-09-01</td>\n",
       "      <td>402.06</td>\n",
       "    </tr>\n",
       "    <tr>\n",
       "      <td>2020-10-01</td>\n",
       "      <td>408.31</td>\n",
       "    </tr>\n",
       "    <tr>\n",
       "      <td>2020-11-01</td>\n",
       "      <td>283.56</td>\n",
       "    </tr>\n",
       "    <tr>\n",
       "      <td rowspan=\"3\" valign=\"top\">Firecracker Shrimp (7)</td>\n",
       "      <td>2020-09-01</td>\n",
       "      <td>405.15</td>\n",
       "    </tr>\n",
       "    <tr>\n",
       "      <td>2020-10-01</td>\n",
       "      <td>284.70</td>\n",
       "    </tr>\n",
       "    <tr>\n",
       "      <td>2020-11-01</td>\n",
       "      <td>328.50</td>\n",
       "    </tr>\n",
       "  </tbody>\n",
       "</table>\n",
       "</div>"
      ],
      "text/plain": [
       "                                     Total\n",
       "Appetizers             Month              \n",
       "Chicken Skewers (2)    2020-09-01   430.90\n",
       "                       2020-10-01   429.86\n",
       "                       2020-11-01   335.69\n",
       "Chicken Skewers (3)    2020-09-01   668.57\n",
       "                       2020-10-01   615.76\n",
       "                       2020-11-01   456.45\n",
       "Egg Rolls (2)          2020-09-01   837.80\n",
       "                       2020-10-01   721.22\n",
       "                       2020-11-01   979.95\n",
       "Egg Rolls (3)          2020-09-01  1252.75\n",
       "                       2020-10-01  1147.45\n",
       "                       2020-11-01   706.12\n",
       "Firecracker Shrimp (4) 2020-09-01   402.06\n",
       "                       2020-10-01   408.31\n",
       "                       2020-11-01   283.56\n",
       "Firecracker Shrimp (7) 2020-09-01   405.15\n",
       "                       2020-10-01   284.70\n",
       "                       2020-11-01   328.50"
      ]
     },
     "execution_count": 159,
     "metadata": {},
     "output_type": "execute_result"
    }
   ],
   "source": [
    "df2.groupby(['Appetizers', 'Month'])['Appetizers', 'Total'].agg('sum')"
   ]
  },
  {
   "cell_type": "markdown",
   "metadata": {},
   "source": [
    "Viewing this new table we can see that consistently over the months of September 2020 to November 2020, **Egg Rolls (3) and Chicken Skewers(3) make more than its other quantity**. The only item that did not see this consistent trend was Firecracker Shrimp, and therefore, it was suggested that the business owner could settle for whatever quantity she desired. She decided to go with an intermediate quantity of 5."
   ]
  },
  {
   "cell_type": "markdown",
   "metadata": {},
   "source": [
    "### 3. Price Changes"
   ]
  },
  {
   "cell_type": "code",
   "execution_count": null,
   "metadata": {},
   "outputs": [],
   "source": []
  }
 ],
 "metadata": {
  "kernelspec": {
   "display_name": "Python 3",
   "language": "python",
   "name": "python3"
  },
  "language_info": {
   "codemirror_mode": {
    "name": "ipython",
    "version": 3
   },
   "file_extension": ".py",
   "mimetype": "text/x-python",
   "name": "python",
   "nbconvert_exporter": "python",
   "pygments_lexer": "ipython3",
   "version": "3.7.4"
  }
 },
 "nbformat": 4,
 "nbformat_minor": 2
}
