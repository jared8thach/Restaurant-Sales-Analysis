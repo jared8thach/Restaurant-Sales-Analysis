{
 "cells": [
  {
   "cell_type": "markdown",
   "metadata": {},
   "source": [
    "# Synoposis:\n",
    "\n",
    "#### Introduction and Objective\n",
    "The <f color='red'>purpose</font> of this project is to analyze the daily sales and product sales history for an unnamed Vietnamese restaurant in the Inland Empire of California. We will recreate a POS dashboard which visualizes KPIs and metrics (such as daily/monthly sales, hourly sales heatmaps, and forecasting), suggest methods for reduction of menu itemization while minimizing profit loss, and suggest item price adjustments to increase profit. Also as an observational aside, we will determine whether or not tip amounts are statistically higher immediately after the onset of the COVID-19 pandemic.\n",
    " \n",
    "#### Methods Used\n",
    "- [Data Cleaning](#Data-Cleaning)\n",
    "- Data Visualization\n",
    "- Hypothesis Testing\n",
    "- [Link to the destination](#the_destination)\n",
    "\n",
    "#### Technologies\n",
    "Python and associated packages such as `Pandas`, `Matplotlib`, `Seaborn`, and `SciPy`.\n",
    "\n",
    "#### Contributors\n",
    "- Jared Thach - github/jared8thach\n",
    "- Anonymous Vietnamese restaurant located in the Inland Empire"
   ]
  },
  {
   "cell_type": "markdown",
   "metadata": {},
   "source": [
    "***"
   ]
  },
  {
   "cell_type": "markdown",
   "metadata": {},
   "source": [
    "# Table of Contents"
   ]
  },
  {
   "cell_type": "markdown",
   "metadata": {},
   "source": [
    "- <a href='#Header 1'>Importing Libraries</a> \n",
    "- <a href='#Header 2'>Data Cleaning / Pre-Processing</a>\n",
    "- <a href='#Header 3'>EDA / Restaurant Dashboard</a>\n",
    "    - <a href='#Header 3-1'>Monthly Sales Growth</a>\n",
    "    - <a href='#Header 3-2'>Forecasting Monthly Sales</a>\n",
    "    - <a href='#Header 3-3'>Heatmap of Average Number of Sales by Hour of the Week</a>\n",
    "    - <a href='#Header 3-4'>Heatmap of Average Total Sales by Hour of the Week</a>\n",
    "- <a href='#Header 4'>Restaurant Analysis</a>\n",
    "    - 1. <a href='#Header 4-1'>Reducing Menu Size</a>\n",
    "    - 2. <a href='#Header 4-2'>Price Changes</a>\n",
    "    - 3. <a href='#Header 4-3'>Customer Tip Before and After COVID-19 (Hypothesis Testing)</a>"
   ]
  },
  {
   "cell_type": "markdown",
   "metadata": {},
   "source": [
    "# <a id='Header 1'>Importing Libraries</a>"
   ]
  },
  {
   "cell_type": "code",
   "execution_count": 1,
   "metadata": {},
   "outputs": [],
   "source": [
    "import pandas as pd\n",
    "import numpy as np\n",
    "import seaborn as sns\n",
    "import matplotlib.pyplot as plt\n",
    "from scipy.stats import norm"
   ]
  },
  {
   "cell_type": "markdown",
   "metadata": {},
   "source": [
    "# <a id='Header 2'>Data Cleaning / Pre-Processing</a>"
   ]
  },
  {
   "cell_type": "markdown",
   "metadata": {},
   "source": [
    "Before conducting any form of exploratory data analysis or sales analysis, we must clean our dataset. <a id='the_destination'>a</a>"
   ]
  },
  {
   "cell_type": "code",
   "execution_count": 2,
   "metadata": {},
   "outputs": [
    {
     "data": {
      "text/html": [
       "<div>\n",
       "<style scoped>\n",
       "    .dataframe tbody tr th:only-of-type {\n",
       "        vertical-align: middle;\n",
       "    }\n",
       "\n",
       "    .dataframe tbody tr th {\n",
       "        vertical-align: top;\n",
       "    }\n",
       "\n",
       "    .dataframe thead th {\n",
       "        text-align: right;\n",
       "    }\n",
       "</style>\n",
       "<table border=\"1\" class=\"dataframe\">\n",
       "  <thead>\n",
       "    <tr style=\"text-align: right;\">\n",
       "      <th></th>\n",
       "      <th>Date</th>\n",
       "      <th>Non Taxable</th>\n",
       "      <th>Taxable</th>\n",
       "      <th>Discount</th>\n",
       "      <th>Tax</th>\n",
       "      <th>Sales</th>\n",
       "      <th>Cash</th>\n",
       "      <th>Card</th>\n",
       "      <th>Tips</th>\n",
       "      <th>Sales + Tips</th>\n",
       "    </tr>\n",
       "  </thead>\n",
       "  <tbody>\n",
       "    <tr>\n",
       "      <td>0</td>\n",
       "      <td>2020-01-01</td>\n",
       "      <td>0.0</td>\n",
       "      <td>0.0</td>\n",
       "      <td>0.0</td>\n",
       "      <td>0.0</td>\n",
       "      <td>0.0</td>\n",
       "      <td>0.0</td>\n",
       "      <td>0.0</td>\n",
       "      <td>0.0</td>\n",
       "      <td>0.0</td>\n",
       "    </tr>\n",
       "    <tr>\n",
       "      <td>1</td>\n",
       "      <td>2020-01-02</td>\n",
       "      <td>0.0</td>\n",
       "      <td>0.0</td>\n",
       "      <td>0.0</td>\n",
       "      <td>0.0</td>\n",
       "      <td>0.0</td>\n",
       "      <td>0.0</td>\n",
       "      <td>0.0</td>\n",
       "      <td>0.0</td>\n",
       "      <td>0.0</td>\n",
       "    </tr>\n",
       "    <tr>\n",
       "      <td>2</td>\n",
       "      <td>2020-01-03</td>\n",
       "      <td>0.0</td>\n",
       "      <td>0.0</td>\n",
       "      <td>0.0</td>\n",
       "      <td>0.0</td>\n",
       "      <td>0.0</td>\n",
       "      <td>0.0</td>\n",
       "      <td>0.0</td>\n",
       "      <td>0.0</td>\n",
       "      <td>0.0</td>\n",
       "    </tr>\n",
       "    <tr>\n",
       "      <td>3</td>\n",
       "      <td>2020-01-04</td>\n",
       "      <td>0.0</td>\n",
       "      <td>0.0</td>\n",
       "      <td>0.0</td>\n",
       "      <td>0.0</td>\n",
       "      <td>0.0</td>\n",
       "      <td>0.0</td>\n",
       "      <td>0.0</td>\n",
       "      <td>0.0</td>\n",
       "      <td>0.0</td>\n",
       "    </tr>\n",
       "    <tr>\n",
       "      <td>4</td>\n",
       "      <td>2020-01-05</td>\n",
       "      <td>0.0</td>\n",
       "      <td>0.0</td>\n",
       "      <td>0.0</td>\n",
       "      <td>0.0</td>\n",
       "      <td>0.0</td>\n",
       "      <td>0.0</td>\n",
       "      <td>0.0</td>\n",
       "      <td>0.0</td>\n",
       "      <td>0.0</td>\n",
       "    </tr>\n",
       "  </tbody>\n",
       "</table>\n",
       "</div>"
      ],
      "text/plain": [
       "         Date  Non Taxable  Taxable  Discount  Tax  Sales  Cash  Card  Tips  \\\n",
       "0  2020-01-01          0.0      0.0       0.0  0.0    0.0   0.0   0.0   0.0   \n",
       "1  2020-01-02          0.0      0.0       0.0  0.0    0.0   0.0   0.0   0.0   \n",
       "2  2020-01-03          0.0      0.0       0.0  0.0    0.0   0.0   0.0   0.0   \n",
       "3  2020-01-04          0.0      0.0       0.0  0.0    0.0   0.0   0.0   0.0   \n",
       "4  2020-01-05          0.0      0.0       0.0  0.0    0.0   0.0   0.0   0.0   \n",
       "\n",
       "   Sales + Tips  \n",
       "0           0.0  \n",
       "1           0.0  \n",
       "2           0.0  \n",
       "3           0.0  \n",
       "4           0.0  "
      ]
     },
     "execution_count": 2,
     "metadata": {},
     "output_type": "execute_result"
    }
   ],
   "source": [
    "def clean_daily(df):\n",
    "    \n",
    "    # saving the dataframe to a variable to return a clean copy without manipulating the actual dataset\n",
    "    temp = df.copy()\n",
    "    \n",
    "    # converting `Date Time` to datetime object for easier manipulation\n",
    "    temp['Date Time'] = temp['Date Time'].apply(lambda x: pd.to_datetime(x).date())\n",
    "\n",
    "    # dropping `Unnamed: 1` because it is an entirely null column\n",
    "    temp = temp.drop('Unnamed: 1', axis=1)\n",
    "\n",
    "    # dropping `Total Sales (Other Types)` because Lantern does not accept any other forms of sales in store\n",
    "    temp = temp.drop('Total Sales (Other Types)', axis=1)\n",
    "\n",
    "    # dropping `Service charges (Tax include)` because Lantern has no service charges\n",
    "    temp = temp.drop('Service charges (Tax include)', axis=1)\n",
    "\n",
    "    # dropping `Total Sales + SC` because Lantern has no services charges, and therefore, this column is identical to `Total Sales`\n",
    "    temp = temp.drop('Total Sales + SC', axis=1)\n",
    "\n",
    "    # dropping `Paid Balance` because Lantern does not use this feature\n",
    "    temp = temp.drop('Paid Balance', axis=1)\n",
    "\n",
    "    # finally, we will rename some columns to be less verbose\n",
    "    temp = temp.rename(\n",
    "        {'Date Time': 'Date', \n",
    "         'Total Sales': 'Sales',\n",
    "         'Total Sales (Cash)': 'Cash', \n",
    "         'Total Sales (Credit Card)': 'Card', \n",
    "         'Total Sales + SC + Tips': 'Sales + Tips'},\n",
    "        axis=1\n",
    "    )\n",
    "    \n",
    "    return temp\n",
    "\n",
    "daily_df = pd.read_csv('.\\data\\Daily Sales Breakdown 01-01-2020 to 01-31-2021.csv', thousands=',')\n",
    "daily_df = clean_daily(daily_df)\n",
    "daily_df.head()"
   ]
  },
  {
   "cell_type": "code",
   "execution_count": 3,
   "metadata": {},
   "outputs": [
    {
     "data": {
      "text/html": [
       "<div>\n",
       "<style scoped>\n",
       "    .dataframe tbody tr th:only-of-type {\n",
       "        vertical-align: middle;\n",
       "    }\n",
       "\n",
       "    .dataframe tbody tr th {\n",
       "        vertical-align: top;\n",
       "    }\n",
       "\n",
       "    .dataframe thead th {\n",
       "        text-align: right;\n",
       "    }\n",
       "</style>\n",
       "<table border=\"1\" class=\"dataframe\">\n",
       "  <thead>\n",
       "    <tr style=\"text-align: right;\">\n",
       "      <th></th>\n",
       "      <th>Receipt #</th>\n",
       "      <th>Date</th>\n",
       "      <th>By</th>\n",
       "      <th>Total</th>\n",
       "      <th>Day</th>\n",
       "      <th>Hour</th>\n",
       "    </tr>\n",
       "  </thead>\n",
       "  <tbody>\n",
       "    <tr>\n",
       "      <td>0</td>\n",
       "      <td>5585</td>\n",
       "      <td>2020-05-29 10:26:00</td>\n",
       "      <td>6005</td>\n",
       "      <td>2.56</td>\n",
       "      <td>4</td>\n",
       "      <td>10</td>\n",
       "    </tr>\n",
       "    <tr>\n",
       "      <td>1</td>\n",
       "      <td>5586</td>\n",
       "      <td>2020-05-29 10:29:00</td>\n",
       "      <td>6005</td>\n",
       "      <td>1.13</td>\n",
       "      <td>4</td>\n",
       "      <td>10</td>\n",
       "    </tr>\n",
       "    <tr>\n",
       "      <td>2</td>\n",
       "      <td>5587</td>\n",
       "      <td>2020-05-29 11:41:00</td>\n",
       "      <td>6005</td>\n",
       "      <td>10.00</td>\n",
       "      <td>4</td>\n",
       "      <td>11</td>\n",
       "    </tr>\n",
       "    <tr>\n",
       "      <td>3</td>\n",
       "      <td>5588</td>\n",
       "      <td>2020-05-29 11:43:00</td>\n",
       "      <td>6005</td>\n",
       "      <td>19.74</td>\n",
       "      <td>4</td>\n",
       "      <td>11</td>\n",
       "    </tr>\n",
       "    <tr>\n",
       "      <td>4</td>\n",
       "      <td>5589</td>\n",
       "      <td>2020-05-29 11:46:00</td>\n",
       "      <td>6005</td>\n",
       "      <td>5.33</td>\n",
       "      <td>4</td>\n",
       "      <td>11</td>\n",
       "    </tr>\n",
       "  </tbody>\n",
       "</table>\n",
       "</div>"
      ],
      "text/plain": [
       "   Receipt #                Date    By  Total  Day  Hour\n",
       "0       5585 2020-05-29 10:26:00  6005   2.56    4    10\n",
       "1       5586 2020-05-29 10:29:00  6005   1.13    4    10\n",
       "2       5587 2020-05-29 11:41:00  6005  10.00    4    11\n",
       "3       5588 2020-05-29 11:43:00  6005  19.74    4    11\n",
       "4       5589 2020-05-29 11:46:00  6005   5.33    4    11"
      ]
     },
     "execution_count": 3,
     "metadata": {},
     "output_type": "execute_result"
    }
   ],
   "source": [
    "def clean_hour(df):\n",
    "    \n",
    "    temp = df.copy()\n",
    "    \n",
    "    temp = temp[['Receipt #', 'Date', 'By', 'Total']]\n",
    "    \n",
    "    temp['Date'] = pd.to_datetime(temp['Date'])\n",
    "    \n",
    "    # getting day\n",
    "    day = temp['Date'].apply(lambda x: x.weekday())\n",
    "    temp = temp.assign(**{'Day': day})\n",
    "    \n",
    "    # getting hour\n",
    "    hour = temp['Date'].apply(lambda x: x.hour)\n",
    "    temp = temp.assign(**{'Hour': hour})\n",
    "    \n",
    "    # getting rows after COVID\n",
    "    temp = temp[temp['Date'].apply(lambda x: x.date()) > pd.to_datetime('2020-05-28')]\n",
    "    \n",
    "    return temp.reset_index(drop=True)\n",
    "\n",
    "hour_df = pd.read_csv('.\\data\\Sales Report - By Hour 01-01-2020 To 01-30-2021.csv', converters={'By': str})\n",
    "hour_df = clean_hour(hour_df)\n",
    "hour_df.head()"
   ]
  },
  {
   "cell_type": "code",
   "execution_count": 4,
   "metadata": {
    "scrolled": true
   },
   "outputs": [
    {
     "data": {
      "text/html": [
       "<div>\n",
       "<style scoped>\n",
       "    .dataframe tbody tr th:only-of-type {\n",
       "        vertical-align: middle;\n",
       "    }\n",
       "\n",
       "    .dataframe tbody tr th {\n",
       "        vertical-align: top;\n",
       "    }\n",
       "\n",
       "    .dataframe thead th {\n",
       "        text-align: right;\n",
       "    }\n",
       "</style>\n",
       "<table border=\"1\" class=\"dataframe\">\n",
       "  <thead>\n",
       "    <tr style=\"text-align: right;\">\n",
       "      <th></th>\n",
       "      <th>Appetizers</th>\n",
       "      <th>Month</th>\n",
       "      <th>Total</th>\n",
       "    </tr>\n",
       "  </thead>\n",
       "  <tbody>\n",
       "    <tr>\n",
       "      <td>0</td>\n",
       "      <td>Chicken Skewers (2)</td>\n",
       "      <td>2020-09-01</td>\n",
       "      <td>430.90</td>\n",
       "    </tr>\n",
       "    <tr>\n",
       "      <td>1</td>\n",
       "      <td>Chicken Skewers (2)</td>\n",
       "      <td>2020-10-01</td>\n",
       "      <td>429.86</td>\n",
       "    </tr>\n",
       "    <tr>\n",
       "      <td>2</td>\n",
       "      <td>Chicken Skewers (2)</td>\n",
       "      <td>2020-11-01</td>\n",
       "      <td>283.56</td>\n",
       "    </tr>\n",
       "    <tr>\n",
       "      <td>3</td>\n",
       "      <td>Chicken Skewers (3)</td>\n",
       "      <td>2020-09-01</td>\n",
       "      <td>668.57</td>\n",
       "    </tr>\n",
       "    <tr>\n",
       "      <td>4</td>\n",
       "      <td>Chicken Skewers (3)</td>\n",
       "      <td>2020-10-01</td>\n",
       "      <td>615.76</td>\n",
       "    </tr>\n",
       "  </tbody>\n",
       "</table>\n",
       "</div>"
      ],
      "text/plain": [
       "            Appetizers      Month   Total\n",
       "0  Chicken Skewers (2) 2020-09-01  430.90\n",
       "1  Chicken Skewers (2) 2020-10-01  429.86\n",
       "2  Chicken Skewers (2) 2020-11-01  283.56\n",
       "3  Chicken Skewers (3) 2020-09-01  668.57\n",
       "4  Chicken Skewers (3) 2020-10-01  615.76"
      ]
     },
     "execution_count": 4,
     "metadata": {},
     "output_type": "execute_result"
    }
   ],
   "source": [
    "def clean_mod(df, month):\n",
    "    \n",
    "    temp = df.copy()\n",
    "    \n",
    "    # dropping `Qty`\n",
    "    temp = temp.drop('Qty', axis=1)\n",
    "    \n",
    "    # renaming rows\n",
    "    temp.loc[0, 'Appetizers'] = 'Egg Rolls (3)'\n",
    "    temp.loc[2, 'Appetizers'] = 'Egg Rolls (2)'\n",
    "    temp.loc[4, 'Appetizers'] = 'Chicken Skewers (3)'\n",
    "    temp.loc[6, 'Appetizers'] = 'Chicken Skewers (2)'\n",
    "    temp.loc[8, 'Appetizers'] = 'Firecracker Shrimp (4)'\n",
    "    temp.loc[10, 'Appetizers'] = 'Firecracker Shrimp (7)'\n",
    "    \n",
    "    # dropping all rows that do not contain pattern\n",
    "    temp = temp[temp['Appetizers'].str.contains('Egg|Chicken|Firecracker')]\n",
    "    temp = temp.iloc[range(0,len(temp),2),]\n",
    "    \n",
    "    # cleaning `Total` column\n",
    "    def clean_total(val):\n",
    "        val = val.replace(',','')\n",
    "        return float(val)\n",
    "    temp['Total'] = temp['Total'].apply(clean_total)\n",
    "    \n",
    "    # adding `Month` Column\n",
    "    temp = temp.assign(**{'Month': pd.to_datetime('{}-01-2020'.format(month))})\n",
    "    \n",
    "    return temp\n",
    "\n",
    "mod_df = pd.DataFrame()\n",
    "\n",
    "# iterating through our 3 csv's from September 2020 to November 2020\n",
    "for i in ('09','10','11'):\n",
    "    \n",
    "    # cleaning and joining each month's modifiers\n",
    "    temp = pd.read_csv('.\\data\\Modifiers {}-01-2020.csv'.format(i))\n",
    "    mod_df = pd.concat([mod_df, clean_mod(temp, month=i)])\n",
    "\n",
    "mod_df = mod_df.reset_index(drop=True)\n",
    "mod_df = mod_df.groupby(['Appetizers', 'Month'])['Appetizers', 'Total'].agg('sum').reset_index()\n",
    "mod_df.head()"
   ]
  },
  {
   "cell_type": "code",
   "execution_count": 5,
   "metadata": {},
   "outputs": [
    {
     "data": {
      "text/html": [
       "<div>\n",
       "<style scoped>\n",
       "    .dataframe tbody tr th:only-of-type {\n",
       "        vertical-align: middle;\n",
       "    }\n",
       "\n",
       "    .dataframe tbody tr th {\n",
       "        vertical-align: top;\n",
       "    }\n",
       "\n",
       "    .dataframe thead th {\n",
       "        text-align: right;\n",
       "    }\n",
       "</style>\n",
       "<table border=\"1\" class=\"dataframe\">\n",
       "  <thead>\n",
       "    <tr style=\"text-align: right;\">\n",
       "      <th></th>\n",
       "      <th>Qty</th>\n",
       "      <th>Total</th>\n",
       "      <th>Item</th>\n",
       "      <th>Month</th>\n",
       "    </tr>\n",
       "  </thead>\n",
       "  <tbody>\n",
       "    <tr>\n",
       "      <td>0</td>\n",
       "      <td>71</td>\n",
       "      <td>1026.14</td>\n",
       "      <td>Spicy Basil</td>\n",
       "      <td>2020-07-01</td>\n",
       "    </tr>\n",
       "    <tr>\n",
       "      <td>1</td>\n",
       "      <td>30</td>\n",
       "      <td>418.5</td>\n",
       "      <td>Saigon Rice Plate</td>\n",
       "      <td>2020-07-01</td>\n",
       "    </tr>\n",
       "    <tr>\n",
       "      <td>2</td>\n",
       "      <td>118</td>\n",
       "      <td>1559.39</td>\n",
       "      <td>Vermicelli Salad</td>\n",
       "      <td>2020-07-01</td>\n",
       "    </tr>\n",
       "    <tr>\n",
       "      <td>3</td>\n",
       "      <td>67</td>\n",
       "      <td>997.25</td>\n",
       "      <td>Spicy Basil</td>\n",
       "      <td>2020-08-01</td>\n",
       "    </tr>\n",
       "    <tr>\n",
       "      <td>4</td>\n",
       "      <td>97</td>\n",
       "      <td>1332.32</td>\n",
       "      <td>Saigon Rice Plate</td>\n",
       "      <td>2020-08-01</td>\n",
       "    </tr>\n",
       "  </tbody>\n",
       "</table>\n",
       "</div>"
      ],
      "text/plain": [
       "   Qty    Total               Item      Month\n",
       "0   71  1026.14        Spicy Basil 2020-07-01\n",
       "1   30    418.5  Saigon Rice Plate 2020-07-01\n",
       "2  118  1559.39   Vermicelli Salad 2020-07-01\n",
       "3   67   997.25        Spicy Basil 2020-08-01\n",
       "4   97  1332.32  Saigon Rice Plate 2020-08-01"
      ]
     },
     "execution_count": 5,
     "metadata": {},
     "output_type": "execute_result"
    }
   ],
   "source": [
    "def clean_best(df):\n",
    "    \n",
    "    temp = df.copy()\n",
    "    \n",
    "    temp['Total (Tax included)'] = temp['Total (Tax included)'].str.replace(',','').astype(float)\n",
    "    \n",
    "    basil = temp.loc[temp['Description'].str.lower().str.contains('basil'),].sum()[2:]\n",
    "    saigon = temp.loc[temp['Description'].str.lower().str.contains('saigon'),].sum()[2:]\n",
    "    vermicelli = temp.loc[temp['Description'].str.lower().str.contains('salad'),].loc[temp['Description'].str.lower().str.contains('side') == 0,].sum()[2:]\n",
    "    \n",
    "#     pho = temp.loc[temp['Description'].str.lower().str.contains('pho'),]\n",
    "#     banh_mi = temp.loc[temp['Description'].str.lower().str.contains('banh'),]\n",
    "\n",
    "    temp = pd.DataFrame({'Spicy Basil': basil, 'Saigon Rice Plate': saigon, 'Vermicelli Salad': vermicelli})\n",
    "    temp = temp.T.rename(columns={'Total (Tax included)': 'Total'})\n",
    "    temp = temp.assign(**{'Item': temp.index}).reset_index(drop=True)\n",
    "    \n",
    "    return temp\n",
    "\n",
    "best_df = pd.DataFrame()\n",
    "\n",
    "# iterating through our 5 csv's from July 2020 to November 2020\n",
    "for i, j in zip(('07', '08', '09', '10', '11', '01'), ('2020', '2020', '2020', '2020', '2020', '2021')):\n",
    "    \n",
    "    # cleaning and joining each month's items\n",
    "    temp = pd.read_csv('.\\data\\Best & Worst Sold Items {}-01-{}.csv'.format(i, j))\n",
    "    temp = clean_best(temp)\n",
    "    temp = temp.assign(**{'Month': pd.to_datetime(i + '-01-' + j)})\n",
    "    \n",
    "    best_df = pd.concat([best_df, temp]).reset_index(drop=True)\n",
    "    \n",
    "best_df.head()"
   ]
  },
  {
   "cell_type": "markdown",
   "metadata": {},
   "source": [
    "# <a id='Header 3'>EDA / Restaurant Dashboard</a>"
   ]
  },
  {
   "cell_type": "markdown",
   "metadata": {},
   "source": [
    "This particular restaurant opened for its first day of business on **January 11th 2020**. However, due to the unfortunate circumstances of COVID-19, this restaurant was prompted to close for a few months (between **March 16th 2020** and **May 28th 2020**), possibly thwarting its initial \"Grand Opening\" buzz as indicated by the low sales on its re-opening. Quickly plotting the entire sales history, we get the following:"
   ]
  },
  {
   "cell_type": "markdown",
   "metadata": {},
   "source": [
    "#### Daily Sales"
   ]
  },
  {
   "cell_type": "code",
   "execution_count": 6,
   "metadata": {},
   "outputs": [
    {
     "data": {
      "text/html": [
       "<div>\n",
       "<style scoped>\n",
       "    .dataframe tbody tr th:only-of-type {\n",
       "        vertical-align: middle;\n",
       "    }\n",
       "\n",
       "    .dataframe tbody tr th {\n",
       "        vertical-align: top;\n",
       "    }\n",
       "\n",
       "    .dataframe thead th {\n",
       "        text-align: right;\n",
       "    }\n",
       "</style>\n",
       "<table border=\"1\" class=\"dataframe\">\n",
       "  <thead>\n",
       "    <tr style=\"text-align: right;\">\n",
       "      <th></th>\n",
       "      <th>Date</th>\n",
       "      <th>Non Taxable</th>\n",
       "      <th>Taxable</th>\n",
       "      <th>Discount</th>\n",
       "      <th>Tax</th>\n",
       "      <th>Sales</th>\n",
       "      <th>Cash</th>\n",
       "      <th>Card</th>\n",
       "      <th>Tips</th>\n",
       "      <th>Sales + Tips</th>\n",
       "    </tr>\n",
       "  </thead>\n",
       "  <tbody>\n",
       "    <tr>\n",
       "      <td>30</td>\n",
       "      <td>2020-01-31</td>\n",
       "      <td>0.00</td>\n",
       "      <td>868.11</td>\n",
       "      <td>4.97</td>\n",
       "      <td>67.62</td>\n",
       "      <td>930.76</td>\n",
       "      <td>226.44</td>\n",
       "      <td>704.32</td>\n",
       "      <td>55.49</td>\n",
       "      <td>986.25</td>\n",
       "    </tr>\n",
       "    <tr>\n",
       "      <td>31</td>\n",
       "      <td>2020-02-01</td>\n",
       "      <td>1.91</td>\n",
       "      <td>1206.41</td>\n",
       "      <td>12.02</td>\n",
       "      <td>93.63</td>\n",
       "      <td>1289.93</td>\n",
       "      <td>361.02</td>\n",
       "      <td>928.91</td>\n",
       "      <td>61.27</td>\n",
       "      <td>1351.20</td>\n",
       "    </tr>\n",
       "    <tr>\n",
       "      <td>32</td>\n",
       "      <td>2020-02-02</td>\n",
       "      <td>5.00</td>\n",
       "      <td>843.23</td>\n",
       "      <td>12.61</td>\n",
       "      <td>65.11</td>\n",
       "      <td>900.73</td>\n",
       "      <td>236.62</td>\n",
       "      <td>664.11</td>\n",
       "      <td>42.18</td>\n",
       "      <td>942.91</td>\n",
       "    </tr>\n",
       "    <tr>\n",
       "      <td>33</td>\n",
       "      <td>2020-02-03</td>\n",
       "      <td>0.00</td>\n",
       "      <td>885.27</td>\n",
       "      <td>7.22</td>\n",
       "      <td>68.62</td>\n",
       "      <td>946.67</td>\n",
       "      <td>199.29</td>\n",
       "      <td>747.38</td>\n",
       "      <td>36.84</td>\n",
       "      <td>983.51</td>\n",
       "    </tr>\n",
       "    <tr>\n",
       "      <td>34</td>\n",
       "      <td>2020-02-04</td>\n",
       "      <td>0.00</td>\n",
       "      <td>703.26</td>\n",
       "      <td>6.92</td>\n",
       "      <td>54.55</td>\n",
       "      <td>750.89</td>\n",
       "      <td>202.77</td>\n",
       "      <td>548.12</td>\n",
       "      <td>42.81</td>\n",
       "      <td>793.70</td>\n",
       "    </tr>\n",
       "  </tbody>\n",
       "</table>\n",
       "</div>"
      ],
      "text/plain": [
       "          Date  Non Taxable  Taxable  Discount    Tax    Sales    Cash  \\\n",
       "30  2020-01-31         0.00   868.11      4.97  67.62   930.76  226.44   \n",
       "31  2020-02-01         1.91  1206.41     12.02  93.63  1289.93  361.02   \n",
       "32  2020-02-02         5.00   843.23     12.61  65.11   900.73  236.62   \n",
       "33  2020-02-03         0.00   885.27      7.22  68.62   946.67  199.29   \n",
       "34  2020-02-04         0.00   703.26      6.92  54.55   750.89  202.77   \n",
       "\n",
       "      Card   Tips  Sales + Tips  \n",
       "30  704.32  55.49        986.25  \n",
       "31  928.91  61.27       1351.20  \n",
       "32  664.11  42.18        942.91  \n",
       "33  747.38  36.84        983.51  \n",
       "34  548.12  42.81        793.70  "
      ]
     },
     "execution_count": 6,
     "metadata": {},
     "output_type": "execute_result"
    }
   ],
   "source": [
    "# having a look at our daily sales\n",
    "daily_df.iloc[30:35,]"
   ]
  },
  {
   "cell_type": "code",
   "execution_count": 7,
   "metadata": {
    "scrolled": true
   },
   "outputs": [
    {
     "name": "stderr",
     "output_type": "stream",
     "text": [
      "C:\\Users\\jared\\Anaconda3\\lib\\site-packages\\pandas\\plotting\\_matplotlib\\converter.py:103: FutureWarning: Using an implicitly registered datetime converter for a matplotlib plotting method. The converter was registered by pandas on import. Future versions of pandas will require you to explicitly register matplotlib converters.\n",
      "\n",
      "To register the converters:\n",
      "\t>>> from pandas.plotting import register_matplotlib_converters\n",
      "\t>>> register_matplotlib_converters()\n",
      "  warnings.warn(msg, FutureWarning)\n"
     ]
    },
    {
     "data": {
      "text/plain": [
       "<matplotlib.legend.Legend at 0x28dab2b6d08>"
      ]
     },
     "execution_count": 7,
     "metadata": {},
     "output_type": "execute_result"
    },
    {
     "data": {
      "image/png": "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\n",
      "text/plain": [
       "<Figure size 432x288 with 1 Axes>"
      ]
     },
     "metadata": {
      "needs_background": "light"
     },
     "output_type": "display_data"
    }
   ],
   "source": [
    "# assigning new `Weekend` column\n",
    "daily_df = daily_df.assign(**{'Weekend': daily_df['Date'].apply(lambda x: 1 if x.weekday() in [4,5,6] else 0)})\n",
    "\n",
    "# plotting\n",
    "sns.lineplot(x='Date', y='Sales + Tips', hue='Weekend', data=daily_df)\n",
    "plt.title('Daily Sales from 1-1-2020 to 1-31-2021');\n",
    "plt.xticks(rotation=45);\n",
    "plt.legend(bbox_to_anchor=(1,1))"
   ]
  },
  {
   "cell_type": "markdown",
   "metadata": {},
   "source": [
    "#### Average Sales by Day of Week"
   ]
  },
  {
   "cell_type": "code",
   "execution_count": 8,
   "metadata": {},
   "outputs": [
    {
     "data": {
      "image/png": "iVBORw0KGgoAAAANSUhEUgAAAYsAAAEWCAYAAACXGLsWAAAABHNCSVQICAgIfAhkiAAAAAlwSFlzAAALEgAACxIB0t1+/AAAADh0RVh0U29mdHdhcmUAbWF0cGxvdGxpYiB2ZXJzaW9uMy4xLjEsIGh0dHA6Ly9tYXRwbG90bGliLm9yZy8QZhcZAAAgAElEQVR4nO3deZhcVbnv8e8vCTNCgDQISUhQAjIICM3kAAhHJtGAlyhRICje3HMEHHAC9R4GxYtHPQiHMUokIKOgh4hwQgQhgAQJU5hEW6Y0SUhDBmYw8N4/1iqyU6nq3YldVR3693meenrvtVft/VZ19373WmsPigjMzMy6M6DVAZiZWd/nZGFmZqWcLMzMrJSThZmZlXKyMDOzUk4WZmZWysnCrAZJt0j6Yl9fZ18g6RBJsyS9JOkDLYzjKEm3t2r773ROFva2vDNbIGm1VsfSGyRtI+nG/JkWSrpH0oGtjuufJWmkpMg755ckPSvpOkkfa1FIPwGOjYi1I+K+qlgvkHRuYX4VSS/XKdutiTHbcnKyMCDtgICPAAF8skHbGNSI9Xbjd8BUYCNgQ+DLwAtNjqGRBkfE2sD2pM/5W0lHtSCOEcDDdZZNA/YszLcDTwN7VJUB3NP7oVlvcbKwiiOB6cBFwLhKoaTdJM2VNLBQdoikmXl6gKQTJP1d0vOSrpK0fl5WOQI+WtLTwM25/Nd5nYskTZO0TWHdG0j6naQXJN0t6QfFrgVJ75M0VdJ8SY9J+nStDyNpCLAZ8POIeCO/7oiI2/Py9fLReFdueVwnaVi9L0fSFyQ9mutOkTQil0vSGZLm5c8zU9K23XzP75X051z32sJ39XtJx1Vtc6akg7tZFwARMTcizgROBn4kaUB+f+X38qKkRyQdkstXy9/f+wvb2lDSq5Laanz2AZK+J+mp/DkvlrRuXs9LwEDgAUl/rxHercBW+fcB6YDkCmCtqrI7I+IfeXu7SfpTbg0+IGmvQizrSrpQ0hxJz+S/j4HUIOnHkm6XtG7Zd2jlnCys4kjg0vzaT9JGABExHXgZ2LtQ97PAZXn6y8DBpKPHTYAFwDlV694T2ArYL8/fAIwiHe3fm7dZcU7e3rtJSauYuNYiHUFflt87Fji3mGwKngc6gF9JOrjyeQoGAL8kHRVvCrwKnF1jPeQd9neATwFtwG3A5XnxvqSj5C2AwcBn8rbrORL4Aum7WgyclcsnAYcXtrk9MBS4vpt1VfsN6XvZMs//nbQjXhc4hfRdbBwRr5N22IcX3jsW+ENEdNVY71H59VHgPcDawNkR8Xpu2QBsHxHvrX5jRHQCT+U4IH1XtwF/qiqblj/3UOD3wA+A9YFvANcUktgk0ve2OfAB0ve/1DhQTm4/B7YD9o2IRTU+ky2viPCrn7+ADwP/AIbk+b8AXyss/wEwMU+/i7QzH5HnHwX2KdTdOK9rEDCS1K31nm62PTjXWZd0hPoPYMuqbd+epz8D3Fb1/guAk+qsexgpAfwdeIu0QxpVp+4OwILC/C3AF/P0DcDRhWUDgFdIiWZv4K/AbsCAku/5FuD0wvzWwBv5c68GzK/ERxoHOLfOeirf66Cq8tVz+YfqvO9+YHSe3hWYVYkZmAF8us77bgK+VJjfsvI7zvMBbN7N574IOCN/b/OANYF/LZQtAPbMdb8NXFL1/imkg4aNgNeBNQrLxgJ/zNNHAXcBVwLXAKu2+n/rnfRyy8Ig/SPeGBHP5fnLKBzR5/lPKQ18fwq4NyKeystGkPrKF0paSEoeb5L+sStmVSYkDZR0eu4eeQF4Mi8aQjpqH1SsXzU9Ati1sq28vc+RWiHLiIjOiDg20hHvCFKSuzjHsabS4OtTOY5pwOA6XRojgDML25wPCBgaETeTEtI5wLOSJkhap1Y8NT7PU8AqpCT9OnAVcHjuRhoLXNLNemoZmn/Oz5/xSEn3F+LelvQ9ExF35e9jT0nvIx2pT66z3k1yrMW4B7H077g700ith/cDj0fEK8DthbI1SDt5SN/1mKrf8YdJByEjSN/XnMKyC0itqYrNgdHAKRHxRg/jsx5o9oCj9TGS1gA+DQyUNDcXr0bacW4fEQ9ExCOSngIOYOkuKEg7vy9ExB011j0yTxZvbfxZ0j/zv5ASxbqkI0sBXaQuhmGko3WA4VXbujUilvusn4iYJekclnQffZ10hLxrRMyVtANwX46j2izgtIi4tMYyIuIs4CxJG5J2+N8E/m+dUIqfZ1PSEXolSU8iJYjbgVci4s6efr7sENKR+2N5TOXnwD6k8YA3Jd3P0p+v0vU1F7g6Il6rs97ZpB11Me7FwLM9jGsaMAH4OKkLCtKA+PBcdndh27NILYv/Xb0SSRuTWhZDImJxnW09SkrcN0jaOyIe62GMVsItCzuY1BLYmtQVswNpfOE2Uv96xWWk8Yk9gF8Xys8HTisM+LZJGt3N9t5F+od/ntQd8cPKgoh4k9TvfnI+8n9fVQzXAVtIOkLpdMtVJO0saavqjSgNYJ8iafPchz2ENFYwvRDHq8DCPMh8Ujcxnw+cWBkbyYOsY/L0zpJ2lbQK6Uj9NdL3Wc/hkraWtCZwKmkn/Wb+/HeSust+ynK0KiRtJOnY/BlOjIi3gLVISbor1/k8qWVRdAkpwRxObnHVcTnwNUmbSVqb9Du7spsd9lIiooOUWL5CThaR+o3uymXTCtV/BXxC0n65Fbq6pL0kDYuIOcCNwE8lrZN/r++VtGfV9i4njTH9QdIy4yi2YpwsbBzwy4h4OtJZNXMjYi6pa+VzWnK66+XAXsDNhe4qgDNJ3Rc3SnqRtDPetZvtXUzqxngGeIQlO++KY0mtjbmkndnlpORCRLxIGtA8jHS0Oxf4EaklVO0NUt/+H0inyz6U13NUXv4zUvfHczmG/6kXcET8Nm/nitxl9RCplQWwDukIfkH+XM+TxhvquYTUhz+XNMbw5arlF5O6Zn7VzToqFkp6GXgQOBAYExETc8yPkJLOnaQd9fuBpVp/kQaf7yUllduob2KOexrwBCkhHtdN/VqmkboZizHcRupCejtZRMQsUsvzO6REN4vUUqvsq44EViX97SwAriZ1US0lIiaRkvHNhRau/ROUErxZ3yTpR8C7I2JcaeV3AElHAuMj4sNN2t5EYHZEfK8Z27OVl8csrE/JXU+rko6WdwaOpurUyHeq3DX1JeDcsrq9tL2RpBMWWnaLDlt5uBvK+pp3kcYtXiYNFv8UuLalETWBpP1I3S7PsvQJBI3a3vdJ3Wk/jognGr09W/m5G8rMzEq5ZWFmZqXekWMWQ4YMiZEjR7Y6DDOzlco999zzXEQsc38weIcmi5EjRzJjxoxWh2FmtlLJF9/W5G4oMzMr1bBkIWmi0u2MH6oqP07p1tIPS/qPQvmJkjrysv0K5fvnsg5JJzQqXjMzq6+R3VAXka4Cfvs2ApI+Sro6c7uIeD3fSwdJW5Ouyt2GdNOyP0jaIr/tHOBjQCdwt6TJ+epUMzNrkoYli4iYVuMy+38j3aK5cvuGebl8NHBFLn9CUgewS17WERGPA0i6Itd1sjAza6Jmj1lsAXxE0l2SbpW0cy4fytK3bu7MZfXKzcysiZp9NtQgYD3Sg2J2Bq6S9B5q3xY6qJ3Mal5FKGk8MB5g00037ZVgzcwsaXbLohP4TSR/Jt2OeUguL97nfxjprqL1ypcRERMioj0i2tvaap4mbGZmK6jZyeK/yc9yzgPYq5JuET0ZOEzpAfCbkZ7P/GfgbmBUvo/+qqRB8HpP8zIzswZpWDeUpMrzD4ZI6iQ9mGUiMDGfTvsGMC4/BOVhSVeRBq4XA8dUHgiTH+oyhfSc4okR8XCjYjYzs9rekTcSbG9vD1/BbWZ9waOn3dzqEGra6rt7L1Mm6Z6IaK9V31dwm5lZKScLMzMr5WRhZmalnCzMzKyUk4WZmZVysjAzs1JOFmZmVsrJwszMSjlZmJlZKScLMzMr5WRhZmalmv08CzOz5XLa4Ye2OoS6vvurq1sdQtO4ZWFmZqWcLMzMrJSThZmZlXKyMDOzUk4WZmZWysnCzMxKNSxZSJooaV5+3nb1sm9ICklD8rwknSWpQ9JMSTsW6o6T9Lf8GteoeM3MrL5GtiwuAvavLpQ0HPgY8HSh+ABgVH6NB87LddcHTgJ2BXYBTpK0XgNjNjOzGhqWLCJiGjC/xqIzgG8BUSgbDVwcyXRgsKSNgf2AqRExPyIWAFOpkYDMzKyxmjpmIemTwDMR8UDVoqHArMJ8Zy6rV15r3eMlzZA0o6urqxejNjOzpiULSWsC3wX+vdbiGmXRTfmyhRETIqI9Itrb2tpWPFAzM1tGM1sW7wU2Ax6Q9CQwDLhX0rtJLYbhhbrDgNndlJuZWRM1LVlExIMRsWFEjIyIkaREsGNEzAUmA0fms6J2AxZFxBxgCrCvpPXywPa+uczMzJqokafOXg7cCWwpqVPS0d1Uvx54HOgAfg58CSAi5gPfB+7Or1NzmZmZNVHDblEeEWNLlo8sTAdwTJ16E4GJvRqcmZktF1/BbWZmpZwszMyslJOFmZmVcrIwM7NSThZmZlbKycLMzEo5WZiZWSknCzMzK+VkYWZmpZwszMyslJOFmZmVcrIwM7NSThZmZlbKycLMzEo17BblZtZ3nP3137U6hJqO/eknWh2C9ZBbFmZmVsrJwszMSjXysaoTJc2T9FCh7MeS/iJppqTfShpcWHaipA5Jj0nar1C+fy7rkHRCo+I1M7P6GtmyuAjYv6psKrBtRGwH/BU4EUDS1sBhwDb5PedKGihpIHAOcACwNTA21zUzsyZqWLKIiGnA/KqyGyNicZ6dDgzL06OBKyLi9Yh4AugAdsmvjoh4PCLeAK7Idc3MrIlaOWbxBeCGPD0UmFVY1pnL6pUvQ9J4STMkzejq6mpAuGZm/VdLkoWk7wKLgUsrRTWqRTflyxZGTIiI9ohob2tr651AzcwMaMF1FpLGAQcB+0REZcffCQwvVBsGzM7T9crNzKxJmtqykLQ/8G3gkxHxSmHRZOAwSatJ2gwYBfwZuBsYJWkzSauSBsEnNzNmMzNrYMtC0uXAXsAQSZ3ASaSzn1YDpkoCmB4R/xoRD0u6CniE1D11TES8mddzLDAFGAhMjIiHGxWzmZnV1rBkERFjaxRf2E3904DTapRfD1zfi6GZmdly8hXcZmZWysnCzMxKOVmYmVkpJwszMyvlZGFmZqWcLMzMrJSThZmZlXKyMDOzUk4WZmZWysnCzMxKOVmYmVkpJwszMyvlZGFmZqWa/vAj658+9F8fanUINd1x3B2tDsFspeCWhZmZlXKyMDOzUk4WZmZWysnCzMxKNfIZ3BOBg4B5EbFtLlsfuBIYCTwJfDoiFig9kPtM4EDgFeCoiLg3v2cc8L282h9ExKQViWenb1684h+mge758ZGtDsHMrFQjWxYXAftXlZ0A3BQRo4Cb8jzAAcCo/BoPnAdvJ5eTgF2BXYCTJK3XwJjNzKyGhiWLiJgGzK8qHg1UWgaTgIML5RdHMh0YLGljYD9gakTMj4gFwFSWTUBmZtZgzR6z2Cgi5gDknxvm8qHArEK9zlxWr3wZksZLmiFpRldXV68HbmbWn/WVAW7VKItuypctjJgQEe0R0d7W1tarwZmZ9XfNThbP5u4l8s95ubwTGF6oNwyY3U25mZk1UbNv9zEZGAecnn9eWyg/VtIVpMHsRRExR9IU4IeFQe19gRObHLMZt+6xZ6tDqGnPabe2OgTrJxp56uzlwF7AEEmdpLOaTgeuknQ08DQwJle/nnTabAfp1NnPA0TEfEnfB+7O9U6NiOpBczMza7CGJYuIGFtn0T416gZwTJ31TAQm9mJoZma2nPrKALeZmfVhThZmZlbKz7NYSTx96vtbHUJNm/77g60OwcyawC0LMzMr5WRhZmalnCzMzKzUcicLSQMkrdOIYMzMrG/qUbKQdJmkdSStBTwCPCbpm40NzczM+oqetiy2jogXSLcUvx7YFDiiYVGZmVmf0tNksYqkVUjJ4tqI+Ad17v5qZmbvPD1NFheQHoO6FjBN0gjghUYFZWZmfUuPLsqLiLOAswpFT0n6aGNCMjOzvqanA9wbSbpQ0g15fmvSLcbNzKwf6Gk31EXAFGCTPP9X4KuNCMjMzPqeniaLIRFxFfAWQEQsBt5sWFRmZtan9DRZvCxpA/IZUJJ2AxY1LCozM+tTenrX2eNJjz59r6Q7gDbg0IZFZWZmfUpPz4a6V9KewJaAgMfytRYrRNLXgC+SWioPkh6jujFwBbA+cC9wRES8IWk14GJgJ+B54DMR8eSKbtvMzJZft8lC0qfqLNpCEhHxm+XdoKShwJdJV4W/Kukq4DDSM7jPiIgrJJ0PHA2cl38uiIjNJR0G/Aj4zPJu18zMVlxZy+IT3SwLYLmTRWG7a0j6B7AmMAfYG/hsXj4JOJmULEbnaYCrgbMlKT+328zMmqDbZBERn+/tDUbEM5J+AjwNvArcCNwDLMxnWQF0AkPz9FBgVn7vYkmLgA2A54rrlTQeGA+w6aab9nbYZmb9Wo8fqyrp48A2wOqVsog4dXk3KGk9UmthM2Ah8GvggBpVKy0HdbNsSUHEBGACQHt7u1sdZma9qKdXcJ9PGic4jrTzHgOMWMFt/gvwRER05UHy3wAfBAZLqiSvYcDsPN0JDM9xDALWBeav4LbNzGwF9PQ6iw9GxJGkgeZTgN3JO/AV8DSwm6Q1JQnYh/SMjD+y5HTcccC1eXoyS24tcihws8crzMyaq6fJ4tX88xVJmwCLSd1Iyy0i7iINVN9LOm12AKn76NvA8ZI6SGMSF+a3XAhskMuPB05Yke2amdmK6+mYxXWSBgP/QRqMBvjFim40Ik4CTqoqfhzYpUbd10jdXmZm1iJl11nsDMyKiO/n+bVJrYG/AGc0PjwzM+sLyrqhLgDeAJC0B3B6LltEPvPIzMze+cq6oQZGROXMo88AEyLiGuAaSfc3NjQzM+sryloWAwuns+4D3FxY1uNrNMzMbOVWtsO/HLhV0nOkM6JuA5C0Ob5FuZlZv1F2u4/TJN1EuiPsjYXrGwaQLtAzM7N+oLQrKSKm1yj7a2PCMTOzvqinF+WZmVk/5mRhZmalnCzMzKyUk4WZmZVysjAzs1JOFmZmVsrJwszMSjlZmJlZKScLMzMr5WRhZmalWpIsJA2WdLWkv0h6VNLuktaXNFXS3/LP9XJdSTpLUoekmZJ2bEXMZmb9WataFmcC/xMR7wO2Bx4lPVv7pogYBdzEkmdtHwCMyq/xwHnND9fMrH9rerKQtA6wB3AhQES8ERELgdHApFxtEnBwnh4NXBzJdGCwpI2bHLaZWb/WipbFe4Au4JeS7pP0C0lrARtFxByA/HPDXH8oMKvw/s5cZmZmTdKKZDEI2BE4LyI+ALzMki6nWlSjLJapJI2XNEPSjK6urt6J1MzMgNYki06gMyLuyvNXk5LHs5XupfxzXqH+8ML7hwGzq1caERMioj0i2tva2hoWvJlZf9T0ZBERc4FZkrbMRfsAjwCTgXG5bBxwbZ6eDByZz4raDVhU6a4yM7PmKH1SXoMcB1wqaVXgceDzpMR1laSjgaeBMbnu9cCBQAfwSq5rZmZN1JJkERH3A+01Fu1To24AxzQ8KDMzq8tXcJuZWSknCzMzK+VkYWZmpZwszMyslJOFmZmVcrIwM7NSThZmZlbKycLMzEo5WZiZWSknCzMzK+VkYWZmpZwszMyslJOFmZmVcrIwM7NSThZmZlbKycLMzEo5WZiZWSknCzMzK9WyZCFpoKT7JF2X5zeTdJekv0m6Mj+fG0mr5fmOvHxkq2I2M+uvWtmy+ArwaGH+R8AZETEKWAAcncuPBhZExObAGbmemZk1UUuShaRhwMeBX+R5AXsDV+cqk4CD8/ToPE9evk+ub2ZmTdKqlsXPgG8Bb+X5DYCFEbE4z3cCQ/P0UGAWQF6+KNdfiqTxkmZImtHV1dXI2M3M+p2mJwtJBwHzIuKeYnGNqtGDZUsKIiZERHtEtLe1tfVCpGZmVjGoBdv8EPBJSQcCqwPrkFoagyUNyq2HYcDsXL8TGA50ShoErAvMb37YZmb9V9NbFhFxYkQMi4iRwGHAzRHxOeCPwKG52jjg2jw9Oc+Tl98cEcu0LMzMrHH60nUW3waOl9RBGpO4MJdfCGyQy48HTmhRfGZm/VYruqHeFhG3ALfk6ceBXWrUeQ0Y09TAzMxsKX2pZWFmZn2Uk4WZmZVysjAzs1JOFmZmVsrJwszMSjlZmJlZKScLMzMr5WRhZmalnCzMzKyUk4WZmZVysjAzs1JOFmZmVsrJwszMSjlZmJlZKScLMzMr5WRhZmalnCzMzKxU05OFpOGS/ijpUUkPS/pKLl9f0lRJf8s/18vlknSWpA5JMyXt2OyYzcz6u1a0LBYDX4+IrYDdgGMkbU16tvZNETEKuIklz9o+ABiVX+OB85ofsplZ/9b0ZBERcyLi3jz9IvAoMBQYDUzK1SYBB+fp0cDFkUwHBkvauMlhm5n1ay0ds5A0EvgAcBewUUTMgZRQgA1ztaHArMLbOnNZ9brGS5ohaUZXV1cjwzYz63daliwkrQ1cA3w1Il7ormqNslimIGJCRLRHRHtbW1tvhWlmZrQoWUhahZQoLo2I3+TiZyvdS/nnvFzeCQwvvH0YMLtZsZqZWWvOhhJwIfBoRPxnYdFkYFyeHgdcWyg/Mp8VtRuwqNJdZWZmzTGoBdv8EHAE8KCk+3PZd4DTgaskHQ08DYzJy64HDgQ6gFeAzzc3XDMza3qyiIjbqT0OAbBPjfoBHNPQoMzMrFu+gtvMzEo5WZiZWSknCzMzK+VkYWZmpZwszMyslJOFmZmVcrIwM7NSThZmZlbKycLMzEo5WZiZWSknCzMzK+VkYWZmpZwszMyslJOFmZmVcrIwM7NSThZmZlbKycLMzEo5WZiZWamVJllI2l/SY5I6JJ3Q6njMzPqTlSJZSBoInAMcAGwNjJW0dWujMjPrP1aKZAHsAnRExOMR8QZwBTC6xTGZmfUbiohWx1BK0qHA/hHxxTx/BLBrRBxbqDMeGJ9ntwQea2BIQ4DnGrj+RnP8reX4W2tljr/RsY+IiLZaCwY1cKO9STXKlspyETEBmNCUYKQZEdHejG01guNvLcffWitz/K2MfWXphuoEhhfmhwGzWxSLmVm/s7Iki7uBUZI2k7QqcBgwucUxmZn1GytFN1RELJZ0LDAFGAhMjIiHWxhSU7q7Gsjxt5bjb62VOf6Wxb5SDHCbmVlrrSzdUGZm1kJOFmZmVsrJooqkkHRJYX6QpC5J17Uyrp6StIGk+/NrrqRnCvOrtjq+eiSdIemrhfkpkn5RmP+ppON7uK6TJX2jEXHW2V6973yhpEeaFUdvk/Rm4XPdL2lkjTqbSLq6+dF1T9J3JT0saWaOfddu6h4laZNmxlfP8sTdbCvFAHeTvQxsK2mNiHgV+BjwTItj6rGIeB7YAdJOE3gpIn7S0qB65k/AGOBnkgaQLj5ap7D8g8BXa72x1ep953nnusIHGZIGRcTi3ohxBb0aETvUW5jjmw0c2sSYSknaHTgI2DEiXpc0BOjuQOko4CFafDr+CsTdVG5Z1HYD8PE8PRa4vLJA0vqS/jtn/umStsvlJ0uaKOkWSY9L+nIL4q5L0uaS7i/MnyDpe3l6VD6Sv0fSNElbtCDEO0gJAWAb0j/vi5LWk7QasBVwn6RvSro7f/+nVN6cj8gek/QH0hX8fcVAST/PR4s3SloDIP+dtOfpIZKezNNHSfq1pN8BN7Yu7Nqq45M0UtJDrY6rysbAcxHxOkBEPBcRsyX9e/7beUjSBCWHAu3ApflIfo0+GPeTOXEgqV3SLXm6qfscJ4vargAOk7Q6sB1wV2HZKcB9EbEd8B3g4sKy9wH7ke5ldZKkVZoU7z9rAvCliNgJOBE4u9kB5CPUxZI2JSWNO0nf++6kf+aZwF7AKNL3uwOwk6Q9JO1EuvbmA8CngJ2bHX83RgHnRMQ2wELgf/XgPbsD4yJi74ZGVm6NQhfUbwvlfSW+em4Ehkv6q6RzJe2Zy8+OiJ0jYltgDeCgiLgamAF8LiJ2yL0JrVIv7u40bZ/jbqgaImJm7kIYC1xftfjD5H/4iLg591evm5f9Ph8VvC5pHrAR6erzPkvSYGA34Brp7buqtOrvotK6+CDwn8DQPL2I1E21b37dl+uvTdoZvwv4bUS8AiCpL12w+UREVFp09wAje/CeqRExv3Eh9Vi9bqi+El9NEfFSPoD4CPBR4Eqlxxq8KOlbwJrA+sDDwO9aF+nSuom7O03b5zhZ1DcZ+AnpaHaDQnl396l6vVD2Jn3r+13M0i3J1XOZSE3fun3TTfQnUnJ4P6kbahbwdeAFYCLpd/H/IuKC4puUBsb76gVD1X8TlW6O4u9j9ar3vNzooP5JfT0+IuJN4BbgFkkPAv+H1EvQHhGz8thS9ffecjXiHkf3fytN2+e4G6q+icCpEfFgVfk04HMAkvYi7WhfaHJsK2IusEkeA1idPCYTEQuAOZIOAZA0QNL2LYrxDtIA3/yIeDMfvQ4mdXvcSbqC/wuS1s6xDpW0Iel3coikNSS9C/hEa8JfLk8CO+XpPjVAvLKTtKWkUYWiHVhyF+rn8t9P8Tt/kdQ6bak6cT/F0n8rPenGbIi+dOTbp0REJ3BmjUUnA7+UNBN4hZT5+7yIeE3SD0n32XocKJ7SeRhwXj7aWhX4FfBA04OEB0lnQV1WVbZ2RDxHGlDdCrgzd5m9BBweEfdKuhK4n/TPdVtzw14hPwGuUrrd/s2tDuYdZm3gv3IX62Kgg/T4goWkv6cnSf8HFRcB50t6Fdi9heMW9eLeCrhQ0ndYevy0qXy7DzMzK+VuKDMzK+VkYWZmpZwszMyslJOFmZmVcrIwM7NSThZmvUBL7tD6sKQHJB2vdEPE7t4zUtJnmxWj2T/DycKsd7ya7y20DelOxQcCJ5W8ZyTgZGErBV9nYdYLJL0UEWsX5t9DuvBrCDACuARYKy8+NiL+JGk66YKrJ4BJwFnA6aTbmqxGugHhUrc2MWsVJwuzXlCdLHLZAtJdQV8E3spX0Y8CLo+I9ny7mG9ExEG5/nhgw+ct8OsAAADuSURBVIj4Qb4t+x3AmIh4oqkfxqwG3+7DrHEqN51cBThb0g6km73Ve17IvsB2+RkLAOuS7qrrZGEt52Rh1gC5G+pNYB5p7OJZYHvSOOFr9d4GHBcRU5oSpNly8AC3WS+T1AacT3rYTpBaCHMi4i3gCGBgrlp9t9MpwL9VHmAjaQtJa2HWB7hlYdY71lB6bO0qpDuGXkJ6gBPAuaSHS40B/siS50HMJD0d8AHSnU/PJJ0hda/SbXW7gIOb9QHMuuMBbjMzK+VuKDMzK+VkYWZmpZwszMyslJOFmZmVcrIwM7NSThZmZlbKycLMzEr9f4m/9SilEmuTAAAAAElFTkSuQmCC\n",
      "text/plain": [
       "<Figure size 432x288 with 1 Axes>"
      ]
     },
     "metadata": {
      "needs_background": "light"
     },
     "output_type": "display_data"
    }
   ],
   "source": [
    "# only using values after COVID re-opening\n",
    "temp = daily_df.copy()\n",
    "temp = temp[temp['Date'] > pd.to_datetime('2020-05-28')]\n",
    "temp['Date'] = temp['Date'].apply(lambda x: x.weekday())\n",
    "temp = temp.groupby('Date')[['Sales']].agg('mean').reset_index()\n",
    "\n",
    "sns.barplot(x='Date', y='Sales', data=temp)\n",
    "plt.title('Average Sales by Day of Week');\n",
    "plt.xticks(np.arange(7), ['Mon', 'Tue', 'Wed', 'Thur', 'Fri', 'Sat', 'Sun']);"
   ]
  },
  {
   "cell_type": "markdown",
   "metadata": {},
   "source": [
    "#### Monthly Sales"
   ]
  },
  {
   "cell_type": "code",
   "execution_count": 9,
   "metadata": {},
   "outputs": [
    {
     "data": {
      "image/png": "iVBORw0KGgoAAAANSUhEUgAAAZwAAAE8CAYAAAD0XQfXAAAABHNCSVQICAgIfAhkiAAAAAlwSFlzAAALEgAACxIB0t1+/AAAADh0RVh0U29mdHdhcmUAbWF0cGxvdGxpYiB2ZXJzaW9uMy4xLjEsIGh0dHA6Ly9tYXRwbG90bGliLm9yZy8QZhcZAAAgAElEQVR4nO3deZgcVb3/8feHJIR9CQSICRCQIJsCGgEFWRXCIokCssgqGi+KeAUXwPu7PIooegU0FxFQERAQUWSRRUQEFQQlILJziWxGEKJhCSBCwvf3xzltiqFnMtNdVTOpfF7PU89Unaqub52unv52VZ06pYjAzMysaosN9gaYmdmiwQnHzMxq4YRjZma1cMIxM7NaOOGYmVktnHDMzKwWTjhmFZIUktbpZd7Bkm4cSttkViUnHFskSHpE0suSVu5Rfkf+Ah5fQowbJH242/X0M9bkvO3PSfq7pOvKqINZlZxwbFHyMLBva0LSm4ElB29zOpOPTs4FjgKWB9YCTgNeHcztMlsQJxxblPwAOLAwfRDpi/vfJC0v6VxJsyQ9Kum/JC2W5x0s6UZJX5f0tKSHJe2c550AvAs4VdLzkk4trPbdkh7Mr/mWJPXcsFx+Uo+yn0n6zzb12AR4OCKui2RORFwcEY/l120m6WZJz0h6QtKpkhZv94ZIGpnr85ikJyWdLmnJPG9lSVfk9cyW9NvWe2HWCX94bFFyC7CcpPUlDQP2Bs7rscz/ko4a1ga2ISWoQwrzNwceAFYGvgZ8T5Ii4vPAb4HDI2KZiDi88JrdgLcDGwMfAHZqs23nAPsWktvKwA7AD9ssezuwnqRTJG0naZke8+cBn8rb+I68no/18p58FViXlMTWAcYC/53nHQXMBEYDqwLHAu4LyzrmhGOLmtZRznuA+4G/tmYUktAx+ajhEeAk4IDC6x+NiO9ExDxSkhhD+jLuy4kR8Uw+Arme9OX+GhHxB+BZUnIA2Ae4ISKebLPsQ8C2pORwEfB3SWe3Ek9E3BYRt0TE3FyHM0jJ8zXykdZHgE9FxOyImAN8OccGeCXXb82IeCUifhvufNG64IRji5ofAPsBB9PjdBrpiGBx4NFC2aOkL/aWv7VGIuLFPNrzCKOnvxXGX+xj+XOA/fP4/nlb28oJ5QMRMZp0Km9r4PMAktbNp8L+Juk5UhJZuc1qRgNLAbfl02bPAD/P5QD/A8wAfiHpIUlHL6CeZn1ywrFFSkQ8Smo8sAvw0x6z/076Vb9moWwNCkdBC1p9l5t3HjBZ0sbA+sCl/QoacSupLhvlom+Tjt4mRMRypFNhr7tuRKrvP4ENI2KFPCwfEa0jpTkRcVRErA28FzhS0g5t1mPWL044tig6FNg+Il4oFubTZBcBJ0haVtKawJG8/jpPb54kXfvpSETMBG4lHdlcHBH/bLecpK0kfUTSKnl6PWB30jUqgGWB54Dn87zDeon3KvAd4JTCusZK2imP7yZpnXzq7TnStaF5ndbPzAnHFjkR8eeImN7L7E8ALwAPATcCFwBn9XPV3wT2zK3RpnW4eecAb6aP02nAM6QEc5ek50mnwS4hNWIA+DTptOEcUkL5UR/r+hzptNkt+fTbL4E35XkT8vTzwM3AaRFxw8CrZJbI1wDNhg5JW5OOqMbnIxCzxvARjtkQIWkE8Engu0421kROOGZDgKT1SafKxgDfGOTNMauET6mZmVktfIRjZma1GD7YG1C3lVdeOcaPHz/Ym2FmttC47bbb/p5vMu7KIpdwxo8fz/TpvbWINTOzniQ9uuClFsyn1MzMrBZOOGZmVgsnHDMzq4UTjpmZ1cIJx8zMauGEY2ZmtXDCMTOzWjjhmJlZLZxwzMysFotcTwNmZk305LQbS1/nqkdsVer6fIRjZma1cMIxM7NaOOGYmVktnHDMzKwWTjhmZlYLJxwzM6uFE46ZmdXCCcfMzGpRacKR9IikuyTdIWl6Lhsl6VpJD+a/K+ZySZomaYakOyW9tbCeg/LyD0o6qFD+trz+Gfm1qrI+ZmbWuTqOcLaLiE0iYmKePhq4LiImANflaYCdgQl5mAp8G1KCAo4DNgc2A45rJam8zNTC6yZVXx0zM+vEYJxSmwyck8fPAaYUys+N5BZgBUljgJ2AayNidkQ8DVwLTMrzlouImyMigHML6zIzsyGm6oQTwC8k3SZpai5bNSKeAMh/V8nlY4G/FF47M5f1VT6zTfnrSJoqabqk6bNmzeqySmZm1omqO+/cMiIel7QKcK2k+/tYtt31l+ig/PWFEWcCZwJMnDix7TJmZlatSo9wIuLx/Pcp4BLSNZgn8+kw8t+n8uIzgdULLx8HPL6A8nFtys3MbAiqLOFIWlrSsq1xYEfgbuByoNXS7CDgsjx+OXBgbq22BfBsPuV2DbCjpBVzY4EdgWvyvDmStsit0w4srMvMzIaYKk+prQpcklsqDwcuiIifS7oVuEjSocBjwF55+auAXYAZwIvAIQARMVvS8cCtebkvRsTsPH4YcDawJHB1HszMbAiqLOFExEPAxm3K/wHs0KY8gI/3sq6zgLPalE8HNup6Y83MrHLuacDMzGrhhGNmZrVwwjEzs1pUfR+OmdmQdcN55d4Ivu3+o0tdX9P4CMfMzGrhhGNmZrVwwjEzs1o44ZiZWS2ccMzMrBZOOGZmVgs3izazIefkS/5W+jqPfN9qpa/TBsZHOGZmVgsnHDMzq4UTjpmZ1cIJx8zMauGEY2ZmtXDCMTOzWjjhmJlZLZxwzMysFk44ZmZWCyccMzOrhROOmZnVwgnHzMxq4YRjZma1cMIxM7NaOOGYmVktnHDMzKwWTjhmZlYLJxwzM6uFE46ZmdWi8oQjaZikP0q6Ik+vJen3kh6U9CNJi+fykXl6Rp4/vrCOY3L5A5J2KpRPymUzJB1ddV3MzKxzdRzhfBK4rzD9VeCUiJgAPA0cmssPBZ6OiHWAU/JySNoA2AfYEJgEnJaT2DDgW8DOwAbAvnlZMzMbgipNOJLGAbsC383TArYHfpIXOQeYkscn52ny/B3y8pOBCyPiXxHxMDAD2CwPMyLioYh4GbgwL2tmZkPQ8IrX/w3gs8CyeXol4JmImJunZwJj8/hY4C8AETFX0rN5+bHALYV1Fl/zlx7lm7fbCElTgakAa6yxRhfVMVu07XHxH0pf58V7bFb6Om1oquwIR9JuwFMRcVuxuM2isYB5Ay1/fWHEmRExMSImjh49uo+tNjOzqlR5hLMlsLukXYAlgOVIRzwrSBqej3LGAY/n5WcCqwMzJQ0HlgdmF8pbiq/prdzMzIaYyo5wIuKYiBgXEeNJF/1/FREfBK4H9syLHQRclscvz9Pk+b+KiMjl++RWbGsBE4A/ALcCE3Krt8VzjMurqo+ZmXWn6ms47XwOuFDSl4A/At/L5d8DfiBpBunIZh+AiLhH0kXAvcBc4OMRMQ9A0uHANcAw4KyIuKfWmpiZWb/VknAi4gbghjz+EKmFWc9lXgL26uX1JwAntCm/CriqxE01M7OKDMYRziJl5qkfKn2d4w4/q/R1mplVzV3bmJlZLZxwzMysFj6lZmZWoSe+9kTp6xzz2TGlr7MOPsIxM7NaOOGYmVktnHDMzKwWTjhmZlYLJxwzM6uFE46ZmdXCzaLNGuC9P7mk9HX+bM/3lb5OW7T5CMfMzGoxoIQjaTFJy1W1MWZm1lwLTDiSLpC0nKSlSY8IeEDSZ6rfNDMza5L+HOFsEBHPAVNIjwJYAzig0q0yM7PG6U/CGSFpBCnhXBYRrwBR7WaZmVnT9CfhnAE8AiwN/EbSmsBzVW6UmZk1zwKbRUfENGBaoehRSdtVt0lmZtZE/Wk0sJKkaZJul3SbpG8Cy9ewbWZm1iD9OaV2ITAL2APYM4//qMqNMjOz5ulPTwOjIuL4wvSXJE2paoPMzKyZ+nOEc72kffJNn4tJ+gBwZdUbZmZmzdKfhPNR4ALgX8DLpFNsR0qaI8mt1czMrF/600pt2To2xMzMmq3XhCNpvYi4X9Jb282PiNur2ywzM2uavo5wjgSmAie1mRfA9pVskZmZNVJfCecsgIjwTZ5mZta1vhoNnFbbVpiZWeP5AWxmZlaLvk6prS3p8t5mRsTuFWyPmZk1VF8JZxbtGwz0i6QlgN8AI3Ocn0TEcZLWIt3LMwq4HTggIl6WNBI4F3gb8A9g74h4JK/rGOBQYB5wRERck8snAd8EhgHfjYgTO91eMzOrVl8JZ05E/LqLdf8L2D4ins/P07lR0tWk1m+nRMSFkk4nJZJv579PR8Q6kvYBvgrsLWkDYB9gQ+ANwC8lrZtjfAt4DzATuFXS5RFxbxfbbGZmFenrGs4j3aw4kufz5Ig8tJpT/ySXn0N6sBvA5DxNnr+DJOXyCyPiXxHxMDAD2CwPMyLioYho9YAwuZttNjOz6vSacCLi/d2uXNIwSXcATwHXAn8GnomIuXmRmcDYPD4W+EuOPRd4FlipWN7jNb2Vt9uOqZKmS5o+a9asbqtlZmYdqLSVWkTMi4hNgHGkI5L12y2W/6qXeQMtb7cdZ0bExIiYOHr06AVvuJmZla6WZtER8QxwA7AFsIKk1rWjccDjeXwmsDpAnr88MLtY3uM1vZWbmdkQ1O+EI2nFgaxY0mhJK+TxJYF3A/cB15Me5AZwEHBZHr88T5Pn/yoiIpfvI2lkbuE2AfgDcCswQdJakhYnNSzotRm3mZkNrv48gK3lOqBtR569GAOcI2kYKbFdFBFXSLoXuFDSl4A/At/Ly38P+IGkGaQjm30AIuIeSRcB9wJzgY9HxDwASYcD15CaRZ8VEfcMYPvMzKxGA0k47a6Z9Coi7gQ2bVP+EOl6Ts/yl4C9elnXCcAJbcqvAq4ayHaZmdng6DPhSDqwNQqsWJgmIs6tcsPMzKxZFnSEs1ZhfCQwnpR82rYGMzMz602fCScivtAalzQ5Ir5Y/SaZmVkTDaRZ9ICu4ZiZmRUNJOEcUNlWmJlZ4/U74UTE3VVuiJmZNZsfwGZmZrVwwjEzs1oM5MZPJC0GLBMRz1W0PWaNs+vF3yl1fVfu8ZFS12dWlwUe4Ui6QNJykpYmdS/zgKTPVL9pZmbWJP05pbZBPqKZQupGZg3cYs3MzAaoPwlnRH5E9BTgsoh4Bfc0YGZmA9SfhHMG6XHTSwO/kbQm4Gs4ZmY2IAtsNBAR04BphaJHJW1X3SaZmVkTLTDhSFoV+DLwhojYWdIGwDuY/xybhdKsb59X+jpHH7Z/6es0M2uK/pxSO5v0kLM35On/A/6zqg0yM7Nm6k/CWTkiLgJeBYiIucC8SrfKzMwapz8J5wVJK5FbpknaAni20q0yM7PG6U9PA0cClwNvlHQTMBrYs9KtMjOzxulPK7XbJW0DvIn0TJwH8r04ZmZm/dZrwpH0/l5mrSuJiPhpRdtkZmYN1NcRznv7mBeAE44t1Ha59NjS13nVlC+Xvk6zpug14UTEIXVuiJmZNVu/Hk8gaVdgQ2CJVllEfLGqjTIzs+bpz+MJTgf2Bj5BajSwF7BmxdtlZmYN05/7cN4ZEQcCT0fEF0jd2qxe7WaZmVnT9Cfh/DP/fVHSG4BXgLWq2yQzM2ui/lzDuULSCsD/ALeTWqiV+8xcMzNrvP7c+Hl8Hr1Y0hXAEhHhrm3MzGxAej2lJuntklYrTB8IXAQcL2lUHRtnZmbN0dc1nDOAlwEkbQ2cCJxL6rjzzAWtWNLqkq6XdJ+keyR9MpePknStpAfz3xVzuSRNkzRD0p2S3lpY10F5+QclHVQof5uku/JrpklSJ2+CmZlVr6+EMywiZufxvYEzI+LiiPh/wDr9WPdc4KiIWB/YAvh4fnjb0cB1ETEBuC5PA+wMTMjDVODbkBIUcBywObAZcFwrSeVlphZeN6kf22VmZoOgz4QjqXWNZwfgV4V5/bn280RE3J7H5wD3AWOBycA5ebFzgCl5fDJwbiS3ACtIGgPsBFwbEbMj4mngWmBSnrdcRNwcEUE6+mqty8zMhpi+EscPgV9L+jupafRvASStwwCfhyNpPLAp8Htg1Yh4AlJSkrRKXmws8JfCy2bmsr7KZ7Ypbxd/KulIiDXWWGMgm25mZiXpqy+1EyRdB4wBfpGPIiAdFX2ivwEkLQNcDPxnRDzXx2WWdjOig/LXF0acSb7uNHHixLbLmJlZtfo8NZZPbfUs+7/+rlzSCFKyOb/wOIMnJY3JRzdjgKdy+Uxe24PBOODxXL5tj/Ibcvm4NsubmdkQ1J+eBjqSW4x9D7gvIk4uzLocaLU0Owi4rFB+YG6ttgXwbD71dg2wo6QVc2OBHYFr8rw5krbIsQ4srMvMzIaYfvUW3aEtgQOAuyTdkcuOJTWvvkjSocBjpM5AAa4CdgFmAC8ChwBExGxJxwO35uW+WGg9dxhwNrAkcHUezMxsCKos4UTEjbS/zgKp1VvP5QP4eC/rOgs4q035dGCjLjbTzMxqUtkpNTMzsyInHDMzq4UTjpmZ1cIJx8zMauGEY2ZmtXDCMTOzWjjhmJlZLZxwzMysFk44ZmZWCyccMzOrhROOmZnVosrOO61G139311LXt92Hryx1fWZmPsIxM7NaOOGYmVktnHDMzKwWTjhmZlYLJxwzM6uFE46ZmdXCCcfMzGrhhGNmZrVwwjEzs1o44ZiZWS2ccMzMrBZOOGZmVgsnHDMzq4UTjpmZ1cIJx8zMauGEY2ZmtXDCMTOzWjjhmJlZLSpLOJLOkvSUpLsLZaMkXSvpwfx3xVwuSdMkzZB0p6S3Fl5zUF7+QUkHFcrfJumu/JppklRVXczMrHtVHuGcDUzqUXY0cF1ETACuy9MAOwMT8jAV+DakBAUcB2wObAYc10pSeZmphdf1jGVmZkNIZQknIn4DzO5RPBk4J4+fA0wplJ8byS3ACpLGADsB10bE7Ih4GrgWmJTnLRcRN0dEAOcW1mVmZkNQ3ddwVo2IJwDy31Vy+VjgL4XlZuayvspntilvS9JUSdMlTZ81a1bXlTAzs4EbKo0G2l1/iQ7K24qIMyNiYkRMHD16dIebaGZm3ag74TyZT4eR/z6Vy2cCqxeWGwc8voDycW3KzcxsiKo74VwOtFqaHQRcVig/MLdW2wJ4Np9yuwbYUdKKubHAjsA1ed4cSVvk1mkHFtZlZmZD0PCqVizph8C2wMqSZpJam50IXCTpUOAxYK+8+FXALsAM4EXgEICImC3peODWvNwXI6LVEOEwUku4JYGr82BmZkNUZQknIvbtZdYObZYN4OO9rOcs4Kw25dOBjbrZRjMzq89QaTRgZmYN54RjZma1cMIxM7NaOOGYmVktnHDMzKwWTjhmZlYLJxwzM6uFE46ZmdXCCcfMzGrhhGNmZrVwwjEzs1o44ZiZWS2ccMzMrBZOOGZmVgsnHDMzq4UTjpmZ1cIJx8zMauGEY2ZmtXDCMTOzWjjhmJlZLZxwzMysFk44ZmZWCyccMzOrhROOmZnVwgnHzMxqMXywN8Csp8//eFLp6zxhr5+Xvk4zGxgf4ZiZWS2ccMzMrBZOOGZmVgsnHDMzq8VCn3AkTZL0gKQZko4e7O0xM7P2FuqEI2kY8C1gZ2ADYF9JGwzuVpmZWTsLdcIBNgNmRMRDEfEycCEweZC3yczM2lBEDPY2dEzSnsCkiPhwnj4A2DwiDu+x3FRgap58E/DAAMKsDPy9hM11nIUzhuMM3RiOU1+MNSNidLeBF/YbP9Wm7HUZNCLOBM7sKIA0PSImdvJax6k2TpPq0rQ4TapL0+LUVZd2FvZTajOB1QvT44DHB2lbzMysDwt7wrkVmCBpLUmLA/sAlw/yNpmZWRsL9Sm1iJgr6XDgGmAYcFZE3FNymI5OxTlOLXGaVJemxWlSXZoWp666vM5C3WjAzMwWHgv7KTUzM1tIOOGYmVktnHAaQJLajS+MFvbt76lJ+6YuTXrPmlSXMjjhNMMKrQ9zRISkSvZrTf8wIwchZpWWaY1UuW/qUtP+aNJ7tmLugqvq/81a3qNu4yzMO3JIk7S1pK2q/iBI2hn4GfBVSd8BiIhXy/xikPROSePyP0xlXziSJgEXSjpG0sFQzT9pjftmV+AKSSdKOg7+vW9Ki1tjXer6DFT+nuU4lb9vknYHfgmcWvzfrCDO9sB+klYse92lx4kIDyUPwDbAq8DNwDuAxSqKswlwd443ArgR+A2wRJ7fdVxgh1yXe4BxuUwV1GUi8BiwJ/ARUr943y3MLyVmjfvmzcCDwK7Au4ArgSsK88vYN3XVpa7PQOXvWV3vGzAB+BOwHfAG0q0blwNLl1yXLXNdrgX2Blas6DNQShwf4ZRM0khgHWAP4AfAfwPvqOiXVADXR8SvI+IV4FPAG4GzoftfU5KWAjYndYj6E+CnhV+5ZdfnVeCSiPgJcA7wCWC0pDMhHel0G6DmffMCcFNEXBkRv42IXYGRkn4GpeybWupS82eg0vcMav0MPENKnvdFxOMRsROpfhdCOWchJA0HViQlgDOA3YBJxSOQMo5GS41TRTZc1Ie8c5bJ458GriL9YhtWcpxNgOnA9sAKpH+eTwBXA58rKca4Ql1OAv5A6siv7PdsU+AuYL1C2arAD4F9FsJ9szrpV+3be5RfUeK+qasudX0GKn/P6nrfgKWA7wLv7VH+C+DUEuOMYP5R0weBc/PfUSXvm1LiLNQ9DQwlkt4JvI10iuuOiHgeICK+nrP/McARkt5FOhw9ucM4E0nP/rk7Im6XdBJwNKn311ERMUnSg6TTE53W5W3AusAfgQcif8oi4qgc78eStiCd+lg+Is7rIs4E0vv1R0nfJ/2CnhwRDwJPA78HxnRalxynrn3zTuCtwD0Rcb2ki4DLJG0XEa0eyr9FOmIY6nWp6zNQ+XtWiFPp+yZpW9LpuhmkH32XAV+Q9HRE3JgX+xhwePs1DCjOtqQjqJsi4pFcl/PzkdpOwFOSNs11OWbIxCkzCy6qAzCJdH77ZNIvtF1y+bDCMgcDjwCPAht1GGdX4F7g+8ClwIG5fCzpV9tiefozwLdJ3f0M6Fx7rsu9pF9ntwFvyeUjCsv8FykZPErhiKSLOHcU4hxLenzEhnn6U8D5pG6YBnzdoMZ9U4xzbSHOZ0gdym6Zpz8G/JzUGq+TfVNXXer6DFT6ntX1vpEeAvkn0lmG84GpufxQ4HbSKbw1gA8BvwOW6vA9K8b5QStOj2Xek5f5C7DpUIoz4A3x8Lo3fRPSqaDWP8fx+R9mFQqHm8D7gGeBDTqMsxHp19nb8/QBwE3AyMIyAg4h9aK9fgcxNgP+XKjLaTnOUj3iTAFmd1GXdnEOav0Tkp5ddBtwFvAQOfkM4X3TLs7RwCp5+gOkC8YX5i++Tr7Q6qpLXZ+Byt+zut430jO2fgtslac/STr1uC6wOLA16SjtEtLpyLd0WJd2cb6W46zRoy5zutg3lcVxX2pdkjQC2DgipksaQ7qm8gfSRcM5pF9VfyWd77w1OuxcVNLywO7A+ZEvnkq6Ajgq8qkHScuQ/lFvjoj7OoixLOnL/RZJ40i/Xq4nNU64mXQxfy7plMBlEXF3h3VpF+eGPPumiDhZ0np5+sWIeKzDOHXtm97izMmxjiV9YQ8HiIgBP0KjxrrU9Rmo/D1bQJzS3rd8UX39iLhL0iqkH4J35fWuSbqu+niuz+IRMavDuvQW5zFgbeDzed57gL9GxL1DLk4nGdDDvzP8Yj2mdwEOy+Mbky6sbZOnO74gyfxOVkcU10X6kn5HHt+QdMNcR81V29Rlb+CzhXr9LH8IIf3TlPWe9YxzJR0cnQ3ivllQnPNbcRbCutT1GSj9PavrfWsTY2vgg3l8ZWAaJTR66Uecb7TidPodUEccNxroQvRophkRVxXG/yRpHvkBcRExr4s4kf++kouGAfOAp4AnJL2PdO/KgZEvhnYQo2ddflQYv0rSgcB44D7gFTrUzzhr5jgdq3HfLCjOy6RWXh2RpEGsS12fgVLfswHE6fp9axPjN4Xxv+cGCat0su4BxhnWitP6vhiKcXwfzgD01ta8XbmkD5Ba39xUdvyIeDkXPUY6N3w0qdlo189C76Uue5NbxuX4HX2g84e1P3E6PR30us9zFftG0milB/71N87vOojxJkkrFt/rqj9nrfVX+RloF69HWcfvWW/rr+P/s48YW5GaXZey/qrj9IxXepxuD/UWpYF8dy2FQ0nmtwx7C+nmuOHA/sD9dH6xe2PS9ZoJzL+QPqwQ5315/ELgeWCdDmJsBuwHvL0Qo1WX9YB3AkuUUJftgC8VpodVFGd30oXNxQplVeybKcBFpJsHVUUcYEdSS73JeXp4RXXZlnSt5IPAShV+BjbN27wmsGwuG1FBfbYCPkq6p6bV+GDxkvfNam3KWp+DicCheXx/0pFgp3XZnNRybhty4wbmfweUGaeW+vx73d28eFEaSC0yXgL2KO6UPL4Nr20JMxYY32Gc3Ui/Ii8mJZT3t4mzdZ5+I7BuBzF2zjHOJN1U967CvO3yvLfl6U2BtTuIIVILnUtJd1j/T4/525YRJ792J1LT03e3mbddiftms/xFtU2beTuUEYeUbG4n3SB4QY95ZX7O3ktqEHAicB4wqTBv+xL3ze55XaeTWm5NA8YU4pRVn0nA/+X1n0a6D2bdkvfNFFKPGAe3mfcOUvP+d+fpkcDqHdZlt7y93yW11DwKGF5BnFrq85r1druCRWEgtcy4ntSi5R/Anrm89WvwY+TEQHcX7N5Kuv9h0zx9BKklEG3idNQXU/7SvBvYIk9PI90bsAywLHBYq34lvXfvJ7Vo+hFwRmvbSb9E9yhh/W8h3TvRel9GkY7a3ggsSfr13tpfXfX/RWoBeHIeXwM4MJeNzfX8QDdxSEn4EWCTPP074EO97P9uPmdLknpw2DxPfwH4LKnhyRjS9cC9Stg3S5CS2cQ8vRXpRt7zgdVIv5pf9wOuw1jHAx8vfAY+Q0rca+d9tFeX++YNpB+BJ5NO+R7QY/4HmX9/z/Au6rEh6Yu+9R3wPtKPtpElx6mlPq+LW9aKmjzkL+IpeXxn4Ll2X8p02TVG/hKb2qPsGgpt37uNA4xm/i+9VUn37FxB+jX1Feafiuj2C6B1WL438D3SxdnL8j/Pj5l/qqPbOKuQjgYOZ/45+UuBn9CWm3gAAAy8SURBVAInML8Lk647myS1cjopj/+W9Kv9tPwlunq3cUinUDcvTB8OnNDbe9tFnJGkGy2PI12cn5G/fL6f980aJca5DvhooewM4H+B/y6jPoXP2VHA13rM+0z+HCxXQpwlgO3y+Hak+8MOaLNct98BK5LuQyueQbmWnLRLjLMUsH3V9Xnd+spcWdMGYHnmX7cp3pU8iULSIXWZsVxJcVq/ZBbPH/Kbmd8U9d/XdDqMMapH2SHAJ/L4lsAF5NMoXdZlucL04q0vAtLd1i8AV5a0b1rntseQmuw+AnykUJ/z6fBO63b1ISXrB0gJ+mOFZU4E/qOM/d+jfKNcp0mdrrtNnBXy+Iak5Hw18JVctgapEcrkEuPskL8wv0g6pXZx/oL7UZlfZqTE+RhwRKFsNeA7wFtLilH8Dtg2f0m3evvYGli5pDjDe/y9mvlnJDYhdSXU6bpXo/11m8rqUxzcSq0XkvYk/dq7WtKhpBY6AETEz0mH6adLOgc4hZQcuo3zIdLdvJBurvsX8CTwuKS9gC/T4wFlA4xxlaQPSXpzrsf3I+J/8/hNpFNdq3VSjx5xflGIMw9YSdIX8/YfASwl6eslxLlK0tRcvD/pnpHWc0duInU4WFZ9WnF2Jt2JvX1h0XnAcl3GuLq4bwAi3VT5ZeCDklboZP1t4vxc0keB2RGxJanF0V9zvMdI79nYkuJ8iHSD5adJF+v/ERF7RMT1wNJ011x8e0mfa01HxExSo4BDJH0yl/2N9H+5YRkxCuWLRcQNpG5rjpZ0AenUdKffAT3jRI9FniD1WfZ+0lmIAX8H5Dh7kPbNpZI+J2mnfwcssT59KjuDNWEg/cPdSbpYui3pZqcvky/WF5Y7ndRpZqddVfQW5109YlwA3Aq8ucQY2/ZYbg/SueM1S6zLiaRrRvuQOgCcUlh2jZLifJPUOq1nD8Ot+pQRZ5sc56t5egPgb6T+xI4hdcMz4P7E2sR43eeM1GLxBjpoibiA9+wreXoCqZ+yI/J+ug2YUOJn4Cv0OMIgdZXzJzrs0Zh01PQM6cjpKz3mbUK6pndSfi/v6+S96y0G86/btv6eCszq5H+zP3Hy+Emka8i30nkXPyuROmLdlHTk/CnSd8vePZbrqj4LGnyE094SpFM/d0bK/KcBLwI7Kne5IuntpB23fUTcWXKcnSS1fpWtQ2qFtW9E3FVijHdLWk/SCEkfBr5EuqP40RLr8jzpiGAOsFtEXJpvZPxrdNhdTZs43yKd3pxc2DcHk48MSorz6xxnDunIdibpNOrjpBsg94+I+0uIUfycrQ/pBkVSVyzdPAum3Xv2ArAX6Vz+KaT9tDtwSKSeusuIc1qe3qOwb95HujZ1QETM7jDOCqQfM4cDYyWd2JoREXeQmnPfS9pfe0bEjLJiRH76aP67Hqlxyrs7/N9cUJwReZlRpCbK+0aHXQmRbkd4Dng4r+NC0inVbZSe5En+zK3dZX36VkUWa8JA6m35WOY/PfNNuax1jnNZYNUK4xycp7egw074+hHjgDy9EV38gu4jznq5bP88XdZTOxe0b9auqD6tOB/qdt39rUtdcUjX2kbWEGcU+amhXcZp3Ts2kdS/21cL88p6mmZfMZYgnX7s+gmbfcXJ5W/o9jsgr+ebpMZBSxfWezRwZGs7yqhPX4OPcHoo3GF7KanvoP0kLRmpg8yfAgdKWjYi5kTEkxXG2V/SMhFxS3TeCd+CYhyUY9wdnf0KXFCc+3OcgyUtFflTXUGcnvvmoYrq04qzn6SlO69Jv+uyVDcx+hHnkhxnmYh4OSL+VVGc4r6ZHel6S1ci4sU8egfpNNBq+brEwcDhSh1QVhnjP4B5EfF0lXEkHRnpiaEdfQfAa3rgaJ0N+JykpSN1iHoN6ezAShHxYhn16YsTTtamK4frSec8NwCOyYe3K5JOeXTcj9QA48wdqjE6iNPxKaEhum866ntriL1nK1DvZ6DMfQNARMwlfVEfS+o54xTghlxeZYxfRYePvB5gnF92EqPHelvb+WfSj4ylSA2eViY1UppLF/tmIBb5zjslrQS8FBEvQOojStLiEfGypGtJjQJ2I91PsDSp2e1LQzFOk+rStDhNqstgxsllwyNirqRRpMdXvKTU4moU6R6zAR0N1BGjzjiFdQ+L3Clpa1zSw6Resg8iPVhtFKkH7ec6jTMgVZ6vG+oD6e7wX5BaAX2E1950927SDYutGyHHke8tGIpxmlSXpsVpUl2GUJztSV+Yq+Xp/ejswXaVx6g5zo7AMYXpYmu37Xjtjb3Lk6/n1DXUFmioDaQLZg+Q7k7fkXQYezqpmeJSpLvHu+7ipY44TapL0+I0qS5DME5XXSPVEaPmOFuTHllyP/D1Qvkw0pHM7yn0zTgYw6J8Sm048FhE3A4gaQap+fEepBuv9oiImZIUea8N4ThNqkvT4jSpLkMyDnT8uIQ6YtQZZyzweVIjjYsknRQRR0U6rTZb0pSIeEK5WXeHMbqyyDYaiHR/xnPKd7xHxEOkQ94nSf1izcw7pquWVXXEaVJdmhanSXUZqnE6jVVHjJrj/BC4NCL+Qeo1YGNJ3ygs8s+83KAkG1jEEo6kLSW9X9L+uej/ActK+jRARPyZ9MzzfSUt0emOqSNOk+rStDhNqkvT4jSpLj3i7JfXOysfXT5C6gR0I0n/rdTl0Ec1/2bSQbHIJBxJu5Ce/7IRcKykL0dqAXIJ8EZJ38yLLkNqIjis/ZoGP06T6tK0OE2qS9PiNKkubeJ8XtLXYP4puXwktQvpUSDfAa6K+Y+pHxwxiBeQ6hpI/UVNB7bK0+NJvQsvR3o2yIak3muvIj34qKMehuuI06S6NC1Ok+rStDhNqksfcS4j9WhefLTBnqQex7t6UmdZw6BvQC2VTDun9XCsYaSO7G6hR9NDUs/C3XT9XXmcJtWlaXGaVJemxWlSXfqIczM5sTD/OUEHkx9vMhSGQd+ASiuXnu8xgvz89B474jxgrTze7TNgKo/TpLo0LU6T6tK0OE2qywDjbNJNnKqGxl7DkbQr6bD1NOA85d5qmd+7wihg6XxR70JJo4dqnCbVpWlxmlSXpsVpUl06iPNjSatI7bvRGTSDnfHKHgCRHmd8F+mZHKuSHj/7OIXzmMBZwE+AG+ng/GYdcZpUl6bFaVJdmhanSXWpM04dw6BvQCWVSuc0zyTdCNU63DyC9GTDN+Xpk0jPch/wg7PqjNOkujQtTpPq0rQ4TapLnXGqHgZ9A0qtTHpY2dtJF9B+RHrkcHH+Z0nPmxhGeuDU2kM1TpPq0rQ4TapL0+I0qS51xqlrGPQNKK0iqWfaO4Ffk54psTupOWCxI7vxwHeGepwm1aVpcZpUl6bFaVJd6oxT5zDoG1BKJdIjZe8nt2knHXp+idRp3mOkZ8+vQ2oiOJ3On6VeeZwm1aVpcZpUl6bFaVJd6oxT9zDoG1BKJdLOObgwPRq4Mo+vTbqYdlreMW8eynGaVJemxWlSXZoWp0l1qTNO3cOgb0AplUjnL5crjI8jPXVwTC5bk9R0sOMbreqK06S6NC1Ok+rStDhNqkudceoeGnEfTkTMi/lPrBPwDDA7Ulfc+5OePzEiIp4d6nGaVJemxWlSXZoWp0l1qTNO3VrN6xpH0tnAE6QHHh0cEXctrHGaVJemxWlSXZoWp0l1qTNOlRqXcPKdtSOA+/LfHSLiwYUxTpPq0rQ4TapL0+I0qS51xqlD4xJOi6SDgVsj4p6FPU6T6tK0OE2qS9PiNKkudcapUpMTTrePuB0ycZpUl6bFaVJdmhanSXWpM06VGptwzMxsaGlEKzUzMxv6nHDMzKwWTjhmZlYLJxwzM6uFE45ZhSTNk3SHpHsk/UnSkZL6/L+TNF7SfnVto1ldnHDMqvXPiNgkIjYE3gPsAhy3gNeMB5xwrHHcLNqsQpKej4hlCtNrA7cCK5M6YPwBsHSefXhE/E7SLcD6wMOkh2tNA04kPV54JPCtiDijtkqYlcQJx6xCPRNOLnsaWA+YA7waES9JmgD8MCImStoW+HRE7JaXnwqsEhFfkjQSuAnYKyIerrUyZl0aPtgbYLYIUv47AjhV0ibAPGDdXpbfEXiLpD3z9PLABNIRkNlCwwnHrEb5lNo84CnStZwngY1J11Nf6u1lwCci4ppaNtKsIm40YFYTSaOB04FTc59YywNPRMSrwAGkB21BOtW2bOGl1wCHSRqR17OupKUxW8j4CMesWktKuoN0+mwuqZHAyXneacDFkvYCrgdeyOV3AnMl/Qk4G/gmqeXa7bmr+lnAlLoqYFYWNxowM7Na+JSamZnVwgnHzMxq4YRjZma1cMIxM7NaOOGYmVktnHDMzKwWTjhmZlaL/w/ZZxbjpWRG4wAAAABJRU5ErkJggg==\n",
      "text/plain": [
       "<Figure size 432x288 with 1 Axes>"
      ]
     },
     "metadata": {
      "needs_background": "light"
     },
     "output_type": "display_data"
    }
   ],
   "source": [
    "temp = daily_df.copy()\n",
    "temp['Date'] = pd.DatetimeIndex(temp['Date'] - pd.to_timedelta(0, unit='d'))\n",
    "temp = temp.groupby([pd.Grouper(key='Date', freq='M')]).agg('sum').reset_index().sort_values('Date')\n",
    "\n",
    "sns.barplot(x='Date', y='Sales + Tips', data=temp)\n",
    "plt.title('Monthly Sales')\n",
    "plt.xticks(np.arange(len(temp['Date'])), [i.date() for i in temp['Date']], rotation=45);"
   ]
  },
  {
   "cell_type": "markdown",
   "metadata": {},
   "source": [
    "#### <a id='Header 3-1'>Monthly Sales Growth</a>"
   ]
  },
  {
   "cell_type": "code",
   "execution_count": 10,
   "metadata": {
    "scrolled": true
   },
   "outputs": [
    {
     "data": {
      "image/png": "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\n",
      "text/plain": [
       "<Figure size 432x288 with 1 Axes>"
      ]
     },
     "metadata": {
      "needs_background": "light"
     },
     "output_type": "display_data"
    }
   ],
   "source": [
    "temp = daily_df.copy()\n",
    "temp['Date'] = pd.DatetimeIndex(temp['Date'] - pd.to_timedelta(0, unit='d'))\n",
    "temp = temp.groupby([pd.Grouper(key='Date', freq='M')])[['Sales']].agg('sum').reset_index()\n",
    "temp = temp.assign(**{'Growth': (temp['Sales'] - temp['Sales'].shift(1)) / temp['Sales']})\n",
    "\n",
    "sns.barplot(x='Date', y='Growth', data=temp)\n",
    "plt.title('Monthy Sales Growth')\n",
    "plt.xticks(np.arange(len(temp.index)), [i.date() for i in temp['Date']], rotation=45)\n",
    "plt.ylabel('Sales Growth (%)')\n",
    "plt.ylim(-.4, .4);"
   ]
  },
  {
   "cell_type": "markdown",
   "metadata": {},
   "source": [
    "#### <a id='Header 3-2'>Forecasting Monthly Sales</a>"
   ]
  },
  {
   "cell_type": "markdown",
   "metadata": {},
   "source": [
    "In forecasting future monthly sales, we will adopt a naive approach by taking the average monthly sales growth (from after COVID re-opening) and applying it to a number of months in the future."
   ]
  },
  {
   "cell_type": "code",
   "execution_count": 11,
   "metadata": {
    "scrolled": true
   },
   "outputs": [
    {
     "data": {
      "image/png": "iVBORw0KGgoAAAANSUhEUgAAAnAAAAFzCAYAAAC+bzSQAAAABHNCSVQICAgIfAhkiAAAAAlwSFlzAAALEgAACxIB0t1+/AAAADh0RVh0U29mdHdhcmUAbWF0cGxvdGxpYiB2ZXJzaW9uMy4xLjEsIGh0dHA6Ly9tYXRwbG90bGliLm9yZy8QZhcZAAAgAElEQVR4nO3dd5glVbWw8XcxQ85hkAwCgwgoqIAoBoJEUbIiGbniRcGMivrJvSqma0RBRUHABAqKiChyFb0mFFBQERAkjqRBgggiAuv7Y+/DlE33TE+f0F2H9/c89fSpcGrVrrO7zjq7qnZFZiJJkqT2WGCyN0CSJEnzxwROkiSpZUzgJEmSWsYETpIkqWVM4CRJklrGBE6SJKllTOAkjUtEZESsO8nbcHBE/Gwyt6GNIuJrEbHbZG/H/JhIfYuIhSPiqohYsV/bJU0VJnBSy0TEDRHxUESsMGL6ZfVLb60exPhxRPxHt+sZY90LRcRHI2JWRPw9Iq6PiI/3I9Y4t+fgiHikbktn+PRkbc/8iIhTIuJ981jm6cDGwLcb02ZExFcj4p6IuDsivjKX97emvmXmP4GTgbd1uy5pqjOBk9rpeuAVnZGIeBqw6ORtznw5GtgU2BxYEtga+O2kbhH8MjOXaAxHzO8KImJ6PzasB14NfCX/vdf2bwK3AWsCKwIfmcc62lTfvgocFBELT/aGSP1kAie105eAAxvjBwGnNReIiKUj4rSImB0RN0bEuyJigTrv4Ij4WUR8pLbAXB8RO9V5xwLPBz49SmvUiyLimvqe46NYOCLuql/qndgrRsQ/ImLGKNu+GfCtzLwlixsy87TGe98eEX+OiPsi4o8RsftYOyEi1o+IC2r8qyPiZY15O9f33xcRf4mIt4xnx87nPvx5RHw8Iu4C/qtOf2VEXFn30fkRsWZjfRs2tvf2iHhHnb55RPyytojdGhGfjoiF6ryoMe6IiHsj4ncRsVFEHAbsB7y1fk7fGaMYOwE/aWzD9sDqwFGZeW9m/isz55VAT5n6Vt+zbkT8pO6POyPijM4bMnMWcDewxTzKJLVbZjo4OLRoAG4AXgRcDTwVmAbcTGlNSWCtutxplNNmSwJrAX8CDq3zDgb+Bbyqvv9w4BYg6vwfA/8xIm4C5wLLAGsAs4Ed67wTgA81ln098J0xtv9dwE3Aa4CndWI25u8NrEL5gfly4H5g5cZ2/6y+XryW+xBgOvBM4E5gwzr/VuD59fWywDPH2J7H1jnKvHntw4eBI2v8RYHdgGvr5zK9lvUXdfkl6za9GVikjj+7znsWJeGYXuNcCbyhztsBuLTu96jr7uyPU4D3zaWuLF4/txmNae8Gzge+DPwVuBh4Ycvq29eAd9Y6sgjwvBHvPQd43WT/rzo49HOwBU5qr06ryHbAVcBfOjMiYhol+Tk6M+/LzBuAjwIHNN5/Y2Z+PjMfAU4FVgaeNI+YH8zMezLzJuBCYJM6/VRg306LS43zpTHW8QHgQ5TWo0uAv0TEQZ2ZmfmNLK1zj2bmGcA1lNOtI+0C3JCZX8zMhzPzN8BZwF51/r+ADSJiqcy8u84fyxa19aszbDHOfXhLZn6qxv8H5XTlBzLzysx8GHg/sElthdsFuC0zP5qZD9Z1/qqW+dLMvKiu5wbgc8ALG+VYElifkvBcmZm3zqUsTcvUv/c1pq0GbE/5/FaqZfp2jLjGbRRTqb79i5JArlL35cgbW+5rlF0aSiZwUnt9CdiX0rpx2oh5KwALATc2pt0IrNoYv63zIjMfqC+XmEfM2xqvH+gsXxOR+4EXRsT6wLqUVpDHycxHMvP4zNyS8iV7LHByRDwVICIOjHKB/D0RcQ+wUS3PSGsCz24mXpSkcKU6f09gZ+DGerrtOXMp10WZuUxjuIjx7cObR9mmTza25y5Kq9mqlNOWfx4teESsFxHnRsRtEfE3SuK3Qt1fPwI+DRwP3B4RJ0bEUnMpS9M99e+SjWn/oCS+J2U5fXp6LceW81jXlKlvwFsp+/XXEXFFRLxyxPuWZE7ZpaFkAie1VGbeSLm4fGfKRelNdzKnlaJjDRqtJvNa/QQ26VRgf0qry5mZ+eA8g2T+IzOPp1yztEFtqfo8cASwfGYuA/yB8mU90s3AT0YkXktk5uF13Rdn5q6Ui/TPBr4+n+UZzz4cuZ9uBl49YpsWzcxf1HnrjBHrM5RWrZmZuRTwDhplzszjMvNZwIbAesBRY8T/N5l5PyVpXK8x+Xfzet8Y65oy9S0zb8vMV2XmKpRWzxPi37sceSpw+fysU2obEzip3Q4Ftqlf1I+pp6m+DhwbEUvWxOhNlOuexuN2YO353JYvAbtTkriRLTSPiYg3RMRWEbFoREyvp0+XpNyJ2rlma3Zd9hBKC9xozgXWi4gDImLBOmwWEU+N0lXJfhGxdGb+C/gb8Mj8FGaC+/CzwNERsWHd/qUjYu/G9q5Uy79wXeez67wl6zb+vbZgHt7YX5tFxLMjYkFKK+eDjbKM53M6jzmnYwG+BSwbEQdFxLSI2IvSUvbzeawHpkh9i4i9I2K1Ono3pc48UuetCiwHXDTe9UltZAIntVhm/jkzLxlj9pGUL/zrgJ9Rulc4eZyr/iSwV73777hxbsss4DeUL9OfzmXRf1Cuj7qN0nLzWmDPzLwuM/9Y5/2S8qX+NMZILDLzPsq1XPtQLoi/jXJtXaf7iAOAG+opyf+kJJbza772YWZ+q27D6TXuHyh3gXa2dzvgJXVbr6F0oQLwFsrpyfsoLZBnNFa7VJ12N+W05F+Z0+3HSZSWy3si4uwxNutEYL/OHZyZeRfw0hrzXuDtwK6Zeee8dsYUqm+bAb+KiL9TTtW/PjOvr/P2BU7N0iecNLQ6dwBJUtci4mTKhf3vmuxt0RwR8VXg65k5VpI3FKL0/XY58ILMvGOyt0fqJxM4ST0RpUf+y4BnNFpDJEl94ClUSV2LiPdSThf+j8mbJPWfLXCSJEktYwucJElSy5jASZIktcz0yd6AQVthhRVyrbXWmuzNkCRJmqdLL730zsycMXL6Ey6BW2uttbjkkrG6MZIkSZo6IuLG0aZ7ClWSJKllTOAkSZJaxgROkiSpZUzgJEmSWsYETpIkqWVM4CRJklrGBE6SJKllTOAkSZJaxgROkiSpZUzgJEmSWsYETpIkqWVM4CRJ7bTVVmWQnoBM4CRJklrGBE6SJKllTOAkSZJaxgROkiSpZUzgJEmSWsYETpIkqWVM4CRJklpm+mRvgCRJUj/d8akLer7OFY/crufrnB+2wEmSJLWMCZwkSVLLmMBJkiS1jAmcJElSy5jASZIktYwJnCRJUsuYwEmSJLWMCZwkSVLLmMBJkiS1jAmcJElSy5jASZIktYwJnCRJUsuYwEmSJLWMCZwkSVLLmMBJkiS1jAmcJElSy/Q1gYuIN0bEFRHxh4j4WkQsEhFPjohfRcQ1EXFGRCxUl124jl9b56/VWM/RdfrVEbFDY/qOddq1EfH2fpZFkiRpquhbAhcRqwKvAzbNzI2AacA+wIeAj2fmTOBu4ND6lkOBuzNzXeDjdTkiYoP6vg2BHYETImJaREwDjgd2AjYAXlGXlSRJGmr9PoU6HVg0IqYDiwG3AtsAZ9b5pwK71de71nHq/G0jIur00zPzn5l5PXAtsHkdrs3M6zLzIeD0uqwkSdJQ61sCl5l/AT4C3ERJ3O4FLgXuycyH62KzgFXr61WBm+t7H67LL9+cPuI9Y02XJEkaav08hbospUXsycAqwOKU050jZectY8yb3+mjbcthEXFJRFwye/bseW26JEnSlDa9j+t+EXB9Zs4GiIhvAs8FlomI6bWVbTXglrr8LGB1YFY95bo0cFdjekfzPWNN/zeZeSJwIsCmm246apInSZIG5/aPX9bzdT7pjZv0fJ1TVT+vgbsJ2CIiFqvXsm0L/BG4ENirLnMQ8O36+pw6Tp3/o8zMOn2fepfqk4GZwK+Bi4GZ9a7WhSg3OpzTx/JIkiRNCX1rgcvMX0XEmcBvgIeB31Jawb4LnB4R76vTTqpvOQn4UkRcS2l526eu54qI+Dol+XsYeG1mPgIQEUcA51PucD05M6/oV3kkSZKmin6eQiUzjwGOGTH5OsodpCOXfRDYe4z1HAscO8r084Dzut9SSZKk9vBJDJIkSS1jAidJktQyJnCSJEktYwInSZLUMiZwkiRJLWMCJ0mS1DImcJIkSS1jAidJktQyJnCSJEktYwInSZLUMiZwkiRJLWMCJ0mS1DImcJIkSS1jAidJktQyJnCSJEktYwInSZLUMtMnewMkSdLUMOsjt/V8nau9ZaWer1O2wEmSJLWOCZwkSVLLmMBJkiS1jAmcJElSy5jASZIktYwJnCRJUsuYwEmSJLWMCZwkSVLLmMBJkiS1jAmcJElSy5jASZIktYwJnCRJUsuYwEmSJLWMCZwkSVLLmMBJkiS1jAmcJElSy5jASZIktYwJnCRJUstMn+wNkCRJY/v1F+/o+To3P2TFnq9Tg2ULnCRJUsuYwEmSJLWMCZwkSVLLmMBJkiS1jAmcJElSy5jASZIktYwJnCRJUsuYwEmSJLWMCZwkSVLLmMBJkiS1jAmcJElSy5jASZIktUxfE7iIWCYizoyIqyLiyoh4TkQsFxEXRMQ19e+yddmIiOMi4tqI+F1EPLOxnoPq8tdExEGN6c+KiN/X9xwXEdHP8kiSJE0F/W6B+yTw/cxcH9gYuBJ4O/DDzJwJ/LCOA+wEzKzDYcBnACJiOeAY4NnA5sAxnaSvLnNY43079rk8kiRJk65vCVxELAW8ADgJIDMfysx7gF2BU+tipwK71de7AqdlcRGwTESsDOwAXJCZd2Xm3cAFwI513lKZ+cvMTOC0xrokSZKG1vQ+rnttYDbwxYjYGLgUeD3wpMy8FSAzb42IFevyqwI3N94/q06b2/RZo0yXJKmvzv7GnT1f5257r9DzdWp49fMU6nTgmcBnMvMZwP3MOV06mtGuX8sJTH/8iiMOi4hLIuKS2bNnz32rJUmSprh+JnCzgFmZ+as6fiYlobu9nv6k/r2jsfzqjfevBtwyj+mrjTL9cTLzxMzcNDM3nTFjRleFkiRJmmx9S+Ay8zbg5oh4Sp20LfBH4BygcyfpQcC36+tzgAPr3ahbAPfWU63nA9tHxLL15oXtgfPrvPsiYot69+mBjXVJkiQNrX5eAwdwJPCViFgIuA44hJI0fj0iDgVuAvauy54H7AxcCzxQlyUz74qI9wIX1+Xek5l31deHA6cAiwLfq4MkSdJQ62sCl5mXAZuOMmvbUZZN4LVjrOdk4ORRpl8CbNTlZkqSJLWKT2KQJElqGRM4SZKkljGBkyRJahkTOEmSpJYxgZMkSWoZEzhJkqSWMYGTJElqGRM4SZKkljGBkyRJahkTOEmSpJbp97NQJUkaiGO/dWvP1/nO3Vfu+TqlXrAFTpIkqWVM4CRJklrGBE6SJKllTOAkSZJaxgROkiSpZUzgJEmSWsYETpIkqWVM4CRJklrGBE6SJKll5juBi4gFImKpfmyMJEmS5m1cCVxEfDUiloqIxYE/AldHxFH93TRJkiSNZrwtcBtk5t+A3YDzgDWAA/q2VZIkSRrTeBO4BSNiQUoC9+3M/BeQ/dssSZIkjWX6OJf7HHADcDnwfxGxJvC3fm2UJGk47H3W73q+zm/s+fSer1Nqm3ElcJl5HHBcY9KNEbF1fzZJkiRJczPemxieFBEnRcT36vgGwEF93TJJkiSNarzXwJ0CnA+sUsf/BLyhHxskSZKkuRtvArdCZn4deBQgMx8GHunbVkmSJGlM403g7o+I5al3nkbEFsC9fdsqSZIkjWm8d6G+CTgHWCcifg7MAPbq21ZJkiRpTOO9C/U3EfFC4ClAAFfXvuAkSZI0YHNN4CJijzFmrRcRZOY3+7BNkiRJmot5tcC9ZC7zEjCBkyRJGrC5JnCZecigNkSSJEnjM96bGIiIFwMbAot0pmXme/qxUZIkSRrbeJ/E8Fng5cCRlJsY9gbW7ON2SZIkaQzj7QfuuZl5IHB3Zv438Bxg9f5tliRJksYy3lOo/6h/H4iIVYC7gCf3Z5Mk6Ylnl2+c2fN1nru33XVKw2q8Cdy5EbEM8GHg0jrtC/3ZJEmSJM3NvPqB2wy4OTPfW8eXAH4PXAV8vP+bJ0mSpJHmdQ3c54CHACLiBcAH67R7gRP7u2mSJEkazbxOoU7LzLvq65cDJ2bmWcBZEXFZfzdNkiRJo5lnAhcR0zPzYWBb4LD5eK8ktdouZ53c83Weu+cre75OSU8880rCvgb8JCLupNyJ+lOAiFiXchpVkiRJAzavR2kdGxE/BFYGfpCZWWctQOnUV5IkSQM2z9OgmXnRKNP+1J/NkSRJ0ryM90kMkiRJmiJM4CRJklqm7wlcREyLiN9GxLl1/MkR8auIuCYizoiIher0hev4tXX+Wo11HF2nXx0ROzSm71inXRsRb+93WSRJkqaCQbTAvR64sjH+IeDjmTkTuBs4tE4/FLg7M9elPOXhQwARsQGwD7AhsCNwQk0KpwHHAzsBGwCvqMtKkiQNtb4mcBGxGvBi6nNTIyKAbYDOU5tPBXarr3et49T529bldwVOz8x/Zub1wLXA5nW4NjOvy8yHgNPrspIkSUOt3y1wnwDeCjxax5cH7qkdAwPMAlatr1cFbgao8++tyz82fcR7xpouSZI01PqWwEXELsAdmXlpc/Ioi+Y85s3v9NG25bCIuCQiLpk9e/ZctlqSJGnq62cL3JbASyPiBsrpzW0oLXLLRESn/7nVgFvq61nA6gB1/tLAXc3pI94z1vTHycwTM3PTzNx0xowZ3ZdMkiRpEvUtgcvMozNztcxci3ITwo8ycz/gQmCvuthBwLfr63PqOHX+j+qTH84B9ql3qT4ZmAn8GrgYmFnval2oxjinX+WRJEmaKibjgfRvA06PiPcBvwVOqtNPAr4UEddSWt72AcjMKyLi68AfgYeB12bmIwARcQRwPjANODkzrxhoSSRJkibBQBK4zPwx8OP6+jrKHaQjl3kQ2HuM9x8LHDvK9POA83q4qZIkSVOeT2KQJElqmck4hSpJE/bib3605+v87h5v7vk6JamfbIGTJElqGRM4SZKkljGBkyRJahmvgWu52z7z331Z70qHH9OX9UqSpO7ZAidJktQyJnCSJEkt4ylUSXqC2e3M/+35Os/e60U9X6eksdkCJ0mS1DImcJIkSS1jAidJktQyJnCSJEkt400Mkrq209lH9nyd39vtUz1fpyQNC1vgJEmSWsYETpIkqWVM4CRJklrGBE6SJKllTOAkSZJaxgROkiSpZUzgJEmSWsYETpIkqWVM4CRJklrGBE6SJKllTOAkSZJaxgROkiSpZUzgJEmSWsYETpIkqWVM4CRJklrGBE6SJKllTOAkSZJaxgROkiSpZUzgJEmSWsYETpIkqWVM4CRJklrGBE6SJKllTOAkSZJaxgROkiSpZUzgJEmSWmb6ZG+ApP54y5k79nydH9nr+z1fpyRp/tkCJ0mS1DK2wPXB7M98uS/rnXH4/n1ZryRJahdb4CRJklrGBE6SJKllTOAkSZJaxgROkiSpZUzgJEmSWsa7UKUB+tRXduj5Oo/c7/yer1OSNLX1rQUuIlaPiAsj4sqIuCIiXl+nLxcRF0TENfXvsnV6RMRxEXFtRPwuIp7ZWNdBdflrIuKgxvRnRcTv63uOi4joV3kkSZKmin6eQn0YeHNmPhXYAnhtRGwAvB34YWbOBH5YxwF2AmbW4TDgM1ASPuAY4NnA5sAxnaSvLnNY432973pekiRpiulbApeZt2bmb+rr+4ArgVWBXYFT62KnArvV17sCp2VxEbBMRKwM7ABckJl3ZebdwAXAjnXeUpn5y8xM4LTGuiRJkobWQG5iiIi1gGcAvwKelJm3QknygBXrYqsCNzfeNqtOm9v0WaNMlyRJGmp9T+AiYgngLOANmfm3uS06yrScwPTRtuGwiLgkIi6ZPXv2vDZZkiRpSutrAhcRC1KSt69k5jfr5Nvr6U/q3zvq9FnA6o23rwbcMo/pq40y/XEy88TM3DQzN50xY0Z3hZIkSZpk/bwLNYCTgCsz82ONWecAnTtJDwK+3Zh+YL0bdQvg3nqK9Xxg+4hYtt68sD1wfp13X0RsUWMd2FiXJEnS0OpnP3BbAgcAv4+Iy+q0dwAfBL4eEYcCNwF713nnATsD1wIPAIcAZOZdEfFe4OK63Hsy8676+nDgFGBR4Ht1kCRJGmp9S+Ay82eMfp0awLajLJ/Aa8dY18nAyaNMvwTYqIvNlCRJah0fpSVJktQyJnCSJEktYwInSZLUMiZwkiRJLWMCJ0mS1DImcJIkSS1jAidJktQyJnCSJEktYwInSZLUMiZwkiRJLdPPZ6FqyFxxwkt7vs4NX3NOz9cpSdKwswVOkiSpZUzgJEmSWsYETpIkqWVM4CRJklrGBE6SJKllTOAkSZJaxgROkiSpZUzgJEmSWsYETpIkqWVM4CRJklrGBE6SJKllTOAkSZJaxgROkiSpZUzgJEmSWsYETpIkqWVM4CRJklrGBE6SJKllTOAkSZJaxgROkiSpZUzgJEmSWsYETpIkqWVM4CRJklrGBE6SJKllTOAkSZJaxgROkiSpZUzgJEmSWsYETpIkqWVM4CRJklrGBE6SJKllTOAkSZJaxgROkiSpZUzgJEmSWsYETpIkqWVM4CRJklrGBE6SJKllTOAkSZJaZvpkb4A02U7/4g49X+c+h5zf83VKktRhC5wkSVLLtD6Bi4gdI+LqiLg2It4+2dsjSZLUb61O4CJiGnA8sBOwAfCKiNhgcrdKkiSpv1qdwAGbA9dm5nWZ+RBwOrDrJG+TJElSX7U9gVsVuLkxPqtOkyRJGlqRmZO9DRMWEXsDO2Tmf9TxA4DNM/PIEcsdBhxWR58CXD3QDZ27FYA7jWUsYxnLWEMZaxjLZKzBWjMzZ4yc2PZuRGYBqzfGVwNuGblQZp4InDiojZofEXFJZm5qLGMZy1jGGr5Yw1gmY00NbT+FejEwMyKeHBELAfsA50zyNkmSJPVVq1vgMvPhiDgCOB+YBpycmVdM8mZJkiT1VasTOIDMPA84b7K3owuDPLVrLGMZy1jGGmysYSyTsaaAVt/EIEmS9ETU9mvgJEmSnnBM4PSEFREx2dvQD81yDWsZ+21Y9+GwlkvdG9a6MazlAhM4jcOg/wEG+E+28CTF7bclOi8yMyNiaP7PB/gZDes+XLY+gnDYyjUphuiYAdb51hmagjyRRMQLIuJ5A6yIy3QOVP38B4iI50bEajVGXw+MEbEjcHpEHB0RB0P/yjbIzysiXgycGxEfjIhjADLz0SEo1yDrxrDuw5cC/wt8OiI+D6VcfYw3sO+XAcdaJyI2hceOGX2pj8N63KjxBvJ5DXOdByAzHVo0AC8EHgV+CTwHWKDP8XYCfgZ8GPh8Y3r0OM62tVxXAKv1I0Yj1qbATcBewKsoz9D9Qj/KNsjPC3gacA3wYuD5wHeBcxvzexZ7wOUaZN0Y1n04E7gc2BpYhdL10jnA4r0uV13fNsD+wLL9KtMkxXox8EfgQuCixvReHw+H8rgxyM9rmOt8Z7AFrkUiYmFgXWBP4EvAu4Hn9PFX0ibA/wDvrMNTI+L/ImKRzN61VkXEYsCzgV2BM4FvNlpb+lG2R4FvZeaZwKnAkcCMiDgRyq/qXgQZ9OcF3A/8PDO/m5k/zcwXAwtHxHegd788B1muSagbQ7cPq3soX9JXZuYtmbkDpaynw2OtLT1pSYqILSmtHgcB20fEsr1Y7xSItSHwPmD/zNwauCMi1obeHTNqnKE8bsBgPy+GtM43mcC1SGb+E/gmcEFmngD8kJJYbdk5x9/rkMCFmfmTzPwX8EZgHeCUuj09+cfOzAeA02qsY4CfUr6o1+zlwaMZEtgmItbPzIcyczblWblLRsQ+PQsy+M/rX8DKEbFZYxu2o1yq87ZeBRlkuSahbgzdPqzup3yhNcv1CsoX9afreNdJSERMB5YFXg58DtgF2LH5hdbDL82BxaruA34LzI6I5YEtgWMj4vs1uetJvGE9bkzC5zV0df5xBtXU5zDxAXgupZVoa0Y0zwJHUToyXhc4BHhTD+NuAlxCaRpehvJL8Ejge8DberD+ZwGvANZnxCkI4KPAryk/Ml5C+dXbbax9gPXr+Jsop0Jm1vGFgDcAb2zT51VjHQFsXccPpTwP+CmNZXYC/qtl5Rpk3RjWfbgVcAywH7Bc3Ve/AZ7XWGZd4BPdlmtE3AWZc5pqP0oCvh+wXC/jTEKslYDPU1rFrgKOqtM/BvygZXVjYHV+kJ/XE6HO/1vcfq7coScVY0fKtT8fo5zD37lOn9ZY5mDgBuBGYKMu420KHAg8s46/AvgB8FXg+41tOqoH5foj8AXgUuDpdfqCjWXeBdxdy7V+j2Jd1oj1DuBqYMM6/kbgK5QnlEzompZBfl4jYl3QiHVUPRhvWcdfA3yfctdtW8o1yLoxjPtwJ8r1P++udfqwOv1QyhfansAawCuBXwCLTTRWXe9WwH9RvrTWGjHvAMoX2nbAW4EPtCjWlpQfe7tQfsTOoFxbdRqwXmO5H1B/DLagbgyszg/y8xrmOj/mNvRjpQ49+nBKC9jvG/9Q763/ZCvSyOyB3YF7gQ26jNe5QPeLwNnAgXX6qpQm4gXq+FHAZyjPn53vf2xgc+DPjXKdUCv8YsDCjeV2A+7qplxjxDqo889LOXV6KXAycB01mZvqn9cYsd4OrFjHX0a5YPd0ysG6mwP+IMs1yLoxrPvwKZRTzc+r46+ntFquR2lpfgFwPPAtSkvm0ycaq66/+cX5JeoX54hltqvL3Aw8oyWxdgH+AHwcOKnGXLTOexfllNkK9TO7HFihBXVjYHV+kJ/XMNf5uW5HP1bq0KMPpzTLblpfrwz8pVbALwLHAWvVZQ6mi8Sjrn+jerDarI4fAPycf//SDErz/SzgqV3EWhLYor5eDfgr5QL1b1B+7S4PLE257qPbA8hosc6qw5vq9PXrsEaLPq+xYp1WYy1B+QJYBVilReUaZN0Y1n04HXhafb0i5ULubwKfonw5r1ljLQ3M6DLWaF+cH/kFwCgAABlUSURBVKZ8ca7RWG53yjVkvU5M+xVrJuXykc3r+LaUi9SXq+O7Uk5pnglc3NnfLagbg6zzg/y8hrLOz3Nb+rVihy4/mBG3OAM7A4fX1xvXf7gX1vFpPYi3NCVpW6Ax7Vz+/ZqIJSjNz90kbyPL9XLgrY0yfqezfmChHu/DkbG+201ZJuvzGkesr3Ritbxcg6wbw7oPXwDsV1+vQPmS3qcX5arrHOuL8xOUL87OvO26/SKbhFj7A4s0pp0NbNMYXxV4Ml0kOsN63Bjk5zXMdX5ew3Q0JeWIO+wy87zG68sj4hFg9Tr+SDexIiIy896IOD3LrdXT6jqXoFwI2rmF/kbgi1lr50SMUq4zGq/Pi4gDKb84r6TcHTVh44y1Zo3VlUF+XuOI9RCl9aortV5MZrkGWTf6sg/HGauf+/D/Gq/vrHfDrdhNjI6IWCAzH6ackoPSiv1fmfmViFiBcppxwzr/f7s5bkxSrC/X8c7x8FFg8Tptc+AvmXn9ROPApNeNvtX5QX5ew1rnx8NuRKaIsW4zHm16RLwMeCblFGfXOpUsS1chUK5tA7gDuDUidqf0B7dIryrkGOV6ObAB5VQuXR6EpzVezy3WFV3EeNz/T78+r4iYERELzUesX3QR6ykRsWxz/w+iHnZi9LtujBZzxLSu9+FoMQaxD0fGHCXW8yin/ro22hdnZn6lvr6TchxZsY539XlNZizmfE/eTDkevgT4ICWh68qg6sY4joc9rfP9/rwiYo2IWGLEtL7W+Zq8Dawejks/m/cc5qtZdtn6NxrTOjcNPJ1yzUWnWf8qurwWYoxtGNldw0copxl/xQSv8aBclL4vpS+ezo0DnXKtT7mdfZFelIty+/37GuPT+hjrpZTrHpqnnPvyeVEu2P865fb36HOs7Sl35u5ax6f3MdZWlDuB9wOW73PdeEbd9jWBJeu0BftUrucBr6b0at+5OHyhPsVaaZRpnTqyKXBofb0/peWyZ8eNRpzH3chEuRj+t8C6vYo3qFhjlYtywfpv6e54+HxKVyG7UW966OP/13bAKY3xvv0v13UuPojPq273d2nciNAoV8/rPOXGj5VGTBtYnZ/rtg0qkMNcK8juwIPAniMrB+WRKs27hlZlxC3LE4i3MSUBmcmcpGpa/ft0YPf6+nTg7138o+1EaTE5kXI93fMb87au855Vx58BrD3BOEG50+hsSueN/zNi/la9ilXfvwPltvQXjTJv615+XpQE+CpGuTaFcmF1L2NtX8v1A+CrI+b1tB5S+me6nNKS8WVgx8a8bXr8eb20ru+zlDvTjgNWbsTqZbl2BP5UY5xA6TNxvT59XrtRWoEOHmXecyhd5ryoji8MrD7RWHUdz6ZcSP9C5lzM3zlu9PSLkwEmpuMo16vq648A/wTWmWCczp2LHwK+Buw7os73pG5QjofTKddkPQqcNmJ+T49RdR27UHomWLSfnxfl++mqzraPmPf8un97Wee3p7S8vqVTL/pVDye0fYMM5jBqBVmb8ly9j1HuuNurTu/8ongNsEd93fXz9phza/xZlARtj8a8zpf0C+r4OjT6OprPOJvXOJ07Co+j3ACxBOVOw8M7Ze3hvtyD0jnlGcDnOvuR0hqyZ49iPJ1yLWDnM1mO0rq4DrAopTWp8xn24vN6GfCx+noNSh99L6sH3T2Al/UiFiXJvQHYpI7/AnhlY37P6mHdT18Dnl3H/5vSV9KGlDvjXgXs3aPPaxFKgti58+55lBaUr1A6Zt2fUX44dRHvvcBrG3XjKEpSvHb93Pbu0T5cpf4Pf4xyGcABI+bvx5z+vab3oFy71GPDFyhd7ry5s156nCwywMR0nOXarhFrosfDp1Gea/rcOv7/gLdRrjlbknLDTk/qRiPmsynHvv8FvtuY/jJ6e4zasdbxrUeZ97wef16PtSpSjodHUjpgX4fy/fXSHtb5zg/ak3j8D9qe/0Ca0DYOOqDD4yrJksBu9fVOwN8YJbGhN3eaPpPSz9sz6vjrgG835je/pLt60C+lw8vOL7wnUboeObceKD/AnFNLvTiAdH4Rvbz+s60OfJvSIvcN5py+6kWsFSktVEcw5/qUsyl3IR0LLNGrWHU9OwMfra9/SmlFOoGShKzew3LNpCZUdfwI4Nix9nWXsRamdCB6DOUL7FpKMvLF+nmt0eNYPwRe3Zj2OUr3Au/uVbkadfDNwIdHzDuq1o+leliuRZjTi/7WlD4MDxhluV4cNzasX1ad48butc4vXMd7liwywMR0Psu1YJexlmVOi/IKlL4Oz6X0TfZVatcWPaobUYcdgM/WaT+ux4yfjayzXcaaSfmhfkQdXw54EbBFLfMOwEt68XnVdWxMOf4tUcv0YUrL6C3MeapOL8q1JeXu0s4Pv18B/68f9bCr7ZyswE/0gdJtR+e6t2Zv2zvSSOIojxRaqkcx12BEh4OUXr/XGDFtwgf9Wq7lRkw7BDiyvt6yHrCe1aN9uFRjfCHqlyel1+37afzy7EGszumVlSldWtzAnNMrW1JadbrusLFZLkoifHU92L+mscwHgf/sZT0cMX2jWr4du40xItYy9fWGlOT3e9Reymv9PJ56/V0PY21LSRjfQzmFehYl6Tmjm7o+RtzVgJuA1zWmdR7B9Mwex2oeN7aiJHGdzrdfwAQ7lh0lzrKUDq+bl3ZcQP1yG217uoi1GLWrDvqfmC5fy9Xcjz0tV/3sR14/tTtwUKO+nERNcrosz0qM6OMM+FT9uyWlT7JLe1wHl6OcOj2Kcm3aRfX/6nRKK3vnOr9unuTwWLkoDR4/pfwgekNjmXczyg/OLmI+qfn/SmmpPb5zTJkqg3ehToKI2IvS0vC9iDiUcncdAJn5fUoT92cj4lRKL+CLdBlv6XpX4U3AqXXaQhGxCLAUc26NnxkRi+UEb1dvlOu8iHhlRDytlumLmfmp+vrnlNOaK3VZpk6sHzRiPQIsHxHvAd5PaWFcLCI+0qNY50XEYXXy/pQ+yj4Pj5VrQXpbrk6snSidR27TWPQRymfXi1jfa35eAJn5B8o+3C8ilukmzohY34+IVwN3ZeaWlLvD/lJj3kTZh6v2MNYrKQ+0fgvluqC/ZuaemXkhpd531W1CRGwTjQd+Z+YsyhfZIRHx+jrtNsr/8Ia9jNWYvkBm/pjyyKC3R8RXKZcsdHXc6MjMu4GTMzOjPLgb4GHK/iQiNomIpSd63KjrWCkiVsrMBzLzRzXuhZTLLv67diFDRLwgIlboQayVM/OvmXliZj4SEQv3ulwRsSelHp4dEW+NiB1qub6VmafW17OApDyma8Iasb5TY+3UmPcpypmP/YDptX50pbEP7wKOprScvp/SzdTLKQnd/dQHyWfNgiYQp1muoymnSnen/MB8aePu2vu7KU8jXqdct2fmbxqzrqBcFrRjL+L0zGRnkE+0gfLl9DvKhdlbUS40fT/1urPGcp8F7qT7R37sRTnldxHlYNjpZHABSjP72ZTWir0p/yiPa43pslxbjVhuT8ppizV7vA8/SPkH24fS9L1bY9kJP2FhlFifpDTbbzZGuXoV64U11ofq+AbAbZR+ho6mPP6rm2eAjoz1uHpIOV3xY7q8q2qMffiBOj6T8rzF19XP7lK6e6bkaHXjA4xo/aJ0Wn05XTxsmtKydw+l1eYDI+ZtQrlW8qN1v17ZzX4cKxZzrpXt/P00MJsungxQ17MN8LbGeOei/s71YSdTruvbg9KKumIXsfaktKpcRLkubIcR87emXPrx1fo/tlofY/WkXJTWvd/WergR5TnLnwVeMcr2/JbubtIZLdaJlMsvnk+56H+vxvJP7rJuNPfhOyjX2i0EbD/Kvtyvx+U6iXK8WoFyWvO9lOPxb+j+btNmud46Snn2An5Cl0/s6eVgR76Dtwjl18Lvsvzyu4XS4rZ9RNyRmVdFxGaUCrtNZv5uooEiYlVK0/JBlCRtN2DdiFgmM39al7mN0gQ+k3LR+t09LteLaow/1+14M+VgcuNEyzWXWDtRHn+zS2ZeHRGRmX/pIs7cYu0aEffVz+tgSlK1R5ZWpF7FurXGehklCXkW5ZqS5YD9M/OqPsTaPiJmZ+aVWTr3/DXd93c11j7cm3K65eOUC5HvBg7JzGv6EGvPiHigfl67U67xOyBLC8JELUP54fAt4J0R8cHMfDtAZl4WEc+l/GJfkVLnr+11rCwdby9Q/65PaaF4UWb+fq5rm4uI2JZymvnieqw4uu7LTiemUD6rkyjXIh2SmXdMMNbylB8lr6R0zrwdsHuNewaUlriI+BHlGtdtsrRa9SUWJUnuulyUuxX/BlyfmfdExF8p14Y9PyJuz8wf1Rb2N1LqxnUTjDO3WLsAPwK2zcy/RMSCmfmv7KLz4TH24auAczPz7MZye1ESr/dNNBZjl2t/yg+znSnHxNWBL2TmnyYaaIxy7VHPXHXqxk+AV1D+x7o5zvfOZGeQT8SBkjC9g/qYFsrpsc8w5/qVJYEn9SDOOpQ7nzq/ntejVNL3UX+tUO5Q+is96LtmLuU6oI5v1Is4Y8Rav07bv4735CaCcX5ea/exXJ1Yr+zF+uenXIOMRfkFv/CAYi1HF604I2J1uuHZlHJ5woca87q6EWg+Yy1COf08oRb0EXH2pDzg/CmURzl9sDGv03feFynXVHXbOrsi5Yuxc73iypTW0ROYcy3cUymn2jfuY6zO3YSnUJKGXhwPP0k5dbl4HV+l7tfOM5hXoouWt3HGekMd79VNVWPtw880Pq/9KTc2dN2lxlzKdVQvyjM/9bBOfzNdnD3q9eA1cAPU6Cn6bEoT8L4RsWhmXk25KPPAiFgyM+/LzNu7jZeZf6accnhbRCyS5RfKNyhN05vVxd5F6Z9twq0D4yjXQRGxRGb+oZs484h1VY11cL2Ob0LXXIwz1sjP67o+lqsTa9+IWLybGPMR68CIWGwAsb5VYy2RmQ9l5j/7GKv5ed2VE2zFGSkzH6gvL6OcvlwpIt5WW2WPaFwz1u9Y/wk8khNvQW/GOQs4ru6344CVI+JDdV7naS3vpNy13FW9z9LCdRnwkYhYPDNvpdw1fBPlNDSUU9H7ZeblfYy1cV3s3ZSuj7o5Hna+V4+nJINvq/Fuodw0tmu9ju+27K7lbTyxOi2MXR8PYa778EbmfF4/oNyU0Yun3IxVrl0iYtmJrn+kcdZDMvOj2d3Zo54ygRuAxhdLx4WUc/sbAEdHxIKUO70eoMtnPI4Sc6wvs/3rF+dFmfnHLmN0zK1cD9OF+YzV1Sm/QX5e8xmr62fezkesQezDZRh83ej15wVAllOLl1Fa/valnBb+cc455djvWD/Kxz8CasLmlixGxJsy85aJHjc6xpnoLJ/lxoauEtNxxHppRMzIzJu6LVfjc/gz5UfKYpSb0lagnAV5GHiomxjzGasn9WI+EtM7snfPiJ1bubo6HnaMs1w9SxZ7yWvg+qieV38wM++HcidORCyUmQ9FxAWUmxR2oWT6i1O6pHiwy5gx4tfWhZTm4Y0pX2bvpcukapDlMpaxpmKsOm16Zj4cEcsBD2Tmg1HuNFyO0gfiRH8YDSxWY/0jjxtASRYjopMsnkfp6uWF3cRqrHvkl/SulC/pNzLnS7onP2jHGavbFuDOQ+8fex0R11NOQx8EfInyeR2emX9rS6yOce7DrhLTKVyuniSLPZdT4DzuMA6Uu5h+QLmL71X8eyepL6JcKNvpzHY1uuxfhnJadPER0zod2K5EucD/eOD/KHf6TahPqkGWy1jGakGsbShfKivV8X2BjdoQq65jtONG507T5ZhzHeErKY8U2qCbeHVd00a+rp/R0yl37X6Pcodh1/3m9TsWpbf+oxvjzWcjb82/d0y99Mh9PVVjDes+nKx62K9h0jdgGAfKhZZXU3rq357y6/WzlK4AFquVomePkZrHQb9nX2aDLJexjNWiWL16TNvAYtV4g0xMhy7RoXSWfAelm46PNKZPoyS/v6LxqMIuP6uBxRrWfTjoejiIYdI3YBgHymmGCxrja1Oe/XlCPTCuVqf34pEfg/wyG2S5jGWsVsXqNt6AYw0yMR3KRIfSpcSrKK2YP6Q+8q4xf+X6t+u7kQcca1j34UCTxUEM3sTQB1n6Avtb1CcAZLnT6AfA7ZTnV86K0qdS9iDcdOCmzPxNZv6A8giTyyldAWxBOQifOdYF0fNjkOUylrHaFqvbeIOMxfiOG2dF1WWsVSl3rW4JPCMiPgqQmY9k6Ydvt8z8ZuNi8lbEysyvAWdn5l8pT8HYOCI+0VjkH3W5rm8iGGQshnQfMth6OBiTnUEOy0CpFHswpx+yDSgPzX5LY5kXU3qdX6THsc/i339RrEN5UPhBdXzCv14GWS5jGctYw3HcGCVW51mWa1H6nvxEY15Pny/Zz1iNz2vfxrSof9eu8d5N6bX/bdR+86Z6rGHdh5NZDwcxtCfTnMIiYmfKo0s2At4REe/PclfYt4B1IuKTddElKHdVTRt9TeOOt2VE7BER+9dJ/w9YMiLeAo/1/3YJ8Ioo/b9N6NfLIMtlLGMZaziOGyNi7VvXPbve6XoD5QHyG0XEu6P02P/qKF29TOlYIz6vd0bEh2u8rH+vozwd4NXA54Hzck6/eVM2Vo03dPtwkOWaNJOdQbZ9oDyC6hLgeXV8LeA7lAeNL0p5gPUZlFvwfw88o8t4O1MerPtuyvMB31+n70jpDfuTdfzldTsmenHpwMplLGMZaziOG6PEugL48CjLLAT8hfJIrgk/t3VQscb4vL4NzKBxPSKl1egGungKwSBjDes+HHQ9nKxh0jeg7UOtlC+rr6dRLsa8iBF3bFG68li6B7EG+QUzyHIZy1jGGo7jxtAlOmN8Xr9kziMJO6cADwae2oe60c9Yw7oPB5YsTtYw6RvQ1oFyx9iCNM7PNyrgl4En19fP6mHMvh/0B1kuYxnLWMNx3JhHrNYmOvPxeW0ywLrRdaxh3YeTUQ8nc/AauAmIiBdTfq2eAHw5ItavszpPtlgOWLxea3J6RMzoMt4a9dz8DZn59Tr50Sx37lwL3F+XexZAlmfs3TuBOAMrl7GMZazhOG6MI9afKU9+gfrM0cw8JTOvnMqx5vPz+kZErBgxsTt2Bxmrxhu6fVjjDaweTgmTnUG2aaD0v7Q65TTDVsCTgDcDt9BoggVOBs4Efkb35/FfDPyBckHnGcD6dfqC9e95lAtC9weuod5lM1XLZSxjGWs4jhtdxFqRCfZjN4hY1o127cPJqIdTZZj0DWjbQGmOPZHSp0ynGfZ1lAshn1LHP0r5hbt+F3EG+g8wqHIZy1jGGo7jxrDGsm60ax8OulxTaZj0DWjLAKwLbEY5l34G8NYR898KnFor7U7A2j2I2fd/gEGWy1jGMtZwHDeGNZZ1o137cDLq4VQaJn0D2jAAuwC/A34CfBp4KeXOleYz1dYCPt+jeAP5BxhkuYxlLGMNx3FjWGNZN9q1DwddD6fiMOkbMNUH4LmUZ6c9o46fCLyP8izBm4B31Up0MOW25eW6jDeQf4BBlstYxjLWcBw3hjWWdaNd+3DQ9XCqDpO+AVN9qJXy4Mb4DOC79fXalPPqJ9QK2VVHgJNwEBlkuYxlLGP1L9bQJR+TEMu60a59OLBkcaoOk74BU32gNL0u1Xi9GvBbYOU6bU3KLdFd9Z9U1zXIf4BBlstYxjLWcBw3hjWWdaNd+3Bg5ZrKw6RvQJuGWvmWAH5Yx/enPHh60R6tf2D/AIMsl7GMZazhOG4MayzrRrv24WSVa6oNnc70NA6Z+TDw94i4OSI+AGxP+RXwjx6t/xHgb3U0gHuAuzLz1trR4fOBN+QEO9ucS9y+lstYxjLWcBw3hjXWiLjWje7jDmW5pprO7bYah9pD9ILAlfXvtpl5TZ9jngLcypx/gN/3IcbAymUsYxlrOI4bwxrLutGTGENZrqnGBG4CIuJg4OLMvKKPMSbjH+Bg+lwuYxnLWMNx3BjWWI2YB2Pd6DbmwQxhuaYKE7gJiIjIAe24AR9EBlkuYxnLWP2LdTBDlHxMUizrRvexhrJcU4UJ3BQ3yH8AScNhiJMPj4ddGtZ9OKzlmhsTOEmSpJZZYLI3QJIkSfPHBE6SJKllTOAkSZJaxgROksYQEY9ExGURcUVEXB4Rb4qIuR43I2KtiNh3UNso6YnJBE6SxvaPzNwkMzcEtgN2Bo6Zx3vWAkzgJPWVd6FK0hgi4u+ZuURjfG3gYmAFyvMWvwQsXmcfkZm/iIiLgKcC1wOnAscBHwS2AhYGjs/Mzw2sEJKGkgmcJI1hZAJXp90NrA/cBzyamQ9GxEzga5m5aURsBbwlM3epyx8GrJiZ74uIhYGfA3tn5vUDLYykoeLD7CVp/kT9uyDw6YjYBHgEWG+M5bcHnh4Re9XxpYGZlBY6SZoQEzhJGqd6CvUR4A7KtXC3AxtTrid+cKy3AUdm5vkD2UhJTwjexCBJ4xARM4DPAp+uj+xZGrg1Mx8FDgCm1UXvA5ZsvPV84PCIWLCuZ72IWBxJ6oItcJI0tkUj4jLK6dKHKTctfKzOOwE4KyL2Bi4E7q/Tfwc8HBGXA6cAn6TcmfqbiAhgNrDboAogaTh5E4MkSVLLeApVkiSpZUzgJEmSWsYETpIkqWVM4CRJklrGBE6SJKllTOAkSZJaxgROkiSpZUzgJEmSWub/AzvchL8w0toLAAAAAElFTkSuQmCC\n",
      "text/plain": [
       "<Figure size 720x360 with 1 Axes>"
      ]
     },
     "metadata": {
      "needs_background": "light"
     },
     "output_type": "display_data"
    }
   ],
   "source": [
    "# getting average monthly sales growth\n",
    "avg_growth = temp.loc[6:, 'Growth'].mean()\n",
    "\n",
    "# multiplying sales by 1 + growth rate over 6 months\n",
    "sales = (\n",
    "    np.repeat(temp.loc[12,'Sales'], 6) * np.logspace(1,6,num=6,base=1+avg_growth)\n",
    ")\n",
    "growth = np.repeat(avg_growth, 6)\n",
    "date = pd.date_range('2021-02-01', '2021-08-01', freq='M')\n",
    "\n",
    "# concatening forecasted sales with current monthly sales\n",
    "forecast = pd.DataFrame({'Date': date, 'Sales': sales, 'Growth': growth})\n",
    "temp = pd.concat([temp, forecast])\n",
    "\n",
    "# plotting\n",
    "plt.figure(figsize = (10,5));\n",
    "sns.barplot(x='Date', y='Sales', data=temp)\n",
    "plt.title('Monthy Sales Forecast (6 Months)')\n",
    "plt.xticks(np.arange(len(temp.index)), [i.date() for i in temp['Date']], rotation=45)\n",
    "plt.ylabel('Sales')\n",
    "plt.vlines(x=12.5, ymin=0, ymax=90000, color='red');"
   ]
  },
  {
   "cell_type": "markdown",
   "metadata": {},
   "source": [
    "With this naive approach, we expect to reach **approximately \\\\$87300 in sales** by the end of July 2021."
   ]
  },
  {
   "cell_type": "markdown",
   "metadata": {},
   "source": [
    "#### Sales by Employee ID"
   ]
  },
  {
   "cell_type": "code",
   "execution_count": 12,
   "metadata": {},
   "outputs": [
    {
     "data": {
      "image/png": "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\n",
      "text/plain": [
       "<Figure size 432x288 with 1 Axes>"
      ]
     },
     "metadata": {
      "needs_background": "light"
     },
     "output_type": "display_data"
    }
   ],
   "source": [
    "temp = hour_df.groupby('By')[['Total']].sum().reset_index()\n",
    "\n",
    "sns.barplot(x='By', y='Total', data=temp)\n",
    "plt.title('Sales by Employee ID')\n",
    "plt.xlabel('Employee ID')\n",
    "plt.xticks(rotation=45);"
   ]
  },
  {
   "cell_type": "markdown",
   "metadata": {},
   "source": [
    "#### <a id='Header 3-3'>Heatmap of Average Number of Sales by Hour of the Week</a>"
   ]
  },
  {
   "cell_type": "code",
   "execution_count": 13,
   "metadata": {},
   "outputs": [
    {
     "data": {
      "text/html": [
       "<div>\n",
       "<style scoped>\n",
       "    .dataframe tbody tr th:only-of-type {\n",
       "        vertical-align: middle;\n",
       "    }\n",
       "\n",
       "    .dataframe tbody tr th {\n",
       "        vertical-align: top;\n",
       "    }\n",
       "\n",
       "    .dataframe thead th {\n",
       "        text-align: right;\n",
       "    }\n",
       "</style>\n",
       "<table border=\"1\" class=\"dataframe\">\n",
       "  <thead>\n",
       "    <tr style=\"text-align: right;\">\n",
       "      <th></th>\n",
       "      <th>Receipt #</th>\n",
       "      <th>Date</th>\n",
       "      <th>By</th>\n",
       "      <th>Total</th>\n",
       "      <th>Day</th>\n",
       "      <th>Hour</th>\n",
       "    </tr>\n",
       "  </thead>\n",
       "  <tbody>\n",
       "    <tr>\n",
       "      <td>0</td>\n",
       "      <td>5585</td>\n",
       "      <td>2020-05-29 10:26:00</td>\n",
       "      <td>6005</td>\n",
       "      <td>2.56</td>\n",
       "      <td>4</td>\n",
       "      <td>10</td>\n",
       "    </tr>\n",
       "    <tr>\n",
       "      <td>1</td>\n",
       "      <td>5586</td>\n",
       "      <td>2020-05-29 10:29:00</td>\n",
       "      <td>6005</td>\n",
       "      <td>1.13</td>\n",
       "      <td>4</td>\n",
       "      <td>10</td>\n",
       "    </tr>\n",
       "    <tr>\n",
       "      <td>2</td>\n",
       "      <td>5587</td>\n",
       "      <td>2020-05-29 11:41:00</td>\n",
       "      <td>6005</td>\n",
       "      <td>10.00</td>\n",
       "      <td>4</td>\n",
       "      <td>11</td>\n",
       "    </tr>\n",
       "    <tr>\n",
       "      <td>3</td>\n",
       "      <td>5588</td>\n",
       "      <td>2020-05-29 11:43:00</td>\n",
       "      <td>6005</td>\n",
       "      <td>19.74</td>\n",
       "      <td>4</td>\n",
       "      <td>11</td>\n",
       "    </tr>\n",
       "    <tr>\n",
       "      <td>4</td>\n",
       "      <td>5589</td>\n",
       "      <td>2020-05-29 11:46:00</td>\n",
       "      <td>6005</td>\n",
       "      <td>5.33</td>\n",
       "      <td>4</td>\n",
       "      <td>11</td>\n",
       "    </tr>\n",
       "  </tbody>\n",
       "</table>\n",
       "</div>"
      ],
      "text/plain": [
       "   Receipt #                Date    By  Total  Day  Hour\n",
       "0       5585 2020-05-29 10:26:00  6005   2.56    4    10\n",
       "1       5586 2020-05-29 10:29:00  6005   1.13    4    10\n",
       "2       5587 2020-05-29 11:41:00  6005  10.00    4    11\n",
       "3       5588 2020-05-29 11:43:00  6005  19.74    4    11\n",
       "4       5589 2020-05-29 11:46:00  6005   5.33    4    11"
      ]
     },
     "execution_count": 13,
     "metadata": {},
     "output_type": "execute_result"
    }
   ],
   "source": [
    "# having a look at our hourly sales history\n",
    "hour_df.head()"
   ]
  },
  {
   "cell_type": "code",
   "execution_count": 14,
   "metadata": {
    "scrolled": true
   },
   "outputs": [
    {
     "data": {
      "text/html": [
       "<div>\n",
       "<style scoped>\n",
       "    .dataframe tbody tr th:only-of-type {\n",
       "        vertical-align: middle;\n",
       "    }\n",
       "\n",
       "    .dataframe tbody tr th {\n",
       "        vertical-align: top;\n",
       "    }\n",
       "\n",
       "    .dataframe thead th {\n",
       "        text-align: right;\n",
       "    }\n",
       "</style>\n",
       "<table border=\"1\" class=\"dataframe\">\n",
       "  <thead>\n",
       "    <tr style=\"text-align: right;\">\n",
       "      <th></th>\n",
       "      <th>Day</th>\n",
       "      <th>Hour</th>\n",
       "      <th>sum</th>\n",
       "      <th>count</th>\n",
       "      <th>avg_sum</th>\n",
       "      <th>avg_count</th>\n",
       "    </tr>\n",
       "  </thead>\n",
       "  <tbody>\n",
       "    <tr>\n",
       "      <td>0</td>\n",
       "      <td>0</td>\n",
       "      <td>11</td>\n",
       "      <td>2399.51</td>\n",
       "      <td>129</td>\n",
       "      <td>67.728105</td>\n",
       "      <td>3.641129</td>\n",
       "    </tr>\n",
       "    <tr>\n",
       "      <td>1</td>\n",
       "      <td>0</td>\n",
       "      <td>12</td>\n",
       "      <td>4786.12</td>\n",
       "      <td>286</td>\n",
       "      <td>135.092097</td>\n",
       "      <td>8.072581</td>\n",
       "    </tr>\n",
       "    <tr>\n",
       "      <td>2</td>\n",
       "      <td>0</td>\n",
       "      <td>13</td>\n",
       "      <td>3487.05</td>\n",
       "      <td>204</td>\n",
       "      <td>98.424798</td>\n",
       "      <td>5.758065</td>\n",
       "    </tr>\n",
       "    <tr>\n",
       "      <td>3</td>\n",
       "      <td>0</td>\n",
       "      <td>14</td>\n",
       "      <td>2806.07</td>\n",
       "      <td>167</td>\n",
       "      <td>79.203589</td>\n",
       "      <td>4.713710</td>\n",
       "    </tr>\n",
       "    <tr>\n",
       "      <td>4</td>\n",
       "      <td>0</td>\n",
       "      <td>15</td>\n",
       "      <td>2609.44</td>\n",
       "      <td>146</td>\n",
       "      <td>73.653548</td>\n",
       "      <td>4.120968</td>\n",
       "    </tr>\n",
       "  </tbody>\n",
       "</table>\n",
       "</div>"
      ],
      "text/plain": [
       "   Day  Hour      sum  count     avg_sum  avg_count\n",
       "0    0    11  2399.51    129   67.728105   3.641129\n",
       "1    0    12  4786.12    286  135.092097   8.072581\n",
       "2    0    13  3487.05    204   98.424798   5.758065\n",
       "3    0    14  2806.07    167   79.203589   4.713710\n",
       "4    0    15  2609.44    146   73.653548   4.120968"
      ]
     },
     "execution_count": 14,
     "metadata": {},
     "output_type": "execute_result"
    }
   ],
   "source": [
    "n_days = -(hour_df.loc[0, 'Date'] - hour_df.loc[16435, 'Date']).days\n",
    "hour_group = hour_df.groupby(['Day', 'Hour'])['Total'].agg(['sum', 'count']).reset_index().sort_values(by=['Day', 'Hour'], ascending=[True, True])\n",
    "\n",
    "avg_sum = hour_group['sum'] / (n_days/7)\n",
    "avg_count = hour_group['count'] / (n_days/7)\n",
    "hour_group = hour_group.assign(**{'avg_sum': avg_sum, 'avg_count': avg_count})\n",
    "hour_group.head()"
   ]
  },
  {
   "cell_type": "code",
   "execution_count": 15,
   "metadata": {},
   "outputs": [
    {
     "data": {
      "image/png": "iVBORw0KGgoAAAANSUhEUgAAA1IAAAFNCAYAAAAKOV5gAAAABHNCSVQICAgIfAhkiAAAAAlwSFlzAAALEgAACxIB0t1+/AAAADh0RVh0U29mdHdhcmUAbWF0cGxvdGxpYiB2ZXJzaW9uMy4xLjEsIGh0dHA6Ly9tYXRwbG90bGliLm9yZy8QZhcZAAAgAElEQVR4nOzdd3yT5f7/8dcn3YuyOoC2jLJaNgoiMmWIiCBOXCB6xJ97HbfniH71uHAdJ+jBLQ48jqMoKBsEZcveowPaAqV7Jtfvj4TaQFkduRP4PB+PPEhyXbnzvpuQ5JPruu6IMQallFJKKaWUUifPZnUApZRSSimllPI1WkgppZRSSiml1CnSQkoppZRSSimlTpEWUkoppZRSSil1irSQUkoppZRSSqlTpIWUUkoppZRSSp0iLaSUUkp5lIhMFJFPLLz/p0Vkv4jsq+XtDhCR1NrcplJKKe+lhZRSSp0iEZknItkiEmR1ltrg2p9iEYmvdN1gEdllYaw64drH+4FkY0zsMfo8KiI7RSRfRFJF5AvPplRKKeULtJBSSqlTICItgL6AAUbW0X3418V2T6AA+IcF91sj1fhbNQcOGGMyj7G9ccD1wGBjTDhwNjC7ZimVUkqdjrSQUkqpUzMWWAp8AIw7fKWI9BKRfSLiV+m60SLyp+u8TUQeFpHtInJARL4UkYauthYiYkTkJhHZA8xxXf+Va5s5IrJARDpU2nYjEfmfiOSKyDLXdLVFldrbi8gvInJQRDaLyJUn2K9/A1eLSOuqGl35Wle6/IGIPO06P8A1cvOgiGSKyF4RuUREhovIFleGR4/YZLCIfCEieSKyUkS6VNp2UxH5WkSyXCNDd1Vqmygi00XkExHJBW6oImukiHzkuv1uEXnc9fcfDPwCNHWNNn1Qxa72AGYaY7YDGGP2GWOmVNr2eBHZ6Mq9Q0RuOdYf9AT70VNElrsevwwReflY21FKKeWdtJBSSqlTMxb41HW6QERiAIwxS3GO6pxfqe81wGeu83cBlwD9gaZANvDmEdvuDyQBF7gu/wS0AaKBla77POxN1/3F4izoKhd1YTgLhs9ct70aeKtyIVaFNOBdYOJx+hxPLBAMNAP+6drWdcBZOEfw/ikirSr1HwV8BTR05fxWRAJExAb8D1jj2tYg4B4RueCI204H6uP+NznsdSASaIXzbzoWGG+M+RW4EEg3xoQbY26o4rZLgbEi8oCInF25MHbJBEYA9YDxwCsi0v3IjZzEfrwGvGaMqQckAl9WkUUppZQX00JKKaVOkoj0wTk17EtjzApgO85i6bBpOIsWRCQCGO66DuAW4DFjTKoxpgRnwXL5EVPTJhpjCowxRQDGmKnGmLxK/bu4Rlv8gMuAJ4wxhcaYDcCHlbYzAthljHnfGFNujFkJfA1cfoJdfBa4+AQF17GUAc8YY8qAz4HGOAuFPGPMemA90LlS/xXGmOmu/i/jLMJ64RwRijLGPGWMKTXG7MBZlI2pdNslxphvjTGOw3+rw1x/m6uAR1z3vQt4Ced0vRMyxnwC3ImzmJ0PZIrIw5XafzTGbDdO84FZOAvFI51oP8qA1iLS2BiT7yrElVJK+RAtpJRS6uSNA2YZY/a7Ln9GpZEg1+VLXQehuBRYaYzZ7WprDnwjIodE5BCwEbADMZVun3L4jIj4ichzrqmAucAuV1NjIArwr9z/iPPNgXMO35fr/q7FOWp0TMaYLOAN4Knj9TuGA8YYu+v84eImo1J7ERBeVV5jjANIxTlS1xzn1LvK2R/lGH+nKjQGAoHdla7bjXNU6KQYYz41xgzGOeL1/4CnDo8kiciFIrLUNV3xEM5iuXEVmznRftwEtAU2uaZmjjjZfEoppbyDFQualVLK54hICHAl4Cd/HTY7CKgvIl2MMWuMMRtEZDfO6WOVp/WB88P/jcaYxVVsu4XrrKl09TU4p7ANxllEReKcDihAFlAOxAFbXP3jK902BZhvjBlSjV19EdgB/HHE9YVAaKXLsTiLn+qqfIRAG859Sce5XzuNMW2Oc1tznLb9OEd7mgMbXNcl4Jy6eEpco2VfichDQEcRmYdzZG8s8J0xpkxEvsX5mBwphePshzFmK841aTacRfd0EWlkjCk41ZxKKaWsoSNSSil1ci7BOYKUDHR1nZKAhTg/WB/2Gc71UP1wrgE67B3gGRFpDiAiUSIy6jj3FwGUAAdwFjD/OtzgGvn5LzBRREJFpP0RGX4A2orI9a51RwEi0kNEkk60k8aYQzinwj14RNNq4BrXSNkwnGuPauIsEbnUNbXxHpz7uhRnAZcrIg+JSIjr/jqKSI+T2ajrb/Mlzr91hOvvfR9wUr9bJSI3iMhFrtvaRORCoAPwO86RriBchayrbegxNnXc/RCR60QkyjUad8h1G/sxtqWUUsoLaSGllFInZxzwvjFmj+tIbvuMMftwToW7ttJap2nAAGBOpSmA4Dy4wPfALBHJw1k0nHOc+/sI55S0NJwjK0euobkD5yjVPuBj1/2WABhj8nB+wB+Dc5RnH/A8ziLgZLzG0R/q7wYuxvmh/1rg25Pc1rF8h3MtUzbO9UuXGmPKXIXQxTgL1Z04R5jew7mvJ+tOnAfi2AEswlncTj3J2+binIK3B+e+vgDcaoxZ5Pq73oWzUMvGOWr4fVUbOYn9GAasF5F8nH/vMcaY4lPYR6WUUhYTY443Q0IppZQvEJHngVhjzLgTdlZKKaVUjemIlFJK+SBx/k5UZ3HqifPgBd9YnUsppZQ6U9R5ISXOH3H8uNJlf9ePE/5Q1/etlFKnsQic66QKcE41ewnndDmllFJKeYAnjtpXgPNoRyGu3/sYQjWOnqSUUuovxphlQGurcyillFJnKk9N7fsJuMh1/mr++oFKRKShiHwrIn+6fpujs+v6iSIyVUTmicgOEbnLQ1mVUkoppZRS6rg8VUh9DowRkWCcv2z/e6W2J4FVxpjOOI+U9FGltvY4f12+J/CEiAR4KK9SSimllFJKHZNHfpDXGPOn6wcnrwZmHNHcB7jM1W+OiDQSkcOHh/3RGFMClIhIJs5fhHf7AUgRmQBMAJg8efJZEyZMqLP98CY/pdT0yMO+5R+zPj5xp9PE0OT2VkfwqBaRzayO4DH1g+pZHcGjckvzrI7gMYdKzpx9Bfhq9TKrI3hMTMNTOfK+7xvUItnqCB5zU9JNVkfwqPCAyKp+PNyryZC4ah1e3PyS6pF99Ugh5fI9MAnn76s0qnR9VTt6+I9WUuk6O1XkNcZMAaYccTullFJKKaWUqjOePPz5VOApY8zaI65fgPPHHRGRAcB+Y0yuB3MppZRSSimlvI1I9U4e4rERKWNMKs5fbz/SROB9EfkTKAT0xySVUkoppZQ603n5L97WeSFljAmv4rp5wDzX+YPAqCr6TDzicsc6CaiUUkoppZTyPh4cXaoOT66RUkoppZRSSqmT4911lBZSSimllFJKKS+kI1JKKaWUUkopdYrO9DVSSimllFJKKXXKdERKKaWUUkoppU6Rd9dRWkgppZRSSimlvJDNuyspLaSUUkoppZRS3se76ygtpJRSSimllFJeSNdIKaWUUkoppdQp8u46SgsppZRSSimllBfSNVLK15SVlvH6ve9QXmbHYbfTpV8nLhw39Kh+q+at4eePfkUEmrZqytjHrrYgbe24psMIRrUbDBi2HdzDkwvfoNReVtHeLTaZ+88ZT+uGzXls7svM3rXUurA19NP9M/AP8UdEED8bgyYOcmsvKyzjj8l/UHSwEIfd0PbCtrTo28KasLXAYXfwyQOfE9EwjNGPj3Jrmzt1PilrUwEoLymnMKeQOz691YqYtcZhd/D23e9Rr1E9rn9yjFvbrrW7mTFlFhk7M7ji4Uvp2CfZopS1w2F38PHfpxHeKJzLjnhsATYt2sJvny8FgegWUYy4/0ILUtaOaXd8QUBwAGITbH42Rj/rvr/bFm5jzfd/AuAfHECfm3rTqEUjK6LWWEK9pjwz4N6Ky83Co5my+gs+3zCj4rqIwDAeP+82mkXEUGov4+nFb7HjUIoVcWukWVgMD5x9S8Xl2NAoPtv8Hd/v+PWvPuGx3N11PImRCXy86Ru+3T7Liqi15uPbPiUgOND1XBaueP4yt3ZjDIve/43dK/fgH+TPoNsHENUqyqK0NfPboiVMeu4l7HYHl1w2ivF/G1dlv19nzeah+x7h488/ILmjb78u1zrvrqO0kFJH8w/w5/ZJEwgKCcJebue1e94mqUc7WiQ3r+iTlbqfX6fN4+7XbiU0IpS87HwLE9dMVGhDruownCu/vocSeynPDryfoa368MPWuRV99uVnMXHBG1zfaaSFSWtPv4f6ExQRVGXb9tnbqNcsgvPuPY+S3BJmPvIzCecmYPP38l/FO4aVP6ymUVwDSgtLj2obeGP/v/r9uJrMHVmejFYnlnz3B1HxjSmpYn8joyO59L6RLPp6iQXJat+KH1bTKK4hJUVH72t2eja/f72Ma567kuDwYAoOFVqQsHaN+OdwgusFV9kWER3BiCcuIig8iJRVKSx8dzGXPOObr1d7ctO5/vsHALCJjR+unMy83X+49bmh86VsObiTh+a+SPPIpjxwzt+4Y9ZTVsStkbSCDO6Z78xtQ3h/6CSW7F3p1ie/tIAp66bRK7abFRHrxKiJIwipF1Jl255VKeTszeHa18eQsTWT+e8u4vJnR3s4Yc3Z7Xaee/oF3nr3DWJio7n+qnH0H9iXVomt3PoVFBTw+adf0LFzR4uSejkvXyPlm5+MVJ0SEYJCnB+y7eV2HOX2o57IS2b8QZ9R5xIaEQpARINwj+esTX7iR5BfIH5iI9g/kKzCg27te/Oz2Ja9G4cxFiX0IBHKi8sxxlBeUk5gmPObQ1+Utz+PnSt20mnwid+gNi3cQvu+bT2Qqu7k7M9ly7KtnH1B1R+4GsTUJ7ZlDDYffTwry9ufx47lO+k0pOrHds2sdXQb3oXgcGfhEVY/1JPxPC6mXQxB4c7X7eg20RQcKLA4Ue3o0aQjqbn72Few3+36lpFxLN+7DoDdOek0CY+iYXCkFRFrTeeoJPYVZpFV5P7+k1Oax7ZDu7Abu0XJPGvnsl20698WESG2bQylBSUUZPve83n92vXEJ8QRF9+MgIAAhl44lHlzFhzV7+3XJzN2/PUEBQZakNIH2KR6Jw/RESlVJYfdwaTb/s3+tAP0GXUuLZIS3NozU53f3L9291s47A6GjR1CUs92VkStsazCg3yy7nt+GPMOJeWlLE1bw+9pa6yOVXcEFk1aCEDLga1oNcD927HEQYksee03ZtzzI2XFZZxzay+fLaTmTl1Av3F9KC0qO26/3MxccjNzSOgU76FkdWPG5JkMvXEwpUUlVkepc3P+M5/+4/pQWsVoFDhHpAA+ffgLjMNw3phetOzewoMJa9+MZ35GBNoPbk/S4PbH7Ld57hbiu8Z5MFndGdLyPGbtXHzU9VuzdzGg+TmsydxEcuPWxIZHER3WiIPFORakrB39mvVkQervVsfwAOF/T89AgOQhSXQY4j6VreBgAeGNwiouhzUKo+BgIWENwvAlmZlZxMTGVFyOiYlm3dr1bn02bdxMxr4M+g3oyycffOrpiKoW6IiUqpLNz8aDk+9h4uePsmdTCnt37nNrd9gdZKXt546XbmHsY9fw+cvTKcwvsihtzUQEhtE/oQcjv7yNYdNuJiQgmAsT+1kdq84MeGwgg54czHn392HH7O1kbXafzpaxLoPIhEiGv3oRg58awupPVlF2gkLEG21ftoPQyBBiEmNO2HfToi20ObcNNj/ffUnc/PsWwuuH0axNE6uj1DnnYxtKbOtjP7YOhyF77yHGPH05I+6/kJ/f/JXi/GIPpqxdI58awaXPX8KwRy5gw8yN7N2wt8p+6evS2TxnMz2v7eHhhLXP3+ZP3/izmbPr6KmoH639lnqBYXw88kWuTLqQLQd3Ynf47oiNv/jRM6YLi/eusDpKnbv06VFc+cJlXPTYcNbNXE/6hnS39tNl4oepYkcqT+5xOBy8/Pwr3PvA3R5M5YOkmicP0REpdVyh4SG07tKKjcs206RlbMX19aMiaZ6UgJ+/H42aNCQ6Por9qftJaO973+j3bNqZ9LxMDhXnAjB311I6x7Tjp+1HD8GfDkIaOOelB9cLpmn3pmTvOEhUu78W8u5euIt2F7VDRAiPCScsKoy8vXk0bNXQqsjVkr5pL9uX7WTniqmUl9kpLSxlxis/M/zeYUf13bRoC4MmDPB8yFq0e0MKm5ZuYcuybZSXlVNSWMJXL37DFQ/43tqCE0nblM62ZTvYsWJnxWP7wys/M6LSYxvRKJymbWPx8/ejfkwkDZs2IHvvIZq0iT3Olr1XWEPnt/EhkSG06NmcrO37aZLsXjQf2H2QBVMWMezhCwiOqHotlS/p3awrmw/srHKUqaCsiP9b/FbF5W8uf5P0/ExPxqtVZ8V0YnvOHg6V5Fodpc4dfi6HRobQsmdLMrZl0TS5aUV7eKMw8itNTS04UEBYQ9+bmhsTE03GvoyKyxkZmTSO+uu9tqCgkG3btjNhvPMARwf2H+DeO//OK69P0gNOVObla6S0kFJHyT+Uj83fj9DwEEpLytiychuDxgxw69OpdwdWzl3NORecTX5OAVmp+2nUxLc+aB+2r2A/HaPbEuQXSIm9lB5NO7Fx/3arY9WJ8pJyjMMQEBJAeUk5GeszSBrp/oId0iiUzA2ZNG4XRXFOMXl78wiL8q0pFQB9rz+PvtefB0DKulSWf7uiyiLqYFo2JfnFNG3n2yM5Q8cPYuh45xEYd/65i0VfLz0tiyiAftf3od/1fQDYszaFZd+tdCuiANqck8jGhZvpOKgDhblFZKdnUz/GN9fQlBWXYYwhMCSQsuIyUv9Mo/tl7uvg8vfn8+tLvzLw9v7Ub+qb+3mkoa36MGvnoirbwgNDKS4vpdxRzqg2g1i9byMFZb45KwKgb7OeLEj748QdfdyRz+WUNan0uLy7W58WZzdn3c/raX1eIhlbMwkMDfS5aX0AyR2TSdmTQlpqGtEx0cz6aRbPvPB/Fe0REeHMWfRLxeUJN/w/7vn7XVpEHcm76ygtpNTRcg/m8enzX+JwODDG0LV/Zzr0SmLGB7NIaBtHx97JtO/Rlk0rtvDsjS9hs9kYOWE4YZG+90IHsD5rK7N3LuHTSyZhN3Y2H9jJfzf9wi3dx7Bx/zYW7FlOcuNEXhz8EPUCw+ibcDYTuo/hqv/eY3X0U1acU8zS153TZBx2Q0KveGI7x7JjjrNwbHV+Ikkjk1j+3jJ+eXwWGOh0ZadjHuHPFy3+bAkxrWNo3dO5NmzTws206+Nc2Hw6mv3xPJq2aUJSr3akbkln2v99SVF+MZt+38qcT+Zz1zu+fbj3yhZ9toTY1tG07plIi27N2bl6N1Pv+AixCf1v6HvMo4R5u6KcIn6ZNBtwTgdqfV4i8V3j2PDLRsC5zmTl9FUU55ew6D+/AVR5iHRfEuQXSM8mnXn2tykV141uNwSAbzb/QovIOCb2vQO7cbDzUCrPLH7bqqg1FugXSNeoZN5a83HFdcOaO48o+vPu+dQPqsfL/R4n1D8EB4aRrQZz+9x/UlTue1NVC3OK+PnFmYDzPahNn9YkdEtg3awNAHQcmkzz7gnsWbWHT+/8HP9Af86/fYCFiavP39+fBx99gDtuuQu73cGo0ReT2DqRt9+YTHKHJPoPPH2XENQqL1+jLVXN4fRhp9XOHM9PKd9aHcGj/jHr4xN3Ok0MTT72IvLTUYvIZlZH8Jj6QfWsjuBRuaV5VkfwmEMlZ86+Any1epnVETwmpuHpMcJ3sga1OHNGRG5KusnqCB4VHhDp3VVJFeSGdtX6bG8+2OyRfdURKaWUUkoppZT38fLZIlpIKaWUUkoppbyPlx9MVwsppZRSSimllPfRESmllFJKKaWUOkXeXUdpIaWUUkoppZTyQjoipZRSSimllFKnSNdIKaWUUkoppdQp0hEppZRSSimllDpF3l1HaSGllFJKKaWU8kI2766ktJBSSimllFJKeR+d2qeUUkoppZRSp8i76yjPFFIi0giY7boYC9iBLNflnsaYUk/kUEoppZRSSqna4JFCyhhzAOgKICITgXxjzCRP3LdSSimllFLK94iXT+2z9OjsItJaRFZXuvywiDzuOt9GRGaKyAoRWSAiba1LqpRSSimllPIkEanWyVO8eY3UFOBvxpjtInIe8AYw9Hg3KLYXeiSYNygsL7I6gkd1bRFndQSP8fZvX2pbw+D6VkfwmPCAcKsjeFRYQKjVETxmQcp6qyN4VPfmZ85rssMYqyN4VJmj3OoIHiPi5b/2qursWBMiMhUYAWQaYzq6rmsIfAG0AHYBVxpjso+3Ha98BolIfaAX8LVrxOpNoOkx+k4QkeUisvw/7071ZEyllFJKKaVUHbGJVOt0Ej4Ahh1x3cPAbGNMG5zHdnj4RBuxekSqHPdiLth1nQD7jTFdT7QBY8wUnKNXFNsLz6yvjZRSSimllDpN1dUsHWPMAhFpccTVo4ABrvMfAvOAh463HatHpPYBTUWkgYgEAxcBuIbR9orIaAARsYlIFwtzKqWUUkoppTzIw2ukYowxewFc/0af6AaWFlLGmGLgX8Ay4HtgQ6XmMcD/E5E1wHqc8xiVUkoppZRSZ4DqFlKVl/64ThPqIp/Hp/YZYyYecfll4OUq+u0ALvBQLKWUUkoppZQXqe7gUuWlP6cgQ0SaGGP2ikgTIPNEN7B6ap9SSimllFJKHcXDU/u+B8a5zo8DvjvRDaw+2IRSSimllFJKHaWuDjYhItNwHliisYikAk8AzwFfishNwB7gihNtRwsppZRSSimllNcR6uyofVcfo2nQqWxHCymllFJKKaWU16mrEanaooWUUkoppZRSyut4eR2lhZRSSimllFLK+9i8vJLSQkoppZRSSinldXRqn1JKKaWUUkqdIm8vpPR3pJRSSimllFLqFOmI1ClYvHAxzz/7Ig67g9GXX8JNN9/o1r5i+QpeeHYSW7ds5flJzzLkgiEWJa0dDruDN++aQr1GEYx76lq3tvLScr6a9A1pW9MJrRfK1Y9cToPYBhYlrbkQ/xDGJY2hWVgTwPD+hmnsyN11VL8WEQk82uNeJq/7gBWZazyeszbMuP9H/IP9EZtgs9kY9ORgt/bNMzazZ8luAIzdkJuey8g3RhEYHmhF3Bpz2B28dde71Gscwdgnr3FrKy8tZ/pL31Y8j8c8cjkNYupblLRmykrL+Pe9b1NeVo7D7qBLv04MH3fBUf1WzVvDTx/NQkRo2qoJ4x67toqteb+y0jLeuG/KX/vbtyPDxrm/5n779g9sW73D2b+klLxDBfzr2yesiFtjof4h3NjhGuLCm4CB99Z/yracnW592jdow7XtLsPP5kd+aT7/Wv6aRWlrrqywjE0fr6UgPQ8EksZ2JrLVX+8x+35PY/cs52PrF+RHu2s6EhFXz6q4NRLiH8L17a+iWVgTDPDRRvf3ny6NOzKy1XCMMTiMnS+2fsP2Ix57XzLtji8ICA5wvgf52Rj97Ci39m0Lt7Hm+z8B8A8OoM9NvWnUopEVUWts8cLfmPTcJOx2B6Mvu4TxN9/g1j79i+l8Oe0rbDY/QkNDeHziY7Rq3cqasF7KywektJA6WXa7nX89/RyT33ubmJgYrrnqWgYM7E9i68SKPrFNmvB//3qSD9//yMKktee3b5cSFd+YksKSo9qWz1xJSHgwf3//btbMW8vPU3/l6kdP+LtlXuvqtpey/sBG3ln7Pn7iR6Df0UWDIFzW+mLWH9hkQcLa1f/hAQRFBFXZ1m54O9oNbwdA+qp0ts7c4rNFFMBv3/1OVMIxnsezVhEcHsz9U+/iz3nrmDn1V8Y8crkFKWvOP8CfOybdQlBIEPZyO6/d8ybJPdrTIrl5RZ/M1Cx+mTaHe167ndCIUPKy8y1MXDP+Af7c9uLfKvb39XvfoX2PdrRITqjoc8mtIyrOL/z2N9K2pVsRtVZc1/5y1u7fwBtr/oOf+BF0xGtUqH8I45KuZNLKtzhQnE1EYLhFSWvH1i830KhDFJ1u6Y6j3IG91O7WHtI4lO739SIgLIAD6zLZ/Mlazn74PIvS1sxVbUaz/sAmpqz7oMr3n03ZW1jzxzoAmoU1YULHG3ji92etiFprRvxzOMH1gqtsi4iOYMQTFxEUHkTKqhQWvruYS54Z6eGENWe323n+med56903iYmJ4bqrxtJ/YD+3QmnYRcO4/Crne878OfN56YVXeHPK61ZF9ko6te80sW7tOuIT4omLjyMgMIBhF17AvDnz3Po0a9aUtu3aYrP5/p81JyuHTcu20mNY9yrbNy7ZTPfBXQHo2DeZ7at3YIzxZMRaE+wXRJv6iSxMXwqA3dgpKi86qt+g+H6szFpDbmmepyNaJmXpHuJ7JZy4o5fKycpl8x9bOfuC4z2PuwDQwcefxyJCUIizOLaX27GXO476Km/JjN/pO6o3oRGhAEQ08N0P21Xt7/Heb1fNXUO3gV08lK52BfsF065BIvPTlgDO16jCI16jzm1yNssz13CgOBuAvFLfLZLLi8o4tPUgTc6LA8DmbyMgNMCtT2RiAwLCnNfVa9mA4uxij+esDYfffxbvPfb7T4m9tOJ8kF8QvvkKdfJi2sUQFO78vx3dJpqCAwUWJ6qedWvXExf/1+fGC4YPZd7c+W59wsP/eg0uKiry+qLBCiJSrZOn6IjUScrMyCQ2NqbicnRsDGv/XGdhorr1w+SfufCmIVV+iw+QcyCXyCjnNAo/Pz+Cw4IpzC0kLDLMkzFrRVRIY/JL8xmfdA3xEc3YnZvCtC3/pdTx15tX/aBIukV1ZtLKN7ghyXcLi8MWvrgAgFYDE2k1sOppBOUl5exbu49u11ddhPiCHyf/zLCbBlNSVFple+6BXCIbRwLg52cjODSYwtwiwiJDPRmz1jjsDibd9ipZaQfoO6o3LY54rmal7gfg1bvfwGE3XDh2CEk921sRtVY47A5evu0N9qcf4LyRvWh+jP+bBzOyObAvmzZdE6ts93bRoY3ILc3n5g7XkRDRjJ25KXyyeTqllT5gx4ZG4yd+PHL23QT7B/7vWPwAACAASURBVDFr9zwW7/3DwtTVV7S/iIDwQDZ++Cf5aXlEJNSj7ZXJ+AVV/ZFl7+IUGnWM8nDK2tE4pDF5ZfmMS7qGuPCm7MlL4Yst37i9/wB0bdyJ0YkjiAgM540171qUtvbMeOZnRKD94PYkDT72a9DmuVuI7xrnwWS1Jysjk9gmlT43xkSzrorPjV989iWffvQpZWXlTJ76ticj+gRvLy59f+jEQ6r6ktq7H9rq2/T7ZsLrh9GsTdNjd6rq7+HlT/ZjsYmNhIg45qUt5qk/XqTEUcqFLdzXDY1pM5qvt32POQ2+Cxz4+PkMfmoIff7el+2zt5G1KavKfntX76Vxm8Y+O61v0+9bCKvW87juMtU1m5+NByffx5OfP87uTSmk79zn1m63O8hK28+dL93KuMeuZdrL0ynMP3r01VfY/Gz8ffJdPDHtYfZsTmXvEft72Kq5f9Klb0dsfr75lucnfrSIiGd26kL+sfR5SuwlXNzCfT2YTWy0qBfPS6ve5sUVbzKq1TBiQ6MtSlwzxuEgPyWXZv2b0/OxPvgF+rN75o4q+2ZvPkD6bym0Hu2bXwj4iY2E8Djmpy3mmWWTKLGXMqz5oKP6rd6/lid+f5a31/6Hka0utCBp7Rn51Aguff4Shj1yARtmbmTvhr1V9ktfl87mOZvpeW0PDyesHVV9Wqjqc9JV11zJ9z9/x1333sl77/yn7oP5GG8fkfLNdxULxMRGs29fRsXlzH0ZREf75jdgJ7J7fQobl27mhbGv8Plz09mxZidfPv+1W5/IxvXIycoFnPOAiwuKCYkIsSJujWWXHCK75BA7c50HWFiRuZrmEe7fgDWvl8CEjuN4rvc/OSu6K9e2u4KujTtZEbfGQho4H6fgesE0PasZB3ccrLKfr0/r271hD5uWbubFca/yxeHn8Qv/detTr3E9cvbnAM4io7jQd5/HlYWGh9C6Sys2LXNfz1c/KpJOvTvg5+9HoyYNiY6Pqhil8mUh4SG07tKSTcu3VNm+ep7vTusDOFiczcGSQ+zIcb5GLctYTfN68W59sosPsfbARkrtpeSXFbA5exvxEc2siFtjQfVDCKofTGRL54FforvHkrcn56h++am5bPx4LZ1vPYsAH/3Cx/n+k8Mu1/vPysw1JEQcewRm66EdRIU0JizA92Z/HBbW0Jk9JDKEFj2bk7X96NegA7sPsmDKIoY8MITgiKrXUnm76Jho9u2t9LkxI5Oo43xuvGD40KOWjCjnl5vVOXmKFlInqUPHDuzZvYfU1DTKSsv4+aeZ9B84wOpYdeKCGwfz8Cf38+BH9zLm4ctp1aUlVz50mVuf9r3asfLX1QCsW7iBVl1a+uyIVG5pHgdLDhHj+vY2qUFb0gvcv9l+5LeneNh1WpG5mk83f8Xq/WutiFsj5SXllBWVVZzPWJdBZFzkUf3KCsvI2pxF0+7HGc3xcheMH8xDn9zHAx/ew1WHn8cPXurWJ6lXW1b+6jz64noffx7nH8qvGF0qLSljy8ptRCe4j0h07t2Brau3O/vnFJCVmkXjJg09nrU25B/Kp8htf7cTHX/0h5TMlCwK84vcDkLha3JK8zhYnF0xwtShUbujXqNWZv1J2/qJ2MRGoC2AxPotjurjK4IigwhqGEzBPuc6r4Ob9hPWxH09X/HBItZOXkmH8V0IjfHdtX65pXlkl2RXvP+0b9iWvQUZbn2iQhpXnI8Pj8PP5kdBmW+uGyorLqPUNdW6rLiM1D/TaBDvfsTf/P35/PrSrwy8vT/1mx79/uQrOnRMJmVPCmmuz40zZ8yi/8B+bn327N5TcX7h/EXEN/fd16m64u0jUrpG6iT5+/vzyGMPcevNt+FwOLhk9Chat0nkzdffokOHZAacP4B1a9dz7133kZuby/y5C3jrjXf45n9fn3DbvuKXj+YQ16YpSee25+xh3fjqhW+YNP41QiNCfPZIZ4dN2/w1N3e4Hn/xJ6t4P+9v+Iz+zZxHgJqfttjidLWnOKeYJf/+DXAe2jz+3ARiO8eyfY7zw3Xi+c41JGkr0ojpGIv/MdYk+LJfP5pLs7ZNSerVjrMu6M70F7/hpRv/TUhECGMe9t3ncc7BXD59/gscDgfGGLr170LHXsnM+GAm8W3j6NS7A+17tGPTii3868YXsdlsjJowwifXNQLkHsxj2gtf4XAYjDF06deJDr2S+OmDX4hv24yOvZMBWDl3Dd0GdPHZAvmwjzd9xa2dbsDP5kdW0X7eXfcJA+P6ADA3dRHpBRmsPbCBZ859BINhfupvpOVXPWXKF7S9qgMbpq7GYTeENA4laWxn0hY4R22a9WvOzh+3UlZQyuZpzjUnYhN6PNrHysjV9vmW/3JT8nX42fzZX3SADzd+Rr+mvQFYkP4b3aO60Cv2bOzGQZmjjHfXfWhx4uoryinil0mzAXA4HLQ+L5H4rnFs+GUjAMlDklg5fRXF+SUs+o/zvaqqQ6T7An9/fx567AFun3AnDoedkaNHktg6kbdff4fkDkn0P78/X3z2Jb8v+QN/f3/q1YvgqX9NtDq21/H2127x1SNUVaXYXnj67MwJ/LjnO6sjeNRPO5ZaHcFjYsIirI7gUd2ik62O4DHhAb77zXl12E251RE85otNc6yO4FFhAQEn7nSacJxGn5NORpuGvjsT4VTd2vFWqyN4VJh/hHdXJVWI/9fAav0HTHl0rkf29fT7ulkppZRSSinl87x8QEoLKaWUUkoppZT38fapfVpIKaWUUkoppbyOePmPDWkhpZRSSimllPI6OiKllFJKKaWUUqdICymllFJKKaWUOkVeXkdpIaWUUkoppZTyPt4+ImWzOoBSSimllFJK+RodkVJKKaWUUkp5HW8fkdJCSimllFJKKeV1tJBSSimllFJKqVPk5XWUFlJKKaWUUkop7+PtI1J1drAJEXlFRO6pdHmmiLxX6fJLInLfSW5rooj8vS5yKqWUUkoppbyPiFTr5Cl1edS+34DeACJiAxoDHSq19wYW1+H9K6WUUkoppXzUmVxILcZVSOEsoNYBeSLSQESCgCRglYg8ICLLRORPEXny8I1F5DER2SwivwLt6jCnUkoppZRSysuIVO/kKXW2RsoYky4i5SKSgLOgWgI0A84FcoA/gQFAG6AnIMD3ItIPKADGAN1cGVcCK+oqqy/KLcm1OoJHbc3ab3UEj+kS3dLqCB4VHhBudQSPcRi71RE8anvObqsjeExBaanVETxqQ8peqyN4TF5ugdURPKpRrzCrI3iMMQ6rI6gT8PY1UnV9sInDo1K9gZdxFlK9cRZSvwFDXadVrv7hOAurCOAbY0whgIh8f6w7EJEJwASAyZMnM2HChDrZEaWUUkoppZTnnOmF1OF1Up1wTu1LAe4HcoGpOEeknjXGTK58I9dBKszJ3IExZgow5fDFWkmtlFJKKaWUspS3F1J1uUYKnCNSI4CDxhi7MeYgUB/n9L4lwEzgRhEJBxCRZiISDSwARotIiIhEABfXcU6llFJKKaWUFzlj10i5rMV5tL7Pjrgu3BizH5glIknAElfFmQ9cZ4xZKSJfAKuB3cDCOs6plFJKKaWU8iLePiJVp4WUMcYO1DviuhuOuPwa8FoVt30GeKYu8ymllFJKKaW81JlcSCmllFJKKaVUdXj7iFRdr5FSSimllFJKqVNWV2ukROReEVkvIutEZJqIBFcnnxZSSimllFJKKa8jItU6nWCbzYC7gLONMR0BP5y/X3vKdGqfUkoppZRSyuvU4dQ+fyBERMqAUCC9OhvRESmllFJKKaXUGcEYkwZMAvYAe4EcY8ys6mxLCymllFJKKaWU16nu1D4RmSAiyyudJlTaZgNgFNASaAqEich11cmnU/uUUkoppZRSXqe6M/uMMVOAKcdoHgzsNMZkOe9D/gv0Bj451fvRQkoppZRSSinldepojdQeoJeIhAJFwCBgeXU2pIWUUkoppZRSyuvURSFljPldRKYDK4FyYBXHHr06Li2k1DE57A4+uP9TIhqFc8U/Rh/VvnHRZhZNW4KIEN2yMSPvv8iClDUXH9GEJ3rfWXG5aXg0U9dOZ/qWn936dY1O4o5u1+Nv8yOnJI+75zzt6ai1xmF38OVDXxPWMIyLHx3u1pablcecN+dSlFtEUHgwQ+8eRHijcIuS1kxZaRn/vvdtysvKcdgddOnXieHjLjiq36p5a/jpo1mICE1bNWHcY9dakLZmykrLeOO+yZSXlWO3O+jStxMXjhvi1uebt//HttU7nP1Lysg7lM+z3060IG3t+OjWTwgICURsgs1m48oXLnNrN8awcOpidq/aQ0CgP4PuGEhUqyiL0tZMqH8It3UZS0JEM4wxvLnmQ7Yc2lHRHhYQyu1dxhEbGkWpo4w313xISl61DkLlFa7pMIJR7QYDhm0H9/DkwjcotZdVtAfY/Hmy/10kNW5FTnEej8x9mb35WdYFroFx3UZzRadhGGPYsn8Xj8x6yW1fH+k/gXPiugAQHBBEo5D69Hj7cqvi1thP98/AP8TfuY7Fz8agiYPc2ssKy/hj8h8UHSzEYTe0vbAtLfq2sCZsDf22aAmTnnsJu93BJZeNYvzfxlXZ79dZs3novkf4+PMPSO6Y7OGU3q2ujtpnjHkCeKKm29FCSh3T8h9W0Ti+ISWFpUe1HUzPZsn0P7j++TEEhwdTcKjQgoS1IyVvL3+b+SgANhGmj3yDhanuI7zhAaHce9Z4Hpj/PJmFB6gfVM+KqLVmzYy1NIirT2lh2VFtiz/8jXYD2pI0oD2pa1NZ8unvDLlrUBVb8X7+Af7cMekWgkKCsJfbee2eN0nu0Z4Wyc0r+mSmZvHLtDnc89rthEaEkpedb2Hi6vMP8Oe2F2+u2Nd/3/sOST3a0SI5oaLP6Fsvrji/4NvFpG3z3Q/ah10y8WJC6oVU2bZ71R5y9uZw3etXk7E1k3lTFnLFc5d6OGHtuLHDVazKXM+kFZPxFz8C/QLd2i9rfSE7c1J4YfnbNAuL5W+drubJpa9YlLZmokIbclWH4Vz59T2U2Et5duD9DG3Vhx+2zq3oM6rdIPJK8hn91R0MbXUed/a4nkfnvmxh6uqJDmvE2G6jGP7hBErspbx60aNc1G4A32z4paLPs/P/+qL8uq4jSY5KtCJqrer3UH+CIoKqbNs+exv1mkVw3r3nUZJbwsxHfibh3ARs/r51fDS73c5zT7/AW+++QUxsNNdfNY7+A/vSKrGVW7+CggI+//QLOnbuaFFS71aHhz+vFb71rFQek7s/j+3Ld9B5SKcq29fMWstZw7sSHO78Ieiw+qGejFdnusd0JD0/k4zC/W7XD27emwWpy8gsPADAoZJcK+LVivwD+exesZsOg5KqbM9OzSa+UxwAzTo2Y8eynZ6MV6tEhKAQ55u1vdyOvdxx1MrVJTN+p++o3oRGOJ/DEQ18c/Tt6H21H3eR7qq5a+g+sKuH0llj57JdtBvQFhEhtm0MpYUlFGQXWB3rlIX4B5PcqC2zUxYBUG7sFJYXufWJC2/K2v2bAEgr2Ed0SGMiAyM8nrW2+IkfQX6B+ImNYP9AsgoPurX3T+jJD9vmATB75xJ6Nq36vcoX+Nn8CPY/vK9BZOYfOGbfi9oN4IfN8zwXzgoilBeXY4yhvKScwDDnqLOvWb92PfEJccTFNyMgIIChFw5l3pwFR/V7+/XJjB1/PUGBgVVsRYlU7+QpOiKlqjT7vXkMHNePkqKjR6PAOSIF8PFDn2McDvpcfS6turf0ZMQ6MSihF7P3/HbU9XERsfjb/Hn1/McI9Q/h6y0/M3PXIgsS1tzC9xfT+/pzKT3GY9uoRSO2L91Bl4s6s+P3nZQVlVGUV0xIRLCHk9YOh93BpNteJSvtAH1H9aZFUoJbe1aqs2h+9e43cNgNF44dQlLP9lZErTGH3cFLt73O/vQD9Bl5Ls2P2NfDDmZkc2BfNm26+vg32yJ8/38/IgIdhiTTYYj7lJiCAwVu01LDGoZTcKCAsAZhnk5aIzGhjcktzeOOLjfQvF4cO3J2M3X9F5TY//o/vCs3hV5NurEpexut67cgKqQhjUIakFOaZ2Hy6skqPMgn677nhzHvUFJeytK0NfyetsatT3RYQzLynf937cZBfmkhkUER5JT41v5mFhxg6orpzP3bx5SUl7B490oW71lZZd+mEdHERcayNGVNle0+Q2DRpIUAtBzYilYD3EdoEgclsuS135hxz4+UFZdxzq29fLKQyszMIiY2puJyTEw069aud+uzaeNmMvZl0G9AXz754FNPR/QJOiKlfM62ZTsIrR9KbOuYY/Zx2B0cTM/mmmeuYOTfL+KnN36hOL/Ygylrn7/Nj97NzmLent+PavMTP9o2aMnD8yfxwLznGNthNHERsRakrJmdy3cREhlCdOKx14mcN7Y3aevT+fzvX5G2IZ2whmHYfPBN7DCbn40HJ9/Hk58/zu5NKaTv3OfWbrc7yErbz50v3cq4x65l2svTKcwvOsbWvJvNz8YDk+9m4rRH2LM5hb1H7Othq+auoUvfjtj8fPst4LKnL+GqFy9nxGMXsfbn9aRvOImpil7+plwVP/GjVb0EZu6ezwMLn6bEXsroxGFufb7Z/jNhAaFM6vsPhrc4n525KdgdDosS10xEYBj9E3ow8svbGDbtZkICgrkwsd8Rvap6HI0n4tWqekHhDGp1LoOm3kDfd68lJCCYke3Pr7LvRe36M3PLQhzGNx/XwwY8NpBBTw7mvPv7sGP2drI2u69ty1iXQWRCJMNfvYjBTw1h9SerKCs6ehq6tzPm6Odj5Zcfh8PBy8+/wr0P3O3BVL6nur8j5Sm+/S6q6kTqxjS2/bGdt25+j+8n/cjuP1P438sz3PpENIqgzTmt8fP3o35MJA2bNSB77yGLEteOc5p0ZWv2LrKrmLaXVXSQP/atodheQk5pPmuyNtG6ftXf9nuzvZv3sXPZLj689RNmvfoLaevSmPXar259whuGMfzBYYyZdAW9rj4HgKCwquey+5LQ8BBad2nFpmWb3K6vHxVJp94d8PP3o1GThkTHR1WMUvmqkPAQEru0YtPyLVW2r5p3ekzrC2voHFkKjQyhVc8WZGzNdG9vFEb+gb/WvBUczCesoe9NQz5QnM2B4my2HnJOs12ydwWtIpu79SkqL+bNNR/y94X/x79XT6VeYDiZRb75PO7ZtDPpeZkcKs7FbuzM3bWUzjHt3PpkFhwgJrwxAH5iIzwwlJwS31vf2DuhG6m5GWQX5VDusDNr22K6Na162vXwdv358TSY1hfSwLmmMbheME27NyV7h/u0zd0Ld9HsrGaICOEx4YRFhZG317dGGsE5ApWxL6PickZGJo2j/voSs6CgkG3btjNh/K2MGDqKtX+u4947/86GdRusiOu1tJBSPmfA2L7cPnUCt737N0b+/SKad47n4vvcj+zWtlcie9amAFCYW8TBtGzqx0RaEbfWDEo4l9m7j57WB7A4bQWdo9rhJzaC/AJJapjI7lzfW6jf+9pejJ8ylnFvX8fQe4bQrGMzht492K1PUW4RxuH8Jm3FNytJPt83p7kB5B/KrxhdKi0pY8vKbUQnRLv16dy7A1tXb3f2zykgKzWLxk0aejxrTeUfyqfoyH2NP3rkMTMli8L8IreDUPiisuKyiumpZcVlpKxJpWGC++PW8uwWbJ63BWMM+7ZkEBga6HPT+sC5JnN/UTZNw5yzBDo1TiI13/31J9Q/BH/xA2BwQh82HNxKUblvzhLYV7CfjtFtCXIdUKNH007sOpTq1mfBnmWMaD0AgEEtz2VZ+jpPx6wV6XmZdGnSnmB/55dV5yZ0ZfvBlKP6tWwQR72gCFbt3ejpiLWqvKS8YnSpvKScjPUZ1Gvm/tkhpFEomRucX4oU5xSTtzePsCjf+3+b3DGZlD0ppKWmUVZWxqyfZtF/YN+K9oiIcOYs+oUfZn3HD7O+o1Pnjrzy+iQ9at8RdI2UOm0s+HQxTVrH0uacRFp2a8HOVbt59/YPsPkJA2/od8wjZ/mCIL9Azo7tyEvL/1Nx3chE55Hqvt8+m9256fyx90+mDnsOh3Hw44557MxJPdbmfM7vn/9BdGIULXu0JG19Oks+/R0EmiU3of/fjpxS4ztyDuby6fNf4HA4MMbQrX8XOvZKZsYHM4lvG0en3h1o36Mdm1Zs4V83vojNZmPUhBGERfrem3buwTw+e+FLHA6DMYau/TrRoVcSP30wi/i2cXTs7XxzXjl3Nd0GdPH6eecnUphTxE8vzAScU43b9m1N824JrJvpXIPQ8YIONO+ewO6Ve/jkjmn4B/kz6LYBFiaumf+sn8bd3W4iwOZPRuF+3ljzAUMTnP83Z+1ZQFx4E+7qNh6HMaTkpfPWnx9ZnLj61mdtZfbOJXx6ySTsxs7mAzv576ZfuKX7GDbu38aCPcv5bstsnup/F99c8Qa5Jfk8Otc3j1D4577NzNy6kG+ufYNyh52NWdv5Yu1P3HXu9azL2MqcHUsB50EmZmyZZ23YWlCcU8zS15cA4LAbEnrFE9s5lh1znF9mtTo/kaSRSSx/bxm/PD4LDHS6stMxj/Dnzfz9/Xnw0Qe445a7sNsdjBp9MYmtE3n7jckkd0ii/0DffW/1JG9/r5Kq5nD6sNNqZ47n/U2TrY7gUR+sPvpIN6eryzv0sDqCR7Wp3+rEnU4TDmO3OoJHbcvZZXUEj5m/27dHCk7V7oxjH1nudJOX63tHeqyJy3qdZXUEj3n07AetjuBR4QGR3l2VVGHAl9dX67P9vCs/9si+6oiUUkoppZRSyut4+4iUFlJKKaWUUkopr+PtBw3WQkoppZRSSinldbx9REqP2qeUUkoppZRSp0hHpJRSSimllFJex+blI1JaSCmllFJKKaW8jrdP7dNCSimllFJKKeV1vH0NkhZSSimllFJKKa+jU/uUUkoppZRS6hTp1D6llFJKKaWUOkU6IqWUUkoppZRSp0hHpJRSSimllFLqFJ2RB5sQkUbAbNfFWMAOZAEtgHRjTHJd3K9SSimllFLq9HBGTu0zxhwAugKIyEQg3xgzSURaAD9Ud7si4m+MKa+NjEoppZRSSinv5e1T+6wYMfMTkXdFZL2IzBKREAARmSciZ7vONxaRXa7zN4jIVyLyP2CWBXmVUkoppZRSHmYTqdbJU6xYI9UGuNoYc7OIfAlcBnxygtucC3Q2xhw8skFEJgATAF5/+9/cdPONtZ3XK4UFhFkdwaNi6kVYHcFjckvzrY7gUcX2IqsjeExkYH2rI3hUbGiU1RE8Jq5emtURPOpQcbHVETymYYMz5/0HICwwxOoIHiPi7StwlHePR1lTSO00xqx2nV+Bc93UifxSVREFYIyZAkwBKLIXmFpJqJRSSimllLLUGblG6gRKKp23A4e/+ijnr6mGwUfcpqCuQymllFJKKaW8h7cXUt40prkLOMt1/nILcyillFJKKaUsJiLVOnmKNxVSk4BbReQ3oLHVYZRSSimllFLWOeMPNmGMmVjp/C6gY6XLkyqd3wR0rnTTx13XfwB8ULcplVJKKaWUUurkWbFGSimllFJKKaWOy7tXSGkhpZRSSimllPJC3n6wCS2klFJKKaWUUl5HCymllFJKKaWUOkWePAJfdWghpZRSSimllPI6OiKllFJKKaWUUqfIu8uok/wdKREZISLe9JtTSimllFJKqdOYt/+O1MkWR2OArSLygogk1WUgpZRSSimllDotCiljzHVAN2A78L6ILBGRCSISUafplFJKKaWUUmckEanW6SS2W19EpovIJhHZKCLnViffSa+RMsbkisjXQAhwDzAaeEBE/m2Meb06d+5rFi9czAvPTsJhtzP68tHcePN4t/YVy1fw4rMvsXXLVp6b9CxDLhhsUdLa4bA7ePvu96jXqB7XPznGrW3X2t3MmDKLjJ0ZXPHwpXTsk2xRytoR6h/C/+t0PfERTTEY3v7zI7Ye2lnRHuIfzF1dbqRRSEP8xMb/dv7CvNQlFiauvq/v+i8BIQGITbDZhIueuajKfvu37+enf/5Mv7v60vyc5h5OWTvKSst45/6p2MvKsdsddOrbgaFjz3frk51xiK9e/oaCnEJCI0K46sHLqB8VaVHi6isrLWPS3a9RXlqOw+6ge/+uXDx+uFufBd8vYt63C7HZbASFBHHt/VfRtEUTixLX3Jn0GlVWWMa6D9eQn54LCB1v6EKDxIYV7fl781j7wRpy9+TQ9pL2tLwg0bqwNRQXHss/et1ecblJWDQfrP8v/902s+K63k26M77DpTgw2B0O3lrzKesObLEibo3EhcfyWM/bKi7HhkXx0YZv+Gb7rIrrzm3SjXHJl2KMwW7svP3nZ6w/sNWKuLXiTHoPWrzwNyY9Nwm73cHoyy5h/M03uLVP/2I6X077CpvNj9DQEB6f+BitWreyJqyXqsN1Ra8BPxtjLheRQCC0Ohs5qUJKRC4GbgQSgY+BnsaYTBEJBTYCp30hZbfbefbp53nnvbeIiYnh2quuo//A/iRWesLHNmnCU/+ayEfvf2xh0tqz5Ls/iIpvTElh6VFtkdGRXHrfSBZ97ZvFxJHGJ1/J6qz1vLxqCn7iR5BfoFv7sOYDSM3fy/Mr3iIiMJzX+j3JwrQ/sBu7RYlrZuhjQwiuF3zMdofDwcppK2na2Xc/ZAP4B/gz4YUbCAoJwl5u5+373qNdjzY0T4qv6PPjuzM5a3BXzhrSjW2rd/Dz+78y5sHLLExdPf4B/tz78p0Eu/b1xTtfpcM5SbRKblnRp8egs+g3sg8AaxavZfpb33DXC7cda5Ne70x6jdr4+Toad4yi261n4yh3YC91f+0JCAskeUxHMlbvtShh7UnN38ctv/4DABvCFyNeY1H6crc+KzPX89velQC0ioznH+fczvhZD3s8a02l5u/j1jn/BJz7+tnwV1mcvsKtz6rMDSzZuwqAlvXiePyc27npw12HPgAAIABJREFUl0c8nrU2nQnvQXa7neefeZ633n2TmJgYrrtqLP0H9nMrlIZdNIzLr7ocgPlz5vPSC6/w5pTT/iP1KamLw5+LSD2gH3ADgDGmFDj6jeQknGyhdwXwijGmszHmRWNMpuuOC3EWWKe9dWvXEZ8QR1x8HAGBAVxw4QXMmzPPrU+zZk1p264tYvv/7N13XBTH/8fx18DRi6gISLF37L3E3mM3PZrYUn7pPSYxvZiiqeYbExOjMTGJRlM0MXax94oNKyC9qYD0u/39gUERUIHj9g4+Tx88crc7e7wnx+7t7MzO2f68HBeTUjmx+yQdB7crdn11Xy/86vtiZ2ft86ncmIvBmeY1GrM+aisARs1IRl5moTIaGs6G/IO+s70T6bmXMGkmi2e1lOOrwqjTuS7O1Ur+oLMFSimcXJwAMOYZMRpNXHtMjo9IoGHb/A+2hm3qc3T7cUvHNAulFM6F6mpEXTPfkYubS8HjnKwcq/9+juupSseovMxczp9IJvCWOgDYGexwcHUoVMbJ04lq9b1Q9rb/+XO1dr7BxKQnkJCRXGh5ljG74LGzvROapYNVgHY+LYi9lEBC5nXqanBC0ypDba+vMnwGHQ49QmBQ0JXzxlsHEbJhY6Ey7u7uBY8zMzNt+phcUSroHqkGQCL5tyvtV0p9p5RyK0u+m+qR0jTt/uusW1eWX2xrEuIT8fPzK3ju6+dD6KHDOiaqWCu+WcWgyQPIycy+cWEb5+PiTWpOOo+2nkBdjwDOpEYy/+hiso1XLk6sDA/hxY6P8k2/D3ExOPHp/u/QbPSjWylY+0H+btukf2Oa9G9SaH1GSgbndkcy8NWBbJ+TpEdEszIZTXzx+Nckx6TQbURn6jQLKrTev4Efh7cc5ZYx3Tiy9RjZGdlcSs3AzbNMvfy6MhlNTH94BonRifQe3ZP6LeoVKRPyxybWLtmAMdfI0588bvmQZlKVjlEZiRk4ejgROu8AaVGpVKvrRbO7gzE4Vf5vMOkb2JX153YUu66HfwceaHkHXs6eTNvyiYWTmV/vwC5sKLGu7ZkcfAfVnDx4bdunFk5mXlXlMygxPgG/2r4Fz318fThczHnjop8Xs3DBQnJz8/jm+9mWjGgTyjpxhFLqIeChqxbN0TRtzuXHBqA98ISmaTuVUp8DLwGvlTrfTYbpqpTarZRKV0rlKKWMSqnU0v4yW1bcFaBrr/ZWFmE7T+Du5UZAY9vtUi8Nezs76nsGsTpiI1O3Tic7L4fRDQYXKtOmVjARqVE8vH4qL2x5jynBd+NisM0rZUPeHMLw6cPoP7UfYWtOEH8svtD63Qt20/6e9thVgp5VADt7O56e/SivLHyOc2FRxIUXru+whwZzJjSczx/9ijOh4Xh6e2Jno1f17eztePW7qbz/29uEH48g+mxMkTJ9xvTi3YVvMOahkfz74+piXsX6VbVjlGbSSI28SJ0+9ejxem/snew5++8pvWNVOIOyp7t/OzZF7Sp2/daYvUxa/RKvb/ucicG2Nxz3agZlT7fa7dgUvbvY9Vtj9jFlzcu8tf0LJrQYa+F05lVVPoOKu9RaXI/TXffeybKVf/HkM0/w3ddzKz6YjSnrZBOaps3RNK3jVT9zrnrZKCBK07Sdl58vIb9hVWo3eznrS/KnQP8N6AjcDzQqyy+0Vb5+PsTFxRU8j49LoJZPLR0TVZyIo+c4vuMEJ3afIi83j+yMbH6b8Qd3vDBG72gVIjnzAslZFzh1MRyAHXH7GN2wcEOqb2A3/jydf6NzfEYiCRlJ+Lv5cfryNrbEtXp+T4tLNReCOgaRdDoJ3+ZXrpoln01m06zNAGSnZRN9IBplp6jTqY4uec3Fxd2FBm3qE7b7JH71rtTXs6Yn979+DwDZmdmEbjmKi5ttNpL/4+ruSpO2jTmy6xgB9f2LLdOxX3t+/myxhZOZR1U7RjlXd8apujNeDaoD4Nu+NmdXVv6GVGe/Npy8EM757Otftw1NCsPf3QdPR3dSc9ItlM68Ovm15tSFCC7cqK7JJ/B3s+26VpXPIB9fH+JirzQSE+Kvf944+NZBvP/O+5aIZlPsKqDTQtO0OKXUOaVUU03TwoD+wNGyvFZpZu07pZSy1zTNSP6Ywm1l+YW2KrhlMJER54iOisbHx4dV/65i+kfT9Y5VIQZN6s+gSf0BOHsonC1Ld1TaExSAizmpJGelUNvNl9hL8bTybkZUeuEbtpMyU2jl3Yzj509RzdEDf3c/EjISdUpcdrlZuaCBg4sDuVm5xIbG0npsq0Jlxn5+5Wrn1q+3Etgu0OY+wP6TfuES9gY7XNxdyM3O5dS+0/S5s2ehMpcuXsLFwwU7Ozs2/LqZToOKv+fG2qVdSMPeYI+ruys52Tkc3xvGoHsKzxwaH5WAb6APAId3HMEnwDYvBlW1Y5RTNWdcqruQHpeOu587yceTcKtd+b99pF+drqyPLH6om7+bDzGXEgBo7FUXBzt7m21YQP4Qxg1RN65rI6+6GOwMNlvXqvQZFNyyBecirzpvXLGa6TPeLVQmMiKSOnXz67Z54xaC6tpePStaBd439gSw8PKMfWeASTcoX6ybbUhlXP5FB5RSHwGxQJluyrJVBoOBl6ZN5ZEHH8NkMjFqzEgaNW7IV7Nm0yK4BX369eZw6BGeffI5UlNT2bRhE7O//Jrfly/RO7rZrPsxBP/GtWnetSlRJ2L45Z3FZKZncXznSdb/tJEnv35E74hl9v2RRTzZdjIGZU9CRhJfHVrAwDr5J9xrIjez9NQKHm09gZk984fPLjz+O2m5l/SMXCZZF7MI+TT/ZleT0UT9HvUJaBNA2Nr8aYObDmhyvc1tTlpKGotn/o7JpKGZNFr3CqZ516as/mEdgU0CaNGtGacPhbPy+zUopajfqi6jHxuud+wyuZicyg8f/FRQ1w592tK6W0uWff8PdZvWoU2PVoT8sZnje8PyG1weLkx8abzesc2qMh+jmt/TkkPf7cOUZ8K1liutJrYlMiQcgDp96pF9MYtt724mLysPpSB87Rl6vt0Hg4vDdV/XWjnZO9LBpyWf7p1XsGx4g74A/H1mA70COzGwTg/yNCM5xlze2fGVXlHLzcnekfY+wXy2f37BsmH18+v6z9kN3BLQkQF1emA0Gck25vDeLtuta1X6DDIYDEyd9gKPPfQEJpORkWNG0rBRQ2bP+poWwc3p3a83i35ezM7tuzAYDHh6evD29Df1jl1laJp2gPxRduWibmb2F6VUXSAecASeAaoBX2maZlVjCzKNl2zz7v8yWB7+h94RLGpJ2Ba9I1hMG99AvSNYVHDNxnpHsJhqjl56R7CoxEzb67Utq63RB/SOYFGHExL0jmAx9jZ+r05p9a5bde7ceLrNU3pHsCg3g4fN3dz/8vZXynRu/3636Rap683O2hehlKp1+fFbFRtJCCGEEEIIUdVZ+8Ru173MovK9qZRKAo4DJ5RSiUqp1y0TTwghhBBCCFEVlXXWPku5UX/100APoJOmaTU1TasOdAF6KKWeqfB0QgghhBBCiCqpgr6Q13z5brD+fuAeTdPO/rdA07QzwPjL64QQQgghhBDC7BR2ZfqxlBvdI+WgaVqRr5XWNC1RKWWbUwEJIYQQQgghrJ4le5fK4kYNqZwyrhNCCCGEEEKIMrPk/U5lcaOGVBulVHFfs60A5wrII4QQQgghhBBWP2vfdRtSmqbZWyqIEEIIIYQQQvzH1of2CSGEEEIIIYTF2frQPiGEEEIIIYSwODsLzsBXFtKQEkIIIYQQQlgd6ZESQgghhBBCiFKy9oaU7v1lSimjUurAVT/1iinjr5RaYvl0QgghhBBCCD2U7et4Ldf4soYeqUxN09qWtFIpZdA0LQa43YKZhBBCCCGEEDqy9h4pa2hIFaGUmggMI/+7qtyUUpOBvzVNa6lrMCGEEEIIIYRFyPTnN+ailDpw+fFZTdPGXH7cDWitaVpKccP9/qOUegh4CGDW7C+Y8uDkisxqNTQ0vSNY1Nm4JL0jWIx1HzLMz9ulut4RLOZcWqzeESzqUm6m3hEsJjY9Xe8IFrVh84EbF6okHAxV6ys1jSaT3hEsZmi9I3pHsKj2NbvqHaHSsYaGVElD+9ZompZyo401TZsDzAHINF6qWq0LIYQQQgghKill5ZeXraEhVZJLegcQQgghhBBC6MNO6T4v3nVZc0NKCCGEEEIIUUXJZBNCCCGEEEIIUUoytO8GNE1zL2bZfGD+Vc/DAZmxTwghhBBCiCpCZu0TQgghhBBCiFKSHikhhBBCCCGEKCXpkRJCCCGEEEKIUlIya58QQgghhBBClI4M7RNCCCGEEEKIUpKhfUIIIYQQQghRSvI9UkIIIYQQQghRSnYytE8IIYQQQgghSkd6pIQQQgghhBCilGTWvkpk6+atfPT+TExGI2NuH8PkBycVWr93z15mvP8xJ0+c5IOZ7zNw8ACdkpqHyWji66fm4lnTg/Fv3V1o3dbfd7Bv1QHs7O1wrebKmKeH4+XrpVPS8rsneDijm/RHQ+PU+Uje3vw/coy5Besd7Ay81esJmnk34GJ2Oq9s+ITY9EQdE5edq8GFh1vdR5CHP6Ax+9ACTl44W7B+RP2B3BLQGQB7ZUeAe20eWPs8l3IzdEpcPiajiYUv/Ip7DXfGvDqy0LqQ7zdxLjQKgNzsPDIvZvDYwv/TI6bZmIwmFk9dilsNN0a8cmuhdamJaaz/3wYyUzNxcndm0FP9ca/prlPS8vvtid8wuDhgZ6dQdnaMnD6i0PqIPZHsX7wfZQfKzo4u93fGt5mvTmnLx9Xgwv9d3m+1YvZbF4MzT7aZTE2XGtgrO5afXUNI1HYdE5fO3HveYlhwbxLSU2j9wVgAqrt68uvEGdSr4U94Sgx3zXueC5lphbZrE9CUr+54FU9nN4yaiemrv2Xx/lV6VKFUvrnrDW5t3ovE9BTaz7wDgOouniy8/0PqVvcn4nwM9y54sUh9AZY/+CWd67Zm29n9jJn7lKWjl0ugux+vdX2s4HltNx/mH/md308Vfc+aVq/PrH5v8O6O/7EperclY5pFcnwyX70zhwvJF1F2iv4j+zL0rkGFyixfuIKtq/P3U2OekeiIGOas+BJ3T9s9LpubDO2rJIxGI++/+yFff/cVvr6+jLtrPL379qZhowYFZfxq1+bt6W+yYN6POiY1n+1/7aJWkDfZGdlF1tVu6MfDn0/B0dmBXf/sZfX367nz5bE6pCy/Wq41uKvFUO76/RmyjTlM7/ssg+r34O9TIQVlRjXpT2rOJcYueYKB9XvwRMfxvBLyqX6hy2Fiizs5mHiET/fPwV7Z42TvWGj98rNrWH52DQDtfVoxrF5/m21EAez/+wA1AmuQk5FTZF2fyb2ulPvnIAlnbLNxfLWDK0KpHuhFTkZukXVbf9hG0z5NaN6nGVGhUWxfuJOBT/bXIaX5DH11CM6ezsWu829ZmzodglBKkRKRQsgXIYz92DaPU5Na3MmBxCN8UsJ+O6RuH6LSY/lw71d4OLrzea+32By9C6Nm1Clx6czftYwvN//KD+PfK1j20oAprD+xkw/Xfs/UAZN5acAUXlr+WaHtMnKymLBwGqcSI6ntWYs9z//KquPbuFhMA8Sa/Lh7ObO3LOL7e94pWPZC/0msP7mLmevn8Xy/SbzQbxLT/vmiyLafhCzA1cGZB7rdZsnIZhGVHsfDa18D8k+QFw3/nC0xe4qUs0PxYKu72BMXaumIZmNnb8/4J+6hftN6ZF7K5JXJb9CqczCB9QMKyowYdysjxuVf8Nq7ZT8rfl0ljahrWPvQPuvuL7Mih0MPE1QnkMCgQBwcHRg8dDAh60MKlQkI8KdJ0yYoO9v/33oxKZUTu0/RYXDbYtc3aFMPR2cHAIKaBXAxKdWS8czOcPnExF7Z4WzvRGLG+ULre9XpxD8nQwBYH76dTv6tdEhZfi4GZ5rXaMz6qK0AGDUjGXmZJZbv4d+JrbFFP+RsRVpSGmf2htNqQPANyx7fHEaznk0skKripCenE7E3guD+zYtdfz7qPEGtAgEIaBnAmd1niy1XWTg4OxR8COdl54GVX9ksyc3stxoazob8BqWzvRPpuZcwaSaLZy2rzaf3kpJxsdCykS378sOuZQD8sGsZo1r1K7LdycQITiVGAhCbmkhCegq13KtXfOBy2nJmH+evqe+I4D78tHs5AD/tXs7Iln2L3XbDyV2kZV+q8IwVrZ1vMDHpCSRkJBdZN7rRIDZH7+ZCtu2eW1T39qJ+03oAuLi5EFDXn5TE8yWW37ZmB90HdrVQOtuhyvjPUqRH6iYlxCfi5+dX8NzXz4fQQ4d1TFSx/v1mNYMn9yc7s2hv1LX2rjpA444NLZCqYiRmpPDT4WUsv2s22Xk57Iw5xM6Yg4XK+LjVIP5SEgBGzUR6TgbVnDy4mG3dVz2v5ePiTWpOOo+0nkBdjwDOpkYy/+hiso1Fe2sc7Rxo6x3M90d+1SGpeYR8v4leE24hJ7No/a6WmpBKakJqQSPDVm2et5Xu93Ursb4169Xk9I4ztBnWmjM7z5KbmUtmWhYuHsX36Fg9pVj1/mqUUjTt34Sm/ZsWKRKxO4K9v+4l82IWA1+0zeHW/+23j17eb88Us9+uDA/hxY6P8k2/D3ExOPHp/u/Q0HRMXX6+HjWIS80/7salJuHjUeO65TvVaYmjvQOnk85ZIp7Z+XjUJC7tcn3Tkqjlfv362rq+gV1Zf25HkeXeztW5JaADz298n6YdGxSzpe1JjE0k/GQEjYKLP1fKzsrm4I5QJj13n4WTifKy/a4TC9G0oh9I1v5ty2UVtvMkbl5u+DeufcOyB9eHEnMylltu72aBZBXDw9GNXnU6Meq3xxj660M4G5wY2rBnoTLFv9e2d5Jib2dHfc8g1kRs5KWt08nKy2FUg8HFlu3g25qw86dtdljfmd1nca3mim9DnxuWPb7lBI27NcLO3nYPiWf3hONSzQWfhrVKLNPj/u5EH4nh1+d/I/poDG413LCzs93j2LA3b2XU+yMZOHUAx1YfJ+5YXJEydTvVZezHY+n/XD/2/bZfh5Tl999+uzpiI1O3Tic7L4fR1+y3bWoFE5EaxcPrp/LClveYEnw3LgYbbSCXgZ+nNwvGT2fyz68X+3ktrItB2dPdvx2bonYVWfdo23F8G7oIkw1+xhYnKyOLT1+Zxf1PjcPVzaXYMvu2HKBp68YyrK8YSqky/ViK9EjdJF8/H+LirnxIx8clUMun5BMWWxZ59BxhO05wcvcp8nLzyM7IZsmMP7n9hdGFyp3ef4aNi7Yw+cP7MTjY7p9SZ//WxKQncCErfwjBhoidtPZpyr+nNxeUib+UjK+bNwkZKdgrO9wdXbmYna5X5DJLzrxActYFTl0MB2Bn3D5GNSy+IdW9die2xtreDb7/iT4ew+ndZzi7N5y8XCM5GTms+HQVtz5TtL5hW07Q/6Hih9HYitiwOM7uDidiXyTG3DxyMnJZ/flaBj11pRfGvYYbt744BICczFxO7ziDk5uTXpHLzbWGKwAu1Vyo26kOiaeT8GvuV2xZv+Z+pMVvISs1q8R7qqzVtfvtjrh9jL5mv+0b2I0/T+ffsB+fkUhCRhL+bn6cvryNLYpPS8HP05u41CT8PL1JSEsptpyHkxt/P/Q/Xlsxi50Rhyyc0nwS0pLx8/AmLi0JPw9vEtOLr29l0NmvDScvhHO+mKF7TarX59UujwJQzcmDzn5tMGpGtsbss3TMcsvLy+PTV2bRY1B3OvfpWGK5bWtlWF9JZLKJSiK4ZTCREeeIjorGx8eHVf+uYvpH0/WOVSEGTurHwEn5Y9HPHgpn69IdRRpRsafjWDZrBfe/cy/uXm56xDSbuEtJtKrVBCd7R7KNOXSq3YpjSacLldl8bg/DGvchNPEE/ep1Y3esbQ7rvJiTSnJWCrXdfIm9FE9L72ZEpccWKedicKZFjcZ8efB7HVKaR8/7etDzvh4AnDscxZ4/9xXbiEqJPk92eja1mxZ/Am4ruo/rSvdx+R/EUYej2b/sYKFGFEBmaibO7s4oO8XeP/bRol8zPaKaRW5WLmjg4OJAblYu0YdiaDu2TaEyqXGpePh6oJQi6WwypjwTTh6213C8dr9tVcx+m5SZQivvZhw/f4pqjh74u/uRkGHbk6csPxzChM4j+XDt90zoPJJlhzcUKeNgb+D3Bz7jx93LWXJgjQ4pzefvIxsZ32kEM9fPY3ynESw/EqJ3pArTr05X1kcWHdYHMP7f5woev9jxQXbEHrDJRpSmacyZPhf/ev4Mu2dIieUy0jM4tj+Mx96w7RljK0pFTn+ulLIH9gDRmqYNL8trSEPqJhkMBl6aNpVHHnwMk8nEqDEjadS4IV/Nmk2L4Bb06debw6FHePbJ50hNTWXThk3M/vJrfl++RO/oZrPuxxACGvvTrGsTVs1dS05WLoveXwpAtVqejHvjLp0Tls2RxJOsC9/OT6NmYNSMhCWf5Y+wNTzc7i6OJZ1m07k9/HViHW/1epLfb59FanY602x0xj6AeUcW8UTbyRiUPQkZScw+tIABdfKHMq6NzO+F6+zbjkNJR4u9d8rWbf15B36NfGjYOX/s/fHNYTS9pYnVzwxUVjt/3YVPw1rU71Sf6CMxbF+4ExQEtKhN7wd63fgFrFTWxSzWfbIeAM2o0aBHfQLbBnJ8zXEAmg1sRviuCE5vOo2dQWHvaKDPk71t9n3+/sginrxqv/3q0AIGXt5v10RuZumpFTzaegIze+bPiLbw+O+k5drOhAQL7/+QPo064u3uReRba3jz36/4YO1cFk2ayeSuY4g8H8ed8/JPsDsEteD/etzJg7++yZ3tBtOrYXtqulZjQuf8rzeY9PNrHIwO07M6N7Rg/Pv0atgBbzcvTr+2kndWfc2M9fP4+f4PmdR5NOcuxHLPDy8C0D6wBQ92v51HFr8NwLrH5tLUpz7uTi6cfm0l/7f4LdaE2c5U9072jnTwacmne+cVLBveIH9EwN9nijaWbVXYoZNsXrmNoIaBvDQhf7+86+HbSYrPn1xj4Jj8C9a7N+6ldeeWOLvY3kUeS6jg22ieAo4BnmV9AVWZxhJnGi9VnsrcwLLw3/WOYFEzN/6ldwSLaeDnrXcEi+pXzzZnQCyLq7+brCq4lFvyjJCVzb64CL0jWNSSVdv0jmAxDgZ7vSNY1C3dqs4xeUbfR/WOYFHta3a1uStJv51ZWKZz+zsajLtuXZVSgcAPwHvAs9IjJYQQQgghhKg0KrBH6jPgRcCjPC9iu1NUCSGEEEIIISqtss7ap5R6SCm156qfh656zeFAgqZpe8ubT3qkhBBCCCGEEFanrLP2aZo2B5hTwuoewEil1K2AM+CplPpJ07Txpc8nhBBCCCGEEFamIr5HStO0lzVNC9Q0rR5wN7C+LI0okB4pIYQQQgghhBVSVt7nIw0pIYQQQgghhNWp6K+s0DQtBAgp6/bSkBJCCCGEEEJYnQr+Hqlyk4aUEEIIIYQQwurYWfmXqEtDSgghhBBCCGF1pEdKCCGEEEIIIUqpou+RKi9pSAkhhBBCCCGsjrXP2qdLOqXUNKXUEaXUIaXUAaVUl+uUnaiU8rdkPiGEEEIIIYS4Hov3SCmlugHDgfaapmUrpbwBx+tsMhE4DMRYIJ4QQgghhBDCCsjQvqJqA0mapmUDaJqWBKCUeh0YAbgA24CHgduAjsBCpVQm0E3TtEwdMgshhBBCCCEsyM7KJ5vQY2jfaiBIKXVCKfWVUqr35eVfaprWSdO0luQ3poZrmrYE2AOM0zStrTSihBBCCCGEqBqUUmX6sRSL90hpmpaulOoA9AT6AouUUi8BaUqpFwFXoAZwBFh+o9dTSj0EPATw5exZTHlwcoVltybn0mL1jmBRNap76B3BYo6FV61RrPHpl/SOYDEGe+u+adbcrP37P8zp2PEIvSNYlHY0Re8IFqPa+OgdwaJyc416R7AYTdP0jiBuQKY/L4amaUYgBAhRSoWSP4yvNdBR07RzSqk3AeebfK05wByALGOG7BFCCCGEEEJUAtZ+j5TFL48qpZoqpRpftagtEHb5cZJSyh24/ar1aUDV6Y4QQgghhBBCoLAr04+l6NEj5Q7MUkp5AXnAKfKH5l0AQoFwYPdV5ecDX8tkE0IIIYQQQlQd1j5EXI97pPYC3YtZ9erln2vLLwWWVnQuIYQQQgghhPWQe6SEEEIIIYQQopSs/R4paUgJIYQQQgghrI70SAkhhBBCCCFEKUmPlBBCCCGEEEKUkp3lJxgvFWlICSGEEEIIIayO9EgJIYQQQgghRCnJPVJCCCGEEEIIUUrSIyWEEEIIIYQQpWTtPVLWfQeXEEIIIYQQQlgh6ZESQgghhBBCWB1r75GShlQpbN28lQ/fn4HJaGLM7aOZ8uDkQutzcnKY9tJrHDtyjGpe1fjokw8JCPDXKW35/PL4IhycHVB2Cjt7O8a8P6rQ+lObT3Fw2SEADM4O3DKlOzXr1dQjarkFuvvxSqdHCp77udXix2N/8MfpNQXL+gZ25c4mtwKQlZfNrAMLOJN6zuJZzWF865GMbTEINI2TKRG8tv5zcoy5RcoNbNCdj4e8xN2/PcvRxFM6JC2/IA8/3uj6eMHz2u4+zDu8lCUnVxUsa1urGe/2eIa4S4kAbIrew4Kjf1o8a3kFuvvxapdHC57XdvPhh6O/8/up1QXLutdux8Tg2zBpJoyaidkHF3I4+aQeccst0N2PaZ2v1NfPrRYLjv7BH6ev1Ldb7XZMaDEWTdMwakZmH/qZIzZa38mdbuPetsMAxS8H/mbu7qWF1jesGcTHw6bS0q8xMzbO5Zudi/UJWkZzn5vJ8C4DSLiQRKuHBgBwe69hvHnfszSv05jOTwxn74lDxW779NgHeGDoPWiaRmj4cSbNeI7s3GxLxi+1b+58g6EtepKYnkKHmXcCUN3Fk5/u+4C61f0ih+kfAAAgAElEQVSJOB/DuB+nciEzrci24zsO56X+DwDwwbrv+GnP3xbNXh5BHrV5s8cTBc/93X34PnQJv4WtLFSurU9znmh/HwY7ey5mp/HkunctHbXckuOTmf3Ot1xIuYhSin6j+jD0zkGFyixfuIJtq7cDYDSaiI6I4Zt/ZuHu6a5HZOsk90hVDkajkenvfsA3383G19eXe+8aR5++vWnYqGFBmT+W/omnpwd/r1rGvytW8tnHnzPjkw91TF0+w1+/FWdP52LXefh4MPyNYTi5O3Fu/zk2f7uV0e+NtHBC84hKj+PRDW8AYIdi4dBP2Rqzr1CZ+IwkXtj8Aem5GXT0bcVT7Sbw1EbbO7D7uNVgXOsRjP7lMbKNOcwY9CJDGvVkWdj6QuVcHVy4t/UIDsWF6ZTUPM6lxfHAmlcBsFOKJcO/YHP0niLlQpPCeHnLJ5aOZ1ZR6XH837rXgfy/41+HfcaWmL2FyuxLOMq22P0A1PcM4rWujzJ59csWz2oOUelxPLL+Sn1/vvUztl5T3/0JR9leUN9AXu3yGFPW2F59m9aqx71thzF83iPkGnP58e6PWHdqB+HnowvKXMhM4401sxjc5BYdk5bd/NW/8eVf81nw4mcFyw6HhzH2rQf55umSP0f9a/rx5OjJtHigH1k5WSx6dTZ39x3JD6t/s0TsMvtxz3Jmb13E3HveLlj2fL9JbDi5i5kb5vN834k8328Sr/7zRaHtqrt4Mm3gQ3T/bDwaGtufXsjfRzYW2+CyRufSYpmy8hUg/5i8dNSXbDpX+Jjs7uDKsx0n8XzIhyRkJOPl5KlH1HKzs7dn3BN3U79pPTIvZTJtypu06hRMYP2AgjIjxt3KiHH5F2n3btnPv4tWSyPqGtbeIyX3SN2kw6GHCaoTRGBQIA6ODgwZOpiQ9SGFymxYH8LI0SMAGDhoALt27ELTNB3SVjzfpr44uTsB4NPYh0vJl3ROZB5tfVoQeymBhMzkQsuPppwiPTcDgOMpp/F2qaFHPLOwt7PDyeCIvbLD2eBEYkZKkTKPdx7HvP1LyTbm6JCwYrT3CSb6UgLxGck3Lmzj2vkEE5OeSMI1dc0yXrlK72xwpLIcntqVsN8Wrq+TzR6PG9Wsy77oo2TlZWPUTOyMPMiQpj0LlUnOuMDB2DByTXk6pSyfzaE7SUm7UGjZ8chTnIg6c8NtDfYGXJycsbezx9XJhZjk+IqKaTZbzuzjfMbFQstGBPcu6F36ac/fjAzuU2S7gU27se7ETs5npnIhM411J3YyqGl3S0Q2uw6+LYlJTyA+I6nQ8gF1u7Pp3O6C49eF7FQ94pVbdW8v6jetB4CLmwsBdf05n3i+xPLb1+6k+8AuFkpnO5RSZfqxFOmRukkJ8Qn4+fkWPPfx8yX00OFiyvgBYDAYcPdw58KFC1SvXt2iWc1lxXsrUQqaDWhG8wHNSiwXtuEEQW0DLZis4vQJ7EJI1M7rlhlStxe740MtlMi8Ei6l8MOBP1l9/1yy8nLYfm4/288dKFSmmXcD/Ny92RSxhwltx+iU1Pz61enK+sjtxa5rUbMR3w16j+TM88w++AvhqdHFlrMVfYO6sCFqR7Hrevh3YErL2/Fy8mTaVtvuhftP78AubDhXUn3bMzn4Dqo5efDatk8tnMw8whLP8mLvKXi5eJKVm03fhl1svrfYXGKS45i55BsiF+4kMzuL1Xs3sWbvJr1jlYmPR03i0vIbFXFpSdRyL3rBzr+aD1EX4gqeR1+Mx7+aj8UymlO/ul1ZF7GtyPIgTz8MysDn/abh6uDCkrCVrArfokNC80mMTST8ZAQNgxsWuz47K5uDO0KZ+Ox4CyezftIjVUkUdyHz2re2uKud1j7/fUlGvj2csR+OZsjLgzm66hixR2OLLRdzOIaw9WF0HtfJwgnNz6Ds6erXlk3Ru0ss08a7GYPr9WTuEdu6/+A/Hk5u9K3XhaE/PsiAHybiYnBmWJM+BesVihd6TGHmtu/1C1kBDHb29PBvT8i5XUXWnTgfzt3/PMMDq6fx+8k1vNvjaR0Smo9B2dOtdjs2RhWtK8DWmL1MXv0yb2z/gknBt1k4nfn9V9+S9tutMfuYsuZl3tr+BRNajLVwOvM4lRzJVzt+5ed7ZvDT3R9yNOE0RpNR71hWwcu9GqO6DaL+fd3wv7sDbs4ujOtvm+/zzSjunELD9npaDXb29AjowIZzRS9c2it7mtSoz9SNM3l+wwdMaDmGQA8/HVKaR1ZGFp9O+5L7nrwXVzeXYsvs23KAJq0bybC+Yqgy/rMUaUjdJF8/H+LirgwXSIiLx8en1jVlfImLy79SlJeXR3paOtWqVbNoTnNxq+EGgEs1F+p1rkvi6aQiZZIjUtg0ZwsDXxiIs0fx91LZkk5+rTl1IaLEYQT1PQN5ut0k3tzxBWk5tjmUsWtgW6LS4jmflUqeyci6s9tp63elt9HN0YVGNeoyd9R7/Dv+W1r7NuWLW6fRolYjHVOXXxe/Npw4H875Yt7bjLwsMvPyh4DtjDuIwc6eao62+2HW2a81J6/zd/yf0KQwarv54GnDdYUb77f/CU0+gb8N13fRwRXc+v3D3P7T01zMTONsim33mprLgPa3cDbuHEkXU8gz5vH7ln/p3qKD3rHKJCEtGT8PbwD8PLxJTC867Dr6QjyBXlcaFQHVfIm9mGixjObStXZbTqaEcz6r6H6bmJHCrtiDZBmzuZiTzsGE4zTyqqNDyvLLy8vj02lf0mNQNzr36Vhiue3rdtJ9QFcLJrMd1j60TxpSNym4ZTCREZFERUWTm5PLyn9X0btvn0Jl+vTtzbI/lwOwZvVaOnfpZJM9UrlZueRk5hQ8jjoUTfWgwsMT05PSWfvxWvo+1hsvf9tsLF7resP6arnU4PUujzNj77dEp1v/+PuSxKUl0tq3Kc4GRwC6BLThzPkrsw+m52TQe954hv70IEN/epBD8WE8ueI9m5217z/963RjXQnD+mo4X/n7bVajAQrFxZx0S0Uzu75BXUsc5ubvdmUIUCOvujjYGUi14bpC/oyaJQ1jvLa+Bhuub01XLwD8PX0Y0qwnfx1dp3Mi6xCZEEPX5u1wccq/mNe/3S0ci7TN49XfRzcxvuNwIH9mvuVHNhYpsyZsOwOadsXLxQMvFw8GNO3KmrDij23WrH/dbqwtZlgfwJbovbSu1RR7ZYeTvSPNazYkIjXGwgnLT9M05rz/PQF1azPs7iEllstIz+DY/jA69GxvwXS2w9p7pOQeqZtkMBh4edpUHnnwUUwmE6PHjKJR44b8b9ZXBAe3oE+/Poy5bTTTpr7K8MEj8fTy5KOZH+gdu0wyL2ayZmb+h7TJZKJRj4YEtQ3k6JpjALQY2Jx9S/aTlZ7Nlrn5B8Lipki3JU72jrT3Cebz/T8ULBtWrw8A/4SHMK7ZKDwc3Xm8zX0AGDUjT4S8XdxLWbXQhBOsPb2VRXd8htFk5FjSGZYcWcWjne7laOIpQsKLHw5my5zsHengG8zHe68MVxzZsB8Ay06vp3dgJ0Y27I9RM5FjzOHtHV/pFbXcnOwd6eDTks/2zS9YNrx+XwD+PruBngEdGVj3FvJMeeQYc3l35/90Smoe/+23n+2fX7Bs2OX6/nN2A7cEdGRAnR4YTUayjTm8t8t239s5t72Fl4sneUYjr676nItZ6Yxvlz+50U/7l1PLrTr/TPoGdydXTJrGlE6302/ORNJzMnROfnN+fuVL+rTuhne1Gpz7eTdvLPiYlLQLzHrsHWpVq8E/7/7AgdNHGPLyeGrX9OW7Z2cwbNr97Dq+nyWbV7Dvq5XkGfPYf/oIc1Ys1Ls6N7Rg3HR6NuyAt5sXp179l3dXf83M9fNYeN+HTOw8mnMX4rh3wYsAtA9szoPdbueR397hfGYq76/5jq1P/QTA9DXfcj7TtiZjcLJ3pKNfS2bunluwbGSj/gAsO7WOiNQYdsYeYt7QDzBpJv45E8LZi1F6xS2zsEMn2bJyG0ENA3l5wmsA3Pnw7STH50+iMWBM/ufQ7o17adU5GGcXJ92yWjNrv0dK2eosRsXJMmZUnsrcwJehX+odwaLWnD2mdwSLiY2t/LPKXa2Gd+Xo0bwZBvuqNQjAzgZ75Mvq2PEIvSNYVNQG2/w+rrJwamObkzmUVecOzfWOYDGfDnz8xoUqkQ7e3WzuoHz4/L4yndu3rN7eInWVHikhhBBCCCGE1bH2HilpSAkhhBBCCCGsjrXPNSANKSGEEEIIIYTVkR4pIYQQQgghhCgla29IVa07n4UQQgghhBA2oSK+R0opFaSU2qCUOqaUOqKUeqqs+aRHSgghhBBCCGF1KqhHKg94TtO0fUopD2CvUmqNpmlHS/tC0iMlhBBCCCGEqBI0TYvVNG3f5cdpwDEgoCyvJT1SQgghhBBCCKtT0fdIKaXqAe2AnWXZXnqkhBBCCCGEEFanrPdIKaUeUkrtuernoWJe2x1YCjytaVpqWfJJj5QQQgghhBDCCpWtR0rTtDnAnBJfVSkH8htRCzVN+71s2aQhJYQQQgghhLBCFfGFvCr/RecCxzRN+6Q8r2XRoX1KqWmXpxk8pJQ6oJTqYsnfL4QQQgghhLANqoz/bqAHcB/Q73J75IBS6tay5LNYj5RSqhswHGivaVq2UsobcLTU7xdCCCGEEELYjoqYbELTtC2UdczgNSzZI1UbSNI0LRtA07QkTdNilFLhlxtVKKU6KqVCLj9+Uyn1vVIqRCl1Rin1pAWzCiGEEEIIIXRUEV/Ia06WvEdqNfC6UuoEsBZYpGnaxhts0wzoC3gAYUqp2Zqm5ZZU2KQZzRbW2h1PjtY7gkWtXlWmWSltkms1V70jWNSFi2l6R7AYf/9aekewqKysHL0jWExKFfo7BvDqHKh3BIsJqO2tdwSL6t2ggd4RLKahZ2O9I4gbqOjpz8vLYj1SmqalAx2Ah4BEYJFSauINNvtH07RsTdOSgATA99oCV09v+P2388wdWwghhBBCCKGDCrpHymwsOmufpmlGIAQIUUqFAhOAPK406Jyv2ST7qsdGisl79fSGGXlpmpkjCyGEEEIIIXRgyWF6ZWGxHimlVFOl1NV9qG2BCCCc/J4qgNsslUcIIYQQQghhvaRH6gp3YJZSyov8XqhT5A/zaw7MVUq9AlSdG2GEEEIIIYQQJbL2HimLNaQ0TdsLdC9m1WagSTHl37zmecuKSSaEEEIIIYSwNtY+2YRF75ESQgghhBBCiJsjDSkhhBBCCCGEKBXrbkZJQ0oIIYQQQghhhaz9HimLzdonhBBCCCGEEJWF9EgJIYQQQgghrJB190hJQ0oIIYQQQghhday7GSUNKSGEEEIIIYRVsu6mlDSkhBBCCCGEEFZHJpsQQgghhBBCiEpGeqSEEEIIIYQQVkfJ0L7KY+vmbcz4YCYmo4nRt41m8oMTC63/bdESFv/yG3Z29ri6uvDqm9No2KiBPmHLycXgwoTmdxPgVhvQmHf0F86khhcpV8+jDq90eoZvDs9nb8JBi+csq7n3vcvwVr1JSEuh1TujAKjuWo1FD35MvZoBhCdHc+e3z3IhI7XItnlfhRIafRKAyJQYRs1+3KLZy+vRHnczqfMYUDB/15/8b8svhdZ7uXgw+/bXaVAzkKy8HB757W2Oxp/WKW35Te54G/e0HYZC8cvBv5m7e2mh9Q1rBDFz+FRa+jZmxsa5zNm1WKek5VPHszbv9n6m4HmAuw9zDixm0bEVBcs8HN2Y1uMRAt19yTbl8t7W2Zy5cE6PuGYxvtUIxjQbiIbGyZQI3giZRY4x96r1IxnTfCBGk5HzWam8GTKL2PREHROXXVXbbx/udicTOo0CFAv2/MXX2xYVWv/ELeO4o+1gAAx29jSpVY9G04dyIbPoMdva3ddmFLe1GIQGnEwO59V1nxX6Ox7VrD/P9ZhMQnoyAL+E/s3So6t1Slt+fz/7Nw7ODig7hbJTDHx7YJEyCccSOLDwACajCSd3J/pO66tD0vLbvmUHn3z4GSajiZFjRzDhgfsKrf/0w8/Zu3sfAFlZ2ZxPOc+6bav0iGq1pCFVSRiNRj5470Nmf/s/fH19GXfX/fTu26tQQ2nosCHccdftAISs38gnH33K/+bM0ityudzTZCxHko/xdeg87JU9jvaORcooFLc1GsGR5OM6JCyf+dv/4MuQhSyY+EHBspeGPMC64zv4cNV3TB38AC8NfoCX/vikyLaZOdm0e2+sJeOaTQvfhkzqPIZeX95PjjGPvyZ/wcpjWzidfOVk+oW+kzgUe4J7fnyBJrXq8unoqQz79lEdU5ddE+963NN2GCPmP0KuMZcf7/qIdad2EH4+uqDMhaw03lgzi8GNb9ExaflFpsZy//IXAbBTiuV3fMPGyF2FykxoNYaTKeG8tGEmdT39eb7rFJ5Y/Y4eccvNx7UG97QcztjFT5BtzOGjAS8wpGFPlp1YX1DmePIZxv3+HFl5OdzRYghPd53A1LUzdUxdNlVtv23u04AJnUbRf/Zkcox5LJnwGavDtnHmqvrO2rKQWVsWAjCk2S080v1um2xE+bjVZFybEYxa+CjZxhxmDp7K0Ma9+Ov4ukLlVp7czPRNX+uU0vz6vNwHJw+nYtflXMph3w/76Pl8T9y83chKzbJwOvMwGo3MeO9jZs35DB8/Hybe/QA9+95Cg4b1C8o8M/WpgseLF/5G2PGTekQV5SD3SN2kw6FHCAoKIjAoEAdHBwbfOoiQDRsLlXF3dy94nJmZCVZ+g1xJnO2daOzVkM0xOwAwakYy8zKLlOsf1It9iQdJzUmzdMRy23xqLykZFwstG9W6Hz9s/xOAH7b/yeg2/fWIVqGa+tRjV2QombnZGE1GNp/dx8iWha/0NfNpQMip/BPwE4kR1Knuj497DT3illtj77rsiz5KVl42Rs3EjnMHGdKkZ6EyyRkXOBQbRp4pT6eU5texdiui0+KIu5RUaHl9r0D2xIYCEJEaQ233WtRwrqZHRLOwt7PHyeCIvbLD2eBIYkZKofV7Yg6TlZcDwKH4MHzdauoRs9yq2n7bxKceu88dKajv1vB9DG/Ru8Tyt7UeyNJDayyY0LwM6srfsYuDE4mXUm68USUWuT2SgI4BuHm7AeDs6axzorI5GnqMwDqBBAQF4ODgwMCh/dm0YXOJ5Vf/u5ZBQwdYMKFtUEqV6cdSpCF1kxLiE/Ct7Vvw3NfXh8T4hCLlFv28mBFDRvH5J7N48ZXnLRnRbGq5eJOek86k5vfyeucXmNDsbhztCvdIeTlVo12t1oREbdUppfn5etYkLjX/xDMuNQkfj+JPQpwdHNn98mK2v/gLo2yssXU0/jQ96rejhms1XBycGNy0BwHVfAuVCY09waiW/QDoEBhMHS8//Kv56BG33MISz9KlTmu8XDxxNjjRt2EXanvW0jtWhRtYrwerzxbdN0+mRNCnThcAWng3xM+tFrVcbfNkOyEjhQUH/2TluG9Zc9880nMy2B51oMTyY5oNYEvkPgsmNJ+qtt8eiz9D93ptqe7iiYuDEwObdC9S3/+4ODjRv3FXlh3ZYOGU5pFwKZn5+/9g7YR5bJj8I2nZGWw7t79IuYENu/P73bP4ZMjL+Ll765DUfBSKjR9tZM3razi9oejw07S4NHIu5bBh+gbWvL6G8C3hlg9pBgkJifj6XdkHfXx9SIwvfmhxbEwcMdGxdOzSwVLxhJnI0L7yKKbFe9e9d3LXvXfy798r+e7rubzz/ls6BCsfO2VHHY9Afj6xlLOpEdzdZCxD6w3grzNX7rW4u/EYlp5ahoamY1J91HmlP7EXE6nvHcj6Z+YRGn2CM0m2cZ9JWEI4n2xcwPIH/kd6dgahsScxmoyFynwc8gMzRj7H9qcWciTuNAdjwoqUsRWnkiOZvf1XFt49g4ycTI7Fn7bZutwsg509PYM6MHvfz0XWLTj8J892nsiCER9x+nwkJ1LOYtRMOqQsPw9HN/rU68ywnx8mLecSMwa8yK2Ne7Pi5MYiZW9t3JsWtRoxZdk0HZKWX1Xbb08khvP5ph/5Y/IsLmVncCTuZIk9xkOa9WRnZKhNDusD8HRyo2+DLgxeMIW0nEt8POQlhjfpw98nQgrKhITvYsWJjeSa8rgzeCjvDXiGKX/a5t8yQL/X+uFS3YWs1Cw2frgRz9qe1Gp25QKXZtI4H36ePi/1wZhjZN3b66jZsCYetT10TF0GWtHzo5J6Stb8u5Z+A/tgb29f0alsjtwjVUn4+PoQHxtf8Dw+PoFaPiVf2R586yCmv/O+JaKZ3fnsC5zPvsDZ1AgA9iYcYGjdwt3NdT3r8FDLCQC4O7jTyrsFRpOJA0mhFs9rLvGpyfh5ehOXmoSfpzcJacUPr4i9mH9F6WxSFCEndtGuTnObaUgBLNj9Fwt2/wXAm4MfJfpi4Z7VtOxL/N9vbxc8Pzp1GeEpMRbNaE6LDq1g0aH8iwAv9n6A2DTbnGzgZnULaEdYyllSsi4WWZeRm8m7W2cXPP/jti+JSS/as24Luga2ITotgfNZ+SfQ685up61vsyINqS4BrXmg3e1MWfYquTY8fLOq7bc/7V3OT3uXA/DawP8jJrX4/XZs6wEsPWi7Ey90DWxLdGr8lb/j09tpW7t5oYbUxawrw+eXHF3FM90nWjileblUdwHyh+wFdAgg+UxyoYaUS3UX/Nz9MDgZMDgZqNW0FhfOXbC5hpSPrw/xcVf204T4BLx9iu9NXLNyLS9Me85S0WyMdTekZGjfTQpu2YLIyHNER0WTm5PLqhWr6dO3V6EyERGRBY83b9xCUN06lo5pFqk5aaRkX8DXNb9Lunn1JsRciitU5uVtb/PS5Z+9CQdYGPabTTeiAJYd2sCEbqMBmNBtNH8dWl+kjJerJ44GBwBqunnRo2F7jsba1sxYtdyqAxDo5cvIlv347WDhGYKqObvjYJ9/jWVi59FsPbuftOxLFs9pLjVdvQDw9/RhSNOeLDu67gZb2LZB9Ysf1gfg7uCKwS7/iueoxv3ZH3+MjNyi9z/agtj0RFr7NMHZkD/suEtAa86cjypUpmnN+rza81GeXjmd88U0LG1JVdtvvf+rbzVfhgf3YUkxjSVPJzd61GvHimObLB3PbGLTE2nt2xRnQ/7EC12C2nDmfOELc96u1Qse963fpch6W5KXnUduZm7B4/jD8VQLLHyfZkD7AJJOJGEymsjLziP5dDKe/p56xC2X5i2bcS4iipioGHJzc1nz7zp69Sk6qVHE2QjSUtNo1aalDimtnyrjj6VIj9RNMhgMTJ32Ao8+9AQmk5FRY0bSsFFDvpr1NS2Cm9OnX28W/byYndt3YTAY8PT04J3pb+odu8x+CVvKg8H3YVAGErOSmHf0Z3oH9ABgY7Tt3xf185QZ9GnSGW93L869v543ln/JB6u+ZfGDnzKlx21EpsRyx5z8qaQ71Anm/3rdxYM/vU5zvwZ8M+5NTJoJO2XHByu/5ZiNNaQW3vcRNVyrkWfM49k/P+RCZhpTutwGwNydS2nqU59v73oLo8nE8YQzPLrENmd1+883Y9+iuosnuUYjr636nItZ6YxvNwKAn/Yvp5Zbdf6e+A3uTq6YNI0pnW6n/7cTSc/J0Dl56TnZO9K5dms+2D6nYNmYJvlTC/9xYg31vAJ445bHMWomwi9E8d42250F7HDCSdae3cYvYz/BqBk5nnSWpcdW8UjHeziaeIqNEbt5putEXB2cmTEwfzbD2PREnl41XefkZVPV9tsF975P9cv1fWHZTC5mpeVP/w7M2/UHAMNa9GHDqV1k5NrmrG4AofEnWHN6K4vv+iz/vUs8zW+HV/JY53EcSThJSPguxrcZSZ96nTFqJi5mpfHq2s/0jl1mWRez2Pp5/jmEZtKo060OtVvX5tT6UwA06tcIzwBP/Fr5sXraalDQoHeDIo0tW2AwGHj+lWd48v+exWQ0MmLMcBo0asA3X35L8+Bm9OqbP/HR6n/XMnDIAItOkGBLrP3/i9KKGcNpqzLy0ipPZW7gyY2v6h3Boub+ZrszMpWWazVXvSNYVE0v2xquUR7+/pV/oourZWXl6B3BYk6eibpxoUrE0VB1rsMG1LbtyR1Ka0yndnpHsJjn2j1140KViJejt3W3SopxISe5TOf2Xo41LVLXqnMkFEIIIYQQQtgMa2/5SUNKCCGEEEIIYYWsuyklk00IIYQQQgghRClJj5QQQgghhBDC6lj7ZBPSIyWEEEIIIYQQpSQ9UkIIIYQQQgiro6z8HilpSAkhhBBCCCGskDSkhBBCCCGEEKJUrLsZJQ0pIYQQQgghhBWy9skmpCElhBBCCCGEsELSkBJCCCGEEEKIUrHuZpQ0pIQQQgghhBBWybqbUtKQEkIIIYQQQlgda79HSr6QVwghhBBCCCFKSXqkhBBCCCGEEFbH2r+QV2mapneGclFKPQQ8dPnpHE3T5uiRQY/fq4eqVFeoWvWtSnWFqlXfqlRXqFr1rUp1BalvZVaV6gpVr76Vlc03pKyBUmqPpmkd9c5hCVWprlC16luV6gpVq75Vqa5QtepbleoKUt/KrCrVFapefSsruUdKCCGEEEIIIUpJGlJCCCGEEEIIUUrSkDKPqjTGtSrVFapWfatSXaFq1bcq1RWqVn2rUl1B6luZVaW6QtWrb6Uk90gJIYQQQgghRClJj5QQQgghhBBClJI0pEpJKfW9UipBKXX4qmU1lFJrlFInL/+3up4ZzaWEut6hlDqilDIppSrVbDMl1HeGUuq4UuqQUuoPpZSXnhnNpYS6vnO5ngeUUquVUv56ZjSn4up71brnlVKaUspbj2zmVsJ7+6ZSKvrye3tAKXWrnhnNqaT3Vin1hFIq7PLx6iO98plTCe/toqve13Cl1AE9M5pTCfVtq5Tacbm+e5RSnfXMaC4l1LWNUmq7UipUKbVcKeWpZ0ZzUUoFKaU2KKWOXd4/n7q8vLKeS5VU30p7PrlQs+gAAAYMSURBVFWVSEOq9OYDQ65Z9hKwTtO0xsC6y88rg/kUrethYCywyeJpKt58itZ3DdBS07TWwAngZUuHqiDzKVrXGZqmtdY0rS3wN/C6xVNVnPkUrS9KqSBgIBBp6UAVaD7F1BX4VNO0tpd/Vlg4U0WazzX1VUr1BUYBrTVNCwZm6pCrIsznmrpqmnbXf+8rsBT4XY9gFWQ+Rf+WPwLeulzf1y8/rwzmU7Su3wEvaZrWCvgDeMHSoSpIHvCcpmnNga7AY0qpFlTec6mS6luZz6eqDGlIlZKmaZuAlGsWjwJ+uPz4B2C0RUNVkOLqqmnaMU3TwnSKVKFKqO9qTdPyLj/dAQRaPFgFKKGuqVc9dQMqzQ2UJey3AJ8CL1I16loplVDfR4APNE3LvlwmweLBKsD13lullALuBH6xaKgKVEJ9NeC/nplqQIxFQ1WQEuralCsn2WuA2ywaqoJomharadq+y4/TgGNAAJX3XKrY+lbm86mqRBpS5uGraVos5O8wgI/OeUTFmAz8q3eIiqSUek8pdQ4YR+XqkSpCKTUSiNY07aDeWSzk8ctDN7+vLENmrqMJ0FMptVMptVEp1UnvQBbQE4jXNO2k3kEq2NPAjMvHqZlUnlECxTkMjLz8+A4gSMcsFUIpVQ9oB+ykCpxLXVNfUQlIQ0qIm6CUmkZ+9/xCvbNUJE3TpmmaFkR+PR/XO09FUUq5AtOo5I3Fq8wGGgJtgVjgY33jVDgDUJ38YTQvAIsv99hUZvdQiXqjruMR4JnLx6lngLk656lIk8kfBrYX/r+9+wm1ogzjOP79lX8IbBMktTEjatUiUoogUCQqIuwPBYGE1iYpqBZBGEH7FkHlIhDDkowKpNxXiyLiQmG66LaIbmCRUNHC/iB1nxYzty7iUQfm3OHO/X427zvnDMPzMocz73Pmec9wKXB64Hh6lWQdTTnq02dURIzSShvvSmEi1Y+TSa4EaNtRlJGokWQncDewo1bO8wIOMZIykgmuAa4GvkoyR1Oy+WWSKwaNakqq6mRV/VNV88A+YBQL9M/hBHC4GjPAPDCKPxM5mySraNZavDN0LEtgJ/+vA3uPEX+Wq2q2qm6vqk00SfK3Q8fUlySraZKKt6pq4XyOdi41YbwaAROpfhyh+XKnbT8YMBb1KMmdwLPA9qr6Y+h4pinJtYs2twOzQ8UybVV1vKrWV9XGqtpIM/G+sap+Gji0qViYnLTuoykZGrP3gW0ASa4D1gA/DxrRdN0GzFbViaEDWQI/Alva/jZgtKWMSda37UXA88Brw0bUj/bu8H7g66p6adFbo5xLnWO8GgEfyNtRkreBrTS/bp4EXqC5aL8LbKD5968Hq2rZL/aeMNZfgVeBy4HfgKNVdcdQMfZpwnj3AGuBX9rdPq+q3YME2KMJY72LZnHzPPA9sLuqfhgqxj6dbbxVtX/R+3PA5qpa9pPtCed2K01ZXwFzwGMLaxGWuwnjPQi8TjPm08AzVfXRUDH2ZdLnOMkBmu+mUUy0F0w4t98AL9OUb/4FPF5VXwwVY18mjHUd8ES7y2FgzxiqIpLcCnwCHKe53gA8R7NuaIxzqUnjXctI51MriYmUJEmSJHVkaZ8kSZIkdWQiJUmSJEkdmUhJkiRJUkcmUpIkSZLUkYmUJEmSJHVkIiVJumBJTp2xvSvJ3qHikSRpKCZSkqTBJbl46BgkSerCREqS1IskVyX5MMmxtt3Qvn4gyQOL9jvVtluTfJzkEM3DKiVJWjZWDR2AJGlZuSTJ0UXblwFH2v5e4M2qeiPJo8ArwL3nOd5NwPVV9V3/oUqSND0mUpKkLv6sqhsWNpLsAja3m7cA97f9g8CLF3C8GZMoSdJyZGmfJGlaqm3/pr3eJAmwZtE+vy91UJIk9cFESpLUl8+Ah9r+DuDTtj8HbGr79wCrlzYsSZL6ZyIlSerLk8AjSY4BDwNPta/vA7YkmQFuxrtQkqQRSFWdfy9JkiRJ0n+8IyVJkiRJHZlISZIkSVJHJlKSJEmS1JGJlCRJkiR1ZCIlSZIkSR2ZSEmSJElSRyZSkiRJktSRiZQkSZIkdfQvCfZWGlPGvEwAAAAASUVORK5CYII=\n",
      "text/plain": [
       "<Figure size 1152x360 with 2 Axes>"
      ]
     },
     "metadata": {
      "needs_background": "light"
     },
     "output_type": "display_data"
    }
   ],
   "source": [
    "temp = pd.pivot_table(hour_group, values='avg_count', index='Day', columns='Hour')\n",
    "plt.figure(figsize = (16,5))\n",
    "sns.heatmap(temp, cmap='Greens', annot=True, fmt='.1f')\n",
    "plt.title('Average Number of Sales');\n",
    "plt.yticks(np.arange(8), ['Mon', 'Tue', 'Wed', 'Thur', 'Fri', 'Sat', 'Sun'], rotation=0);"
   ]
  },
  {
   "cell_type": "markdown",
   "metadata": {},
   "source": [
    "#### <a id='Header 3-4'>Heatmap of Average Total Sales by Hour of the Week</a>"
   ]
  },
  {
   "cell_type": "code",
   "execution_count": 16,
   "metadata": {},
   "outputs": [
    {
     "data": {
      "image/png": "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
