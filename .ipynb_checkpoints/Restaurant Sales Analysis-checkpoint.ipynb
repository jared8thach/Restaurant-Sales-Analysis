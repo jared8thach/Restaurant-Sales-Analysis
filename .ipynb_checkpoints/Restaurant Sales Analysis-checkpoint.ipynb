{
 "cells": [
  {
   "cell_type": "markdown",
   "metadata": {},
   "source": [
    "### Importing Libraries and Reading Data"
   ]
  },
  {
   "cell_type": "code",
   "execution_count": 1,
   "metadata": {},
   "outputs": [],
   "source": [
    "import pandas as pd\n",
    "import numpy as np\n",
    "import seaborn as sns\n",
    "import matplotlib.pyplot as plt\n",
    "from scipy.stats import norm"
   ]
  },
  {
   "cell_type": "code",
   "execution_count": 73,
   "metadata": {
    "scrolled": true
   },
   "outputs": [
    {
     "data": {
      "text/html": [
       "<div>\n",
       "<style scoped>\n",
       "    .dataframe tbody tr th:only-of-type {\n",
       "        vertical-align: middle;\n",
       "    }\n",
       "\n",
       "    .dataframe tbody tr th {\n",
       "        vertical-align: top;\n",
       "    }\n",
       "\n",
       "    .dataframe thead th {\n",
       "        text-align: right;\n",
       "    }\n",
       "</style>\n",
       "<table border=\"1\" class=\"dataframe\">\n",
       "  <thead>\n",
       "    <tr style=\"text-align: right;\">\n",
       "      <th></th>\n",
       "      <th>Date Time</th>\n",
       "      <th>Unnamed: 1</th>\n",
       "      <th>Non Taxable</th>\n",
       "      <th>Taxable</th>\n",
       "      <th>Discount</th>\n",
       "      <th>Tax</th>\n",
       "      <th>Total Sales</th>\n",
       "      <th>Total Sales (Cash)</th>\n",
       "      <th>Total Sales (Credit Card)</th>\n",
       "      <th>Total Sales (Other Types)</th>\n",
       "      <th>Service charges (Tax include)</th>\n",
       "      <th>Total Sales + SC</th>\n",
       "      <th>Tips</th>\n",
       "      <th>Total Sales + SC + Tips</th>\n",
       "      <th>Paid Balance</th>\n",
       "    </tr>\n",
       "  </thead>\n",
       "  <tbody>\n",
       "    <tr>\n",
       "      <td>0</td>\n",
       "      <td>01/01/20 00:00-23:59</td>\n",
       "      <td>NaN</td>\n",
       "      <td>0.0</td>\n",
       "      <td>0.0</td>\n",
       "      <td>0.0</td>\n",
       "      <td>0.0</td>\n",
       "      <td>0.0</td>\n",
       "      <td>0.0</td>\n",
       "      <td>0.0</td>\n",
       "      <td>0.0</td>\n",
       "      <td>0.0</td>\n",
       "      <td>0.0</td>\n",
       "      <td>0.0</td>\n",
       "      <td>0.0</td>\n",
       "      <td>0.0</td>\n",
       "    </tr>\n",
       "    <tr>\n",
       "      <td>1</td>\n",
       "      <td>01/02/20 00:00-23:59</td>\n",
       "      <td>NaN</td>\n",
       "      <td>0.0</td>\n",
       "      <td>0.0</td>\n",
       "      <td>0.0</td>\n",
       "      <td>0.0</td>\n",
       "      <td>0.0</td>\n",
       "      <td>0.0</td>\n",
       "      <td>0.0</td>\n",
       "      <td>0.0</td>\n",
       "      <td>0.0</td>\n",
       "      <td>0.0</td>\n",
       "      <td>0.0</td>\n",
       "      <td>0.0</td>\n",
       "      <td>0.0</td>\n",
       "    </tr>\n",
       "    <tr>\n",
       "      <td>2</td>\n",
       "      <td>01/03/20 00:00-23:59</td>\n",
       "      <td>NaN</td>\n",
       "      <td>0.0</td>\n",
       "      <td>0.0</td>\n",
       "      <td>0.0</td>\n",
       "      <td>0.0</td>\n",
       "      <td>0.0</td>\n",
       "      <td>0.0</td>\n",
       "      <td>0.0</td>\n",
       "      <td>0.0</td>\n",
       "      <td>0.0</td>\n",
       "      <td>0.0</td>\n",
       "      <td>0.0</td>\n",
       "      <td>0.0</td>\n",
       "      <td>0.0</td>\n",
       "    </tr>\n",
       "    <tr>\n",
       "      <td>3</td>\n",
       "      <td>01/04/20 00:00-23:59</td>\n",
       "      <td>NaN</td>\n",
       "      <td>0.0</td>\n",
       "      <td>0.0</td>\n",
       "      <td>0.0</td>\n",
       "      <td>0.0</td>\n",
       "      <td>0.0</td>\n",
       "      <td>0.0</td>\n",
       "      <td>0.0</td>\n",
       "      <td>0.0</td>\n",
       "      <td>0.0</td>\n",
       "      <td>0.0</td>\n",
       "      <td>0.0</td>\n",
       "      <td>0.0</td>\n",
       "      <td>0.0</td>\n",
       "    </tr>\n",
       "    <tr>\n",
       "      <td>4</td>\n",
       "      <td>01/05/20 00:00-23:59</td>\n",
       "      <td>NaN</td>\n",
       "      <td>0.0</td>\n",
       "      <td>0.0</td>\n",
       "      <td>0.0</td>\n",
       "      <td>0.0</td>\n",
       "      <td>0.0</td>\n",
       "      <td>0.0</td>\n",
       "      <td>0.0</td>\n",
       "      <td>0.0</td>\n",
       "      <td>0.0</td>\n",
       "      <td>0.0</td>\n",
       "      <td>0.0</td>\n",
       "      <td>0.0</td>\n",
       "      <td>0.0</td>\n",
       "    </tr>\n",
       "  </tbody>\n",
       "</table>\n",
       "</div>"
      ],
      "text/plain": [
       "              Date Time  Unnamed: 1  Non Taxable  Taxable  Discount  Tax  \\\n",
       "0  01/01/20 00:00-23:59         NaN          0.0      0.0       0.0  0.0   \n",
       "1  01/02/20 00:00-23:59         NaN          0.0      0.0       0.0  0.0   \n",
       "2  01/03/20 00:00-23:59         NaN          0.0      0.0       0.0  0.0   \n",
       "3  01/04/20 00:00-23:59         NaN          0.0      0.0       0.0  0.0   \n",
       "4  01/05/20 00:00-23:59         NaN          0.0      0.0       0.0  0.0   \n",
       "\n",
       "   Total Sales  Total Sales (Cash)  Total Sales (Credit Card)  \\\n",
       "0          0.0                 0.0                        0.0   \n",
       "1          0.0                 0.0                        0.0   \n",
       "2          0.0                 0.0                        0.0   \n",
       "3          0.0                 0.0                        0.0   \n",
       "4          0.0                 0.0                        0.0   \n",
       "\n",
       "   Total Sales (Other Types)  Service charges (Tax include)  Total Sales + SC  \\\n",
       "0                        0.0                            0.0               0.0   \n",
       "1                        0.0                            0.0               0.0   \n",
       "2                        0.0                            0.0               0.0   \n",
       "3                        0.0                            0.0               0.0   \n",
       "4                        0.0                            0.0               0.0   \n",
       "\n",
       "   Tips  Total Sales + SC + Tips  Paid Balance  \n",
       "0   0.0                      0.0           0.0  \n",
       "1   0.0                      0.0           0.0  \n",
       "2   0.0                      0.0           0.0  \n",
       "3   0.0                      0.0           0.0  \n",
       "4   0.0                      0.0           0.0  "
      ]
     },
     "execution_count": 73,
     "metadata": {},
     "output_type": "execute_result"
    }
   ],
   "source": [
    "daily_df = pd.read_csv('.\\data\\Daily Sales Breakdown 01-01-2020 to 01-31-2021.csv', thousands=',')\n",
    "daily_df.head()"
   ]
  },
  {
   "cell_type": "markdown",
   "metadata": {},
   "source": [
    "### Data Cleaning / Processing"
   ]
  },
  {
   "cell_type": "markdown",
   "metadata": {},
   "source": [
    "Before creating our Lantern Vietnamese Cafe Dashboard in this Jupyter Notebook, we must clean our dataset."
   ]
  },
  {
   "cell_type": "code",
   "execution_count": 32,
   "metadata": {},
   "outputs": [],
   "source": [
    "def clean_daily(df):\n",
    "    \n",
    "    # saving the dataframe to a variable to return a clean copy without manipulating the actual dataset\n",
    "    temp = df.copy()\n",
    "    \n",
    "    # converting `Date Time` to datetime object for easier manipulation\n",
    "    temp['Date Time'] = temp['Date Time'].apply(lambda x: pd.to_datetime(x).date())\n",
    "\n",
    "    # dropping `Unnamed: 1` because it is an entirely null column\n",
    "    temp = temp.drop('Unnamed: 1', axis=1)\n",
    "\n",
    "    # dropping `Total Sales (Other Types)` because Lantern does not accept any other forms of sales in store\n",
    "    temp = temp.drop('Total Sales (Other Types)', axis=1)\n",
    "\n",
    "    # dropping `Service charges (Tax include)` because Lantern has no service charges\n",
    "    temp = temp.drop('Service charges (Tax include)', axis=1)\n",
    "\n",
    "    # dropping `Total Sales + SC` because Lantern has no services charges, and therefore, this column is identical to `Total Sales`\n",
    "    temp = temp.drop('Total Sales + SC', axis=1)\n",
    "\n",
    "    # dropping `Paid Balance` because Lantern does not use this feature\n",
    "    temp = temp.drop('Paid Balance', axis=1)\n",
    "\n",
    "    # finally, we will rename some columns to be less verbose\n",
    "    temp = temp.rename(\n",
    "        {'Date Time': 'Date', \n",
    "         'Total Sales': 'Sales',\n",
    "         'Total Sales (Cash)': 'Cash', \n",
    "         'Total Sales (Credit Card)': 'Card', \n",
    "         'Total Sales + SC + Tips': 'Sales + Tips'},\n",
    "        axis=1\n",
    "    )\n",
    "    \n",
    "    return temp"
   ]
  },
  {
   "cell_type": "markdown",
   "metadata": {},
   "source": [
    "This is the final product of our data cleaning:"
   ]
  },
  {
   "cell_type": "code",
   "execution_count": 74,
   "metadata": {
    "scrolled": true
   },
   "outputs": [
    {
     "data": {
      "text/html": [
       "<div>\n",
       "<style scoped>\n",
       "    .dataframe tbody tr th:only-of-type {\n",
       "        vertical-align: middle;\n",
       "    }\n",
       "\n",
       "    .dataframe tbody tr th {\n",
       "        vertical-align: top;\n",
       "    }\n",
       "\n",
       "    .dataframe thead th {\n",
       "        text-align: right;\n",
       "    }\n",
       "</style>\n",
       "<table border=\"1\" class=\"dataframe\">\n",
       "  <thead>\n",
       "    <tr style=\"text-align: right;\">\n",
       "      <th></th>\n",
       "      <th>Date</th>\n",
       "      <th>Non Taxable</th>\n",
       "      <th>Taxable</th>\n",
       "      <th>Discount</th>\n",
       "      <th>Tax</th>\n",
       "      <th>Sales</th>\n",
       "      <th>Cash</th>\n",
       "      <th>Card</th>\n",
       "      <th>Tips</th>\n",
       "      <th>Sales + Tips</th>\n",
       "    </tr>\n",
       "  </thead>\n",
       "  <tbody>\n",
       "    <tr>\n",
       "      <td>0</td>\n",
       "      <td>2020-01-01</td>\n",
       "      <td>0.0</td>\n",
       "      <td>0.0</td>\n",
       "      <td>0.0</td>\n",
       "      <td>0.0</td>\n",
       "      <td>0.0</td>\n",
       "      <td>0.0</td>\n",
       "      <td>0.0</td>\n",
       "      <td>0.0</td>\n",
       "      <td>0.0</td>\n",
       "    </tr>\n",
       "    <tr>\n",
       "      <td>1</td>\n",
       "      <td>2020-01-02</td>\n",
       "      <td>0.0</td>\n",
       "      <td>0.0</td>\n",
       "      <td>0.0</td>\n",
       "      <td>0.0</td>\n",
       "      <td>0.0</td>\n",
       "      <td>0.0</td>\n",
       "      <td>0.0</td>\n",
       "      <td>0.0</td>\n",
       "      <td>0.0</td>\n",
       "    </tr>\n",
       "    <tr>\n",
       "      <td>2</td>\n",
       "      <td>2020-01-03</td>\n",
       "      <td>0.0</td>\n",
       "      <td>0.0</td>\n",
       "      <td>0.0</td>\n",
       "      <td>0.0</td>\n",
       "      <td>0.0</td>\n",
       "      <td>0.0</td>\n",
       "      <td>0.0</td>\n",
       "      <td>0.0</td>\n",
       "      <td>0.0</td>\n",
       "    </tr>\n",
       "    <tr>\n",
       "      <td>3</td>\n",
       "      <td>2020-01-04</td>\n",
       "      <td>0.0</td>\n",
       "      <td>0.0</td>\n",
       "      <td>0.0</td>\n",
       "      <td>0.0</td>\n",
       "      <td>0.0</td>\n",
       "      <td>0.0</td>\n",
       "      <td>0.0</td>\n",
       "      <td>0.0</td>\n",
       "      <td>0.0</td>\n",
       "    </tr>\n",
       "    <tr>\n",
       "      <td>4</td>\n",
       "      <td>2020-01-05</td>\n",
       "      <td>0.0</td>\n",
       "      <td>0.0</td>\n",
       "      <td>0.0</td>\n",
       "      <td>0.0</td>\n",
       "      <td>0.0</td>\n",
       "      <td>0.0</td>\n",
       "      <td>0.0</td>\n",
       "      <td>0.0</td>\n",
       "      <td>0.0</td>\n",
       "    </tr>\n",
       "  </tbody>\n",
       "</table>\n",
       "</div>"
      ],
      "text/plain": [
       "         Date  Non Taxable  Taxable  Discount  Tax  Sales  Cash  Card  Tips  \\\n",
       "0  2020-01-01          0.0      0.0       0.0  0.0    0.0   0.0   0.0   0.0   \n",
       "1  2020-01-02          0.0      0.0       0.0  0.0    0.0   0.0   0.0   0.0   \n",
       "2  2020-01-03          0.0      0.0       0.0  0.0    0.0   0.0   0.0   0.0   \n",
       "3  2020-01-04          0.0      0.0       0.0  0.0    0.0   0.0   0.0   0.0   \n",
       "4  2020-01-05          0.0      0.0       0.0  0.0    0.0   0.0   0.0   0.0   \n",
       "\n",
       "   Sales + Tips  \n",
       "0           0.0  \n",
       "1           0.0  \n",
       "2           0.0  \n",
       "3           0.0  \n",
       "4           0.0  "
      ]
     },
     "execution_count": 74,
     "metadata": {},
     "output_type": "execute_result"
    }
   ],
   "source": [
    "daily_df = clean_daily(daily_df)\n",
    "daily_df.head()"
   ]
  },
  {
   "cell_type": "markdown",
   "metadata": {},
   "source": [
    "### EDA / Restaurant Dashboard"
   ]
  },
  {
   "cell_type": "markdown",
   "metadata": {},
   "source": [
    "This particular restaurant opened for its first day of business on **January 11th 2020**. However, due to the unfortunate circumstances of COVID-19, this restaurant was prompted to close for a few months (between **March 16th 2020** and **May 28th 2020**), possibly thwarting its initial \"Grand Opening\" buzz as indicated by the low sales on its re-opening. Quickly plotting the entire sales history, we get the following:"
   ]
  },
  {
   "cell_type": "markdown",
   "metadata": {},
   "source": [
    "#### Daily Sales"
   ]
  },
  {
   "cell_type": "code",
   "execution_count": 34,
   "metadata": {
    "scrolled": true
   },
   "outputs": [
    {
     "data": {
      "text/plain": [
       "<matplotlib.legend.Legend at 0x2cc58705848>"
      ]
     },
     "execution_count": 34,
     "metadata": {},
     "output_type": "execute_result"
    },
    {
     "data": {
      "image/png": "[encoded data removed]",
      "text/plain": [
       "<Figure size 432x288 with 1 Axes>"
      ]
     },
     "metadata": {
      "needs_background": "light"
     },
     "output_type": "display_data"
    }
   ],
   "source": [
    "# assigning new `Weekend` column\n",
    "daily_df = daily_df.assign(**{'Weekend': daily_df['Date'].apply(lambda x: 1 if x.weekday() in [4,5,6] else 0)})\n",
    "\n",
    "# plotting\n",
    "sns.lineplot(x='Date', y='Sales + Tips', hue='Weekend', data=daily_df)\n",
    "plt.title('Daily Sales from 1-1-2020 to 1-31-2021');\n",
    "plt.xticks(rotation=45);\n",
    "plt.legend(bbox_to_anchor=(1,1))"
   ]
  },
  {
   "cell_type": "markdown",
   "metadata": {},
   "source": [
    "#### Average Sales by Day of Week"
   ]
  },
  {
   "cell_type": "code",
   "execution_count": 271,
   "metadata": {},
   "outputs": [
    {
     "data": {
      "image/png": "[encoded data removed]",
      "text/plain": [
       "<Figure size 432x288 with 1 Axes>"
      ]
     },
     "metadata": {
      "needs_background": "light"
     },
     "output_type": "display_data"
    }
   ],
   "source": [
    "# only using values after COVID re-opening\n",
    "temp = daily_df.copy()\n",
    "temp = temp[temp['Date'] > pd.to_datetime('2020-05-28')]\n",
    "temp['Date'] = temp['Date'].apply(lambda x: x.weekday())\n",
    "temp = temp.groupby('Date')[['Sales']].agg('mean').reset_index()\n",
    "\n",
    "sns.barplot(x='Date', y='Sales', data=temp)\n",
    "plt.title('Average Sales by Day of Week');\n",
    "plt.xticks(np.arange(7), ['Mon', 'Tue', 'Wed', 'Thur', 'Fri', 'Sat', 'Sun']);"
   ]
  },
  {
   "cell_type": "markdown",
   "metadata": {},
   "source": [
    "#### Monthly Sales"
   ]
  },
  {
   "cell_type": "code",
   "execution_count": 35,
   "metadata": {},
   "outputs": [
    {
     "data": {
      "image/png": "[encoded data removed]",
      "text/plain": [
       "<Figure size 432x288 with 1 Axes>"
      ]
     },
     "metadata": {
      "needs_background": "light"
     },
     "output_type": "display_data"
    }
   ],
   "source": [
    "temp = daily_df.copy()\n",
    "temp['Date'] = pd.DatetimeIndex(temp['Date'] - pd.to_timedelta(0, unit='d'))\n",
    "temp = temp.groupby([pd.Grouper(key='Date', freq='M')]).agg('sum').reset_index().sort_values('Date')\n",
    "\n",
    "sns.barplot(x='Date', y='Sales + Tips', data=temp)\n",
    "plt.title('Monthly Sales')\n",
    "plt.xticks(np.arange(len(temp['Date'])), [i.date() for i in temp['Date']], rotation=45);"
   ]
  },
  {
   "cell_type": "markdown",
   "metadata": {},
   "source": [
    "#### Defining a Plotting Function"
   ]
  },
  {
   "cell_type": "markdown",
   "metadata": {},
   "source": [
    "Here, we will construct a versatile function for plotting by other columns according to aggregation function, date frequency, date range, and etc."
   ]
  },
  {
   "cell_type": "code",
   "execution_count": 36,
   "metadata": {},
   "outputs": [],
   "source": [
    "def plotDf(daily_df, col='Sales + Tips', agg='sum', freq='d', lower=None, upper=None, hue=None, rotation=45, title=None):\n",
    "    \"\"\"\n",
    "    daily_df: input dataframe.\n",
    "    col: column of dataframe to plot along y-axis. Default = 'Sales + Tips'.\n",
    "    freq: frequency of date label along x-axis. Default = 'd'.\n",
    "    agg: method to compute y-axis values. Default = 'sum'.\n",
    "    lower: lower date bound.\n",
    "    upper: upper date bound.\n",
    "    hue: column of dataframe to create subgroups.\n",
    "    rotation: rotation of x-ticks labels. Default = 45.\n",
    "    \"\"\"\n",
    "    \n",
    "    temp = daily_df.copy()\n",
    "    lower = pd.to_datetime(lower)\n",
    "    upper = pd.to_datetime(upper)\n",
    "    \n",
    "    # input of lower and upper dates\n",
    "    if lower != None and upper != None:\n",
    "        temp = temp[(temp['Date'] >= lower) & (temp['Date'] <= upper)]\n",
    "        \n",
    "    # input of lower only\n",
    "    elif lower != None:\n",
    "        temp = temp[temp['Date'] >= lower]\n",
    "    \n",
    "    # if `freq` is other than daily, group the dates\n",
    "    if freq != 'd':\n",
    "        temp['Date'] = pd.DatetimeIndex(temp['Date'] - pd.to_timedelta(7, unit='d'))\n",
    "        # if `hue` is selected, groupby both `Date` and `Hue`\n",
    "        if hue: \n",
    "            temp = temp.groupby([pd.Grouper(key='Date', freq=freq), hue])[col].agg(agg).reset_index().sort_values('Date')\n",
    "        else:\n",
    "            temp = temp.groupby(pd.Grouper(key='Date', freq=freq))[col].agg(agg).reset_index().sort_values('Date')\n",
    "\n",
    "    # generating daily plot according to `col`, `hue`, and `rotation`\n",
    "    sns.lineplot(x='Date', y=col, hue=hue, data=temp)\n",
    "    \n",
    "    if title == None:\n",
    "        plt.title('{} of \\'{}\\' by {}'.format(\n",
    "            agg.capitalize(), \n",
    "            col, \n",
    "            (lambda x: 'Day' if x.upper()[0]=='D' else ('Week' if x.upper()[0]=='W' else 'Month'))(freq))\n",
    "        )\n",
    "    else:\n",
    "        plt.title(title)\n",
    "        \n",
    "    plt.xticks(rotation=rotation);\n",
    "    "
   ]
  },
  {
   "cell_type": "markdown",
   "metadata": {},
   "source": [
    "#### Monthly Sales Growth"
   ]
  },
  {
   "cell_type": "code",
   "execution_count": 37,
   "metadata": {
    "scrolled": true
   },
   "outputs": [
    {
     "data": {
      "image/png": "[encoded data removed]",
      "text/plain": [
       "<Figure size 432x288 with 1 Axes>"
      ]
     },
     "metadata": {
      "needs_background": "light"
     },
     "output_type": "display_data"
    }
   ],
   "source": [
    "temp = daily_df.copy()\n",
    "temp['Date'] = pd.DatetimeIndex(temp['Date'] - pd.to_timedelta(0, unit='d'))\n",
    "temp = temp.groupby([pd.Grouper(key='Date', freq='M')])[['Sales']].agg('sum').reset_index()\n",
    "temp['Sales'] = (temp['Sales'] - temp['Sales'].shift(1)) / temp['Sales']\n",
    "\n",
    "sns.barplot(x='Date', y='Sales', data=temp)\n",
    "plt.title('Monthy Sales Growth')\n",
    "plt.xticks(np.arange(len(temp.index)), [i.date() for i in temp['Date']], rotation=45)\n",
    "plt.ylabel('Sales Growth (%)')\n",
    "plt.ylim(-.4, .4);"
   ]
  },
  {
   "cell_type": "markdown",
   "metadata": {},
   "source": [
    "#### Average Number of Sales and Average Total Sales by Hour of the Week"
   ]
  },
  {
   "cell_type": "code",
   "execution_count": 374,
   "metadata": {},
   "outputs": [
    {
     "data": {
      "text/html": [
       "<div>\n",
       "<style scoped>\n",
       "    .dataframe tbody tr th:only-of-type {\n",
       "        vertical-align: middle;\n",
       "    }\n",
       "\n",
       "    .dataframe tbody tr th {\n",
       "        vertical-align: top;\n",
       "    }\n",
       "\n",
       "    .dataframe thead th {\n",
       "        text-align: right;\n",
       "    }\n",
       "</style>\n",
       "<table border=\"1\" class=\"dataframe\">\n",
       "  <thead>\n",
       "    <tr style=\"text-align: right;\">\n",
       "      <th></th>\n",
       "      <th>Receipt #</th>\n",
       "      <th>Date</th>\n",
       "      <th>By</th>\n",
       "      <th>Reseller ID</th>\n",
       "      <th>PMT</th>\n",
       "      <th>Total Cost</th>\n",
       "      <th>Subtotal</th>\n",
       "      <th>Tax</th>\n",
       "      <th>Discount</th>\n",
       "      <th>Total</th>\n",
       "      <th>Gross</th>\n",
       "    </tr>\n",
       "  </thead>\n",
       "  <tbody>\n",
       "    <tr>\n",
       "      <td>0</td>\n",
       "      <td>9</td>\n",
       "      <td>01/09/20 17:09</td>\n",
       "      <td>1</td>\n",
       "      <td>NaN</td>\n",
       "      <td>CA</td>\n",
       "      <td>0.0</td>\n",
       "      <td>4.00</td>\n",
       "      <td>0.41</td>\n",
       "      <td>0.0</td>\n",
       "      <td>4.23</td>\n",
       "      <td>4.23</td>\n",
       "    </tr>\n",
       "    <tr>\n",
       "      <td>1</td>\n",
       "      <td>10</td>\n",
       "      <td>01/09/20 17:09</td>\n",
       "      <td>1</td>\n",
       "      <td>NaN</td>\n",
       "      <td>CA</td>\n",
       "      <td>0.0</td>\n",
       "      <td>12.00</td>\n",
       "      <td>1.23</td>\n",
       "      <td>0.0</td>\n",
       "      <td>12.70</td>\n",
       "      <td>12.70</td>\n",
       "    </tr>\n",
       "    <tr>\n",
       "      <td>2</td>\n",
       "      <td>11</td>\n",
       "      <td>01/09/20 17:10</td>\n",
       "      <td>1</td>\n",
       "      <td>NaN</td>\n",
       "      <td>CA</td>\n",
       "      <td>0.0</td>\n",
       "      <td>17.57</td>\n",
       "      <td>1.80</td>\n",
       "      <td>0.0</td>\n",
       "      <td>18.60</td>\n",
       "      <td>18.60</td>\n",
       "    </tr>\n",
       "    <tr>\n",
       "      <td>3</td>\n",
       "      <td>12</td>\n",
       "      <td>01/09/20 17:12</td>\n",
       "      <td>1</td>\n",
       "      <td>NaN</td>\n",
       "      <td>CA</td>\n",
       "      <td>0.0</td>\n",
       "      <td>40.19</td>\n",
       "      <td>4.12</td>\n",
       "      <td>0.0</td>\n",
       "      <td>42.54</td>\n",
       "      <td>42.54</td>\n",
       "    </tr>\n",
       "    <tr>\n",
       "      <td>4</td>\n",
       "      <td>15</td>\n",
       "      <td>01/09/20 17:14</td>\n",
       "      <td>1</td>\n",
       "      <td>NaN</td>\n",
       "      <td>CA</td>\n",
       "      <td>0.0</td>\n",
       "      <td>24.69</td>\n",
       "      <td>2.53</td>\n",
       "      <td>0.0</td>\n",
       "      <td>26.13</td>\n",
       "      <td>26.13</td>\n",
       "    </tr>\n",
       "  </tbody>\n",
       "</table>\n",
       "</div>"
      ],
      "text/plain": [
       "   Receipt #            Date  By  Reseller ID PMT  Total Cost  Subtotal   Tax  \\\n",
       "0          9  01/09/20 17:09   1          NaN  CA         0.0      4.00  0.41   \n",
       "1         10  01/09/20 17:09   1          NaN  CA         0.0     12.00  1.23   \n",
       "2         11  01/09/20 17:10   1          NaN  CA         0.0     17.57  1.80   \n",
       "3         12  01/09/20 17:12   1          NaN  CA         0.0     40.19  4.12   \n",
       "4         15  01/09/20 17:14   1          NaN  CA         0.0     24.69  2.53   \n",
       "\n",
       "   Discount  Total  Gross  \n",
       "0       0.0   4.23   4.23  \n",
       "1       0.0  12.70  12.70  \n",
       "2       0.0  18.60  18.60  \n",
       "3       0.0  42.54  42.54  \n",
       "4       0.0  26.13  26.13  "
      ]
     },
     "execution_count": 374,
     "metadata": {},
     "output_type": "execute_result"
    }
   ],
   "source": [
    "hour_df = pd.read_csv('.\\data\\Sales Report - By Hour 01-01-2020 To 01-30-2021.csv')\n",
    "hour_df.head()"
   ]
  },
  {
   "cell_type": "code",
   "execution_count": 375,
   "metadata": {
    "scrolled": true
   },
   "outputs": [],
   "source": [
    "def clean_hour(df):\n",
    "    \n",
    "    temp = df.copy()\n",
    "    \n",
    "    temp = temp[['Receipt #', 'Date', 'By', 'Total']]\n",
    "    \n",
    "    temp['Date'] = pd.to_datetime(temp['Date'])\n",
    "    \n",
    "    # getting day\n",
    "    day = temp['Date'].apply(lambda x: x.weekday())\n",
    "    temp = temp.assign(**{'Day': day})\n",
    "    \n",
    "    # getting hour\n",
    "    hour = temp['Date'].apply(lambda x: x.hour)\n",
    "    temp = temp.assign(**{'Hour': hour})\n",
    "    \n",
    "    # getting rows after COVID\n",
    "    temp = temp[temp['Date'].apply(lambda x: x.date()) > pd.to_datetime('2020-05-28')]\n",
    "    \n",
    "    return temp.reset_index()"
   ]
  },
  {
   "cell_type": "code",
   "execution_count": 376,
   "metadata": {
    "scrolled": true
   },
   "outputs": [
    {
     "data": {
      "text/html": [
       "<div>\n",
       "<style scoped>\n",
       "    .dataframe tbody tr th:only-of-type {\n",
       "        vertical-align: middle;\n",
       "    }\n",
       "\n",
       "    .dataframe tbody tr th {\n",
       "        vertical-align: top;\n",
       "    }\n",
       "\n",
       "    .dataframe thead th {\n",
       "        text-align: right;\n",
       "    }\n",
       "</style>\n",
       "<table border=\"1\" class=\"dataframe\">\n",
       "  <thead>\n",
       "    <tr style=\"text-align: right;\">\n",
       "      <th></th>\n",
       "      <th>Day</th>\n",
       "      <th>Hour</th>\n",
       "      <th>sum</th>\n",
       "      <th>count</th>\n",
       "      <th>avg_sum</th>\n",
       "      <th>avg_count</th>\n",
       "    </tr>\n",
       "  </thead>\n",
       "  <tbody>\n",
       "    <tr>\n",
       "      <td>0</td>\n",
       "      <td>0</td>\n",
       "      <td>11</td>\n",
       "      <td>2399.51</td>\n",
       "      <td>129</td>\n",
       "      <td>67.728105</td>\n",
       "      <td>3.641129</td>\n",
       "    </tr>\n",
       "    <tr>\n",
       "      <td>1</td>\n",
       "      <td>0</td>\n",
       "      <td>12</td>\n",
       "      <td>4786.12</td>\n",
       "      <td>286</td>\n",
       "      <td>135.092097</td>\n",
       "      <td>8.072581</td>\n",
       "    </tr>\n",
       "    <tr>\n",
       "      <td>2</td>\n",
       "      <td>0</td>\n",
       "      <td>13</td>\n",
       "      <td>3487.05</td>\n",
       "      <td>204</td>\n",
       "      <td>98.424798</td>\n",
       "      <td>5.758065</td>\n",
       "    </tr>\n",
       "    <tr>\n",
       "      <td>3</td>\n",
       "      <td>0</td>\n",
       "      <td>14</td>\n",
       "      <td>2806.07</td>\n",
       "      <td>167</td>\n",
       "      <td>79.203589</td>\n",
       "      <td>4.713710</td>\n",
       "    </tr>\n",
       "    <tr>\n",
       "      <td>4</td>\n",
       "      <td>0</td>\n",
       "      <td>15</td>\n",
       "      <td>2609.44</td>\n",
       "      <td>146</td>\n",
       "      <td>73.653548</td>\n",
       "      <td>4.120968</td>\n",
       "    </tr>\n",
       "  </tbody>\n",
       "</table>\n",
       "</div>"
      ],
      "text/plain": [
       "   Day  Hour      sum  count     avg_sum  avg_count\n",
       "0    0    11  2399.51    129   67.728105   3.641129\n",
       "1    0    12  4786.12    286  135.092097   8.072581\n",
       "2    0    13  3487.05    204   98.424798   5.758065\n",
       "3    0    14  2806.07    167   79.203589   4.713710\n",
       "4    0    15  2609.44    146   73.653548   4.120968"
      ]
     },
     "execution_count": 376,
     "metadata": {},
     "output_type": "execute_result"
    }
   ],
   "source": [
    "hour_df = clean_hour(hour_df)\n",
    "n_days = -(hour_df.loc[0, 'Date'] - hour_df.loc[16435, 'Date']).days\n",
    "hour_df = hour_df.groupby(['Day', 'Hour'])['Total'].agg(['sum', 'count']).reset_index().sort_values(by=['Day', 'Hour'], ascending=[True, True])\n",
    "\n",
    "avg_sum = hour_df['sum'] / (n_days/7)\n",
    "avg_count = hour_df['count'] / (n_days/7)\n",
    "hour_df = hour_df.assign(**{'avg_sum': avg_sum, 'avg_count': avg_count})\n",
    "hour_df.head()"
   ]
  },
  {
   "cell_type": "code",
   "execution_count": 377,
   "metadata": {},
   "outputs": [
    {
     "data": {
      "image/png": "[encoded data removed]",
      "text/plain": [
       "<Figure size 1152x360 with 2 Axes>"
      ]
     },
     "metadata": {
      "needs_background": "light"
     },
     "output_type": "display_data"
    }
   ],
   "source": [
    "temp = pd.pivot_table(hour_df, values='avg_count', index='Day', columns='Hour')\n",
    "plt.figure(figsize = (16,5))\n",
    "sns.heatmap(temp, cmap='Greens', annot=True, fmt='.1f')\n",
    "plt.title('Average Number of Sales');\n",
    "plt.yticks(np.arange(8), ['Mon', 'Tue', 'Wed', 'Thur', 'Fri', 'Sat', 'Sun'], rotation=0);"
   ]
  },
  {
   "cell_type": "code",
   "execution_count": 378,
   "metadata": {},
   "outputs": [
    {
     "data": {
      "image/png": "[encoded data removed]",
      "text/plain": [
       "<Figure size 1152x360 with 2 Axes>"
      ]
     },
     "metadata": {
      "needs_background": "light"
     },
     "output_type": "display_data"
    }
   ],
   "source": [
    "temp = pd.pivot_table(hour_df, values='avg_sum', index='Day', columns='Hour')\n",
    "plt.figure(figsize = (16,5))\n",
    "sns.heatmap(temp, cmap='Greens', annot=True, fmt='.1f')\n",
    "plt.title('Average Total Sales');\n",
    "plt.yticks(np.arange(8), ['Mon', 'Tue', 'Wed', 'Thur', 'Fri', 'Sat', 'Sun'], rotation=0);"
   ]
  },
  {
   "cell_type": "markdown",
   "metadata": {},
   "source": [
    "# Restaurant Analysis\n",
    "In this section, we have three primary goals, (2) and (3) of which were desired of by the restaurant owner herself:\n",
    "\n",
    "**1. Determine whether customers tend to be more empathetic and give more tips after the first wave of COVID-19.**\n",
    "\n",
    "**2. Determine how to reduce menu itemization while minimizing loss.**\n",
    "\n",
    "**3. How to approach the pricing on certain menu items, namely rice and salad dishes.**"
   ]
  },
  {
   "cell_type": "markdown",
   "metadata": {},
   "source": [
    "### 1. Customer `Tip` Support?"
   ]
  },
  {
   "cell_type": "markdown",
   "metadata": {},
   "source": [
    "We can grasp a general sense of customer support / gratitude by viewing customer `Tips` over time."
   ]
  },
  {
   "cell_type": "code",
   "execution_count": 38,
   "metadata": {
    "scrolled": true
   },
   "outputs": [
    {
     "data": {
      "image/png": "[encoded data removed]",
      "text/plain": [
       "<Figure size 432x288 with 1 Axes>"
      ]
     },
     "metadata": {
      "needs_background": "light"
     },
     "output_type": "display_data"
    }
   ],
   "source": [
    "# plotDf(daily_df, col='Tips', freq='W')\n",
    "temp = daily_df.copy()\n",
    "temp['Date'] = pd.DatetimeIndex(temp['Date'] - pd.to_timedelta(0, unit='d'))\n",
    "temp = temp.groupby(pd.Grouper(key='Date', freq='M'))[['Tips']].agg('sum').reset_index()\n",
    "\n",
    "sns.barplot(x='Date', y='Tips', data=temp)\n",
    "plt.title('Monthy Tips')\n",
    "plt.xticks(np.arange(len(temp.index)), [i.date() for i in temp['Date']], rotation=45);"
   ]
  },
  {
   "cell_type": "markdown",
   "metadata": {},
   "source": [
    "This graph gives us a general sense of total customer support using weekly sum of `Tips` as a metric. Although sum of `Tips` gives us some information, it does not answer the question of whether or not a higher *proportion* of customers are supporting the restaurant over time."
   ]
  },
  {
   "cell_type": "markdown",
   "metadata": {},
   "source": [
    "#### Percentage of `Tips` of Total `Sales + Tips` by Day"
   ]
  },
  {
   "cell_type": "markdown",
   "metadata": {},
   "source": [
    "We want to determine whether or not a higher *proportion* of customers are giving additional aid or support during or shortly after the large waves of COVID-19 cases. We can do this by redefining our approach and look at the **percentage of `Sales + Tips` that are tips**."
   ]
  },
  {
   "cell_type": "code",
   "execution_count": 56,
   "metadata": {},
   "outputs": [
    {
     "data": {
      "image/png": "[encoded data removed]",
      "text/plain": [
       "<Figure size 432x288 with 1 Axes>"
      ]
     },
     "metadata": {
      "needs_background": "light"
     },
     "output_type": "display_data"
    }
   ],
   "source": [
    "# creating new column for percentage of `Tips` of total `Sales + Tips`\n",
    "prop_tips = daily_df['Tips'] / daily_df['Sales + Tips']\n",
    "daily_df = daily_df.assign(**{'prop_tips': prop_tips})\n",
    "\n",
    "plotDf(daily_df, col='prop_tips', title='Proportion of Tips')"
   ]
  },
  {
   "cell_type": "markdown",
   "metadata": {},
   "source": [
    "Seeing this graph, it appears that the proportion of `Tips` are in fact higher after the initial surge of COVID-19. In order to test this statistically, a **2-Sample T-Test**. We will use 1 month's worth of data before and after the closure of this restaurant. \n",
    "\n",
    "*Note: we will use after-restaurant-closure data from roughly August 2020 to September 2020 because the months preceeding have several outlying observations*"
   ]
  },
  {
   "cell_type": "code",
   "execution_count": 40,
   "metadata": {},
   "outputs": [],
   "source": [
    "before = daily_df[(daily_df['Date'] > pd.to_datetime('January 15 2020')) & (daily_df['Date'] < pd.to_datetime('February 15 2020'))]\n",
    "after = daily_df[(daily_df['Date'] > pd.to_datetime('August 2 2020')) & (daily_df['Date'] < pd.to_datetime('September 2 2020'))]"
   ]
  },
  {
   "cell_type": "markdown",
   "metadata": {},
   "source": [
    "### 1 cont'd. Hypothesis Testing: 2-Sample T-Test"
   ]
  },
  {
   "cell_type": "markdown",
   "metadata": {},
   "source": [
    "**Null Hypothesis**: The mean percentage of tips before the COVID-19 closure is the **same** as the mean percentage of tips after the COVID-19 closure.\n",
    "\n",
    "**Alternative Hypothesis**: The mean percentage of tips after the COVID-19 closure **greater than** the mean percentage of tips before the COVID-19 closure.\n",
    "\n",
    "We will use a significance level of **alpha = 0.05**."
   ]
  },
  {
   "cell_type": "code",
   "execution_count": 41,
   "metadata": {},
   "outputs": [
    {
     "data": {
      "text/html": [
       "<div>\n",
       "<style scoped>\n",
       "    .dataframe tbody tr th:only-of-type {\n",
       "        vertical-align: middle;\n",
       "    }\n",
       "\n",
       "    .dataframe tbody tr th {\n",
       "        vertical-align: top;\n",
       "    }\n",
       "\n",
       "    .dataframe thead th {\n",
       "        text-align: right;\n",
       "    }\n",
       "</style>\n",
       "<table border=\"1\" class=\"dataframe\">\n",
       "  <thead>\n",
       "    <tr style=\"text-align: right;\">\n",
       "      <th></th>\n",
       "      <th>before</th>\n",
       "      <th>after</th>\n",
       "    </tr>\n",
       "  </thead>\n",
       "  <tbody>\n",
       "    <tr>\n",
       "      <td>count</td>\n",
       "      <td>30.000000</td>\n",
       "      <td>30.000000</td>\n",
       "    </tr>\n",
       "    <tr>\n",
       "      <td>mean</td>\n",
       "      <td>0.048912</td>\n",
       "      <td>0.058789</td>\n",
       "    </tr>\n",
       "    <tr>\n",
       "      <td>std</td>\n",
       "      <td>0.009449</td>\n",
       "      <td>0.008897</td>\n",
       "    </tr>\n",
       "  </tbody>\n",
       "</table>\n",
       "</div>"
      ],
      "text/plain": [
       "          before      after\n",
       "count  30.000000  30.000000\n",
       "mean    0.048912   0.058789\n",
       "std     0.009449   0.008897"
      ]
     },
     "execution_count": 41,
     "metadata": {},
     "output_type": "execute_result"
    }
   ],
   "source": [
    "# combining before and after statistics into a single dataframe for easier viewing\n",
    "before_stats = before.describe().loc[['count', 'mean', 'std'], 'prop_tips']\n",
    "after_stats = after.describe().loc[['count', 'mean', 'std'], 'prop_tips']\n",
    "stats = pd.DataFrame({'before': before_stats, 'after': after_stats})\n",
    "stats"
   ]
  },
  {
   "cell_type": "markdown",
   "metadata": {},
   "source": [
    "#### Test Statistic"
   ]
  },
  {
   "cell_type": "code",
   "execution_count": 42,
   "metadata": {},
   "outputs": [
    {
     "data": {
      "text/plain": [
       "4.168159303241813"
      ]
     },
     "execution_count": 42,
     "metadata": {},
     "output_type": "execute_result"
    }
   ],
   "source": [
    "a_n = stats.loc['count', 'after']\n",
    "a_mean = stats.loc['mean', 'after']\n",
    "a_std = stats.loc['std', 'after']\n",
    "\n",
    "b_n = stats.loc['count', 'before']\n",
    "b_mean = stats.loc['mean', 'before']\n",
    "b_std = stats.loc['std', 'before']\n",
    "\n",
    "t_stat = (\n",
    "    (a_mean - b_mean) / (np.sqrt(a_std**2/a_n + b_std**2/b_n))\n",
    ")\n",
    "t_stat"
   ]
  },
  {
   "cell_type": "markdown",
   "metadata": {},
   "source": [
    "#### Observed p-value"
   ]
  },
  {
   "cell_type": "code",
   "execution_count": 43,
   "metadata": {},
   "outputs": [
    {
     "data": {
      "image/png": "[encoded data removed]",
      "text/plain": [
       "<Figure size 432x288 with 1 Axes>"
      ]
     },
     "metadata": {
      "needs_background": "light"
     },
     "output_type": "display_data"
    },
    {
     "data": {
      "text/plain": [
       "1.53534652498537e-05"
      ]
     },
     "execution_count": 43,
     "metadata": {},
     "output_type": "execute_result"
    }
   ],
   "source": [
    "x_axis = np.arange(-5, 5, 0.001)\n",
    "plt.plot(x_axis, norm.pdf(x_axis,0,1))\n",
    "plt.plot(t_stat,0,'ro')\n",
    "plt.show()\n",
    "\n",
    "norm.cdf(-t_stat)"
   ]
  },
  {
   "cell_type": "markdown",
   "metadata": {},
   "source": [
    "#### Conclusion\n",
    "\n",
    "With a **p-value of 1.535e-5 < 0.05, we reject our null hypothesis**. We found statistically significanty evidence that the true mean percentage of tips is higher after the COVID-19 closure than before."
   ]
  },
  {
   "cell_type": "markdown",
   "metadata": {},
   "source": [
    "### 2. Reducing Menu Size\n",
    "In this section, we will reduce the menu size by looking at three particular items: **Egg Rolls**, **Chicken Skewers**, and **Firecracker Shrimp**. Currently, they have quantity choices for customers to choose from. A common complaint by the business owner is that it becomes hassling and awkward to clarify with the customer, \"how many pieces would you like for...?\" We will view previous months' sales history for these quantity choices to determine the optimal quantities."
   ]
  },
  {
   "cell_type": "code",
   "execution_count": 75,
   "metadata": {
    "scrolled": true
   },
   "outputs": [
    {
     "data": {
      "text/html": [
       "<div>\n",
       "<style scoped>\n",
       "    .dataframe tbody tr th:only-of-type {\n",
       "        vertical-align: middle;\n",
       "    }\n",
       "\n",
       "    .dataframe tbody tr th {\n",
       "        vertical-align: top;\n",
       "    }\n",
       "\n",
       "    .dataframe thead th {\n",
       "        text-align: right;\n",
       "    }\n",
       "</style>\n",
       "<table border=\"1\" class=\"dataframe\">\n",
       "  <thead>\n",
       "    <tr style=\"text-align: right;\">\n",
       "      <th></th>\n",
       "      <th>Appetizers</th>\n",
       "      <th>Qty</th>\n",
       "      <th>Total</th>\n",
       "    </tr>\n",
       "  </thead>\n",
       "  <tbody>\n",
       "    <tr>\n",
       "      <td>0</td>\n",
       "      <td>(3)</td>\n",
       "      <td>181</td>\n",
       "      <td>1,252.75</td>\n",
       "    </tr>\n",
       "    <tr>\n",
       "      <td>1</td>\n",
       "      <td>Egg Rolls (3)</td>\n",
       "      <td>181</td>\n",
       "      <td>0.00</td>\n",
       "    </tr>\n",
       "    <tr>\n",
       "      <td>2</td>\n",
       "      <td>(2)</td>\n",
       "      <td>170</td>\n",
       "      <td>837.80</td>\n",
       "    </tr>\n",
       "    <tr>\n",
       "      <td>3</td>\n",
       "      <td>Egg Rolls (3)</td>\n",
       "      <td>170</td>\n",
       "      <td>0.00</td>\n",
       "    </tr>\n",
       "    <tr>\n",
       "      <td>4</td>\n",
       "      <td>(3)</td>\n",
       "      <td>75</td>\n",
       "      <td>668.57</td>\n",
       "    </tr>\n",
       "    <tr>\n",
       "      <td>5</td>\n",
       "      <td>Chicken Skewers (3)</td>\n",
       "      <td>75</td>\n",
       "      <td>0.00</td>\n",
       "    </tr>\n",
       "    <tr>\n",
       "      <td>6</td>\n",
       "      <td>(2)</td>\n",
       "      <td>62</td>\n",
       "      <td>430.90</td>\n",
       "    </tr>\n",
       "    <tr>\n",
       "      <td>7</td>\n",
       "      <td>Chicken Skewers (3)</td>\n",
       "      <td>62</td>\n",
       "      <td>0.00</td>\n",
       "    </tr>\n",
       "    <tr>\n",
       "      <td>8</td>\n",
       "      <td>(4)</td>\n",
       "      <td>58</td>\n",
       "      <td>402.06</td>\n",
       "    </tr>\n",
       "    <tr>\n",
       "      <td>9</td>\n",
       "      <td>Firecracker Shrimp (5)</td>\n",
       "      <td>58</td>\n",
       "      <td>0.00</td>\n",
       "    </tr>\n",
       "    <tr>\n",
       "      <td>10</td>\n",
       "      <td>(7)</td>\n",
       "      <td>37</td>\n",
       "      <td>405.15</td>\n",
       "    </tr>\n",
       "    <tr>\n",
       "      <td>11</td>\n",
       "      <td>Firecracker Shrimp (5)</td>\n",
       "      <td>37</td>\n",
       "      <td>0.00</td>\n",
       "    </tr>\n",
       "  </tbody>\n",
       "</table>\n",
       "</div>"
      ],
      "text/plain": [
       "                Appetizers  Qty     Total\n",
       "0                      (3)  181  1,252.75\n",
       "1            Egg Rolls (3)  181      0.00\n",
       "2                      (2)  170    837.80\n",
       "3            Egg Rolls (3)  170      0.00\n",
       "4                      (3)   75    668.57\n",
       "5      Chicken Skewers (3)   75      0.00\n",
       "6                      (2)   62    430.90\n",
       "7      Chicken Skewers (3)   62      0.00\n",
       "8                      (4)   58    402.06\n",
       "9   Firecracker Shrimp (5)   58      0.00\n",
       "10                     (7)   37    405.15\n",
       "11  Firecracker Shrimp (5)   37      0.00"
      ]
     },
     "execution_count": 75,
     "metadata": {},
     "output_type": "execute_result"
    }
   ],
   "source": [
    "mod_09_20 = pd.read_csv('.\\data\\Modifiers 09-01-2020.csv')\n",
    "mod_09_20.head(12)"
   ]
  },
  {
   "cell_type": "markdown",
   "metadata": {},
   "source": [
    "### Data Cleaning / Processing"
   ]
  },
  {
   "cell_type": "code",
   "execution_count": 76,
   "metadata": {},
   "outputs": [],
   "source": [
    "def clean_mod(df, month):\n",
    "    \n",
    "    temp = df.copy()\n",
    "    \n",
    "    # dropping `Qty`\n",
    "    temp = temp.drop('Qty', axis=1)\n",
    "    \n",
    "    # renaming rows\n",
    "    temp.loc[0, 'Appetizers'] = 'Egg Rolls (3)'\n",
    "    temp.loc[2, 'Appetizers'] = 'Egg Rolls (2)'\n",
    "    temp.loc[4, 'Appetizers'] = 'Chicken Skewers (3)'\n",
    "    temp.loc[6, 'Appetizers'] = 'Chicken Skewers (2)'\n",
    "    temp.loc[8, 'Appetizers'] = 'Firecracker Shrimp (4)'\n",
    "    temp.loc[10, 'Appetizers'] = 'Firecracker Shrimp (7)'\n",
    "    \n",
    "    # dropping all rows that do not contain pattern\n",
    "    temp = temp[temp['Appetizers'].str.contains('Egg|Chicken|Firecracker')]\n",
    "    temp = temp.iloc[range(0,len(temp),2),]\n",
    "    \n",
    "    # cleaning `Total` column\n",
    "    def clean_total(val):\n",
    "        val = val.replace(',','')\n",
    "        return float(val)\n",
    "    temp['Total'] = temp['Total'].apply(clean_total)\n",
    "    \n",
    "    # adding `Month` Column\n",
    "    temp = temp.assign(**{'Month': pd.to_datetime('{}-01-2020'.format(month))})\n",
    "    \n",
    "    return temp"
   ]
  },
  {
   "cell_type": "code",
   "execution_count": 77,
   "metadata": {
    "scrolled": true
   },
   "outputs": [
    {
     "data": {
      "text/html": [
       "<div>\n",
       "<style scoped>\n",
       "    .dataframe tbody tr th:only-of-type {\n",
       "        vertical-align: middle;\n",
       "    }\n",
       "\n",
       "    .dataframe tbody tr th {\n",
       "        vertical-align: top;\n",
       "    }\n",
       "\n",
       "    .dataframe thead th {\n",
       "        text-align: right;\n",
       "    }\n",
       "</style>\n",
       "<table border=\"1\" class=\"dataframe\">\n",
       "  <thead>\n",
       "    <tr style=\"text-align: right;\">\n",
       "      <th></th>\n",
       "      <th>Appetizers</th>\n",
       "      <th>Month</th>\n",
       "      <th>Total</th>\n",
       "    </tr>\n",
       "  </thead>\n",
       "  <tbody>\n",
       "    <tr>\n",
       "      <td>0</td>\n",
       "      <td>Chicken Skewers (2)</td>\n",
       "      <td>2020-09-01</td>\n",
       "      <td>430.90</td>\n",
       "    </tr>\n",
       "    <tr>\n",
       "      <td>1</td>\n",
       "      <td>Chicken Skewers (2)</td>\n",
       "      <td>2020-10-01</td>\n",
       "      <td>429.86</td>\n",
       "    </tr>\n",
       "    <tr>\n",
       "      <td>2</td>\n",
       "      <td>Chicken Skewers (2)</td>\n",
       "      <td>2020-11-01</td>\n",
       "      <td>567.12</td>\n",
       "    </tr>\n",
       "    <tr>\n",
       "      <td>3</td>\n",
       "      <td>Chicken Skewers (3)</td>\n",
       "      <td>2020-09-01</td>\n",
       "      <td>668.57</td>\n",
       "    </tr>\n",
       "    <tr>\n",
       "      <td>4</td>\n",
       "      <td>Chicken Skewers (3)</td>\n",
       "      <td>2020-10-01</td>\n",
       "      <td>615.76</td>\n",
       "    </tr>\n",
       "    <tr>\n",
       "      <td>5</td>\n",
       "      <td>Chicken Skewers (3)</td>\n",
       "      <td>2020-11-01</td>\n",
       "      <td>912.90</td>\n",
       "    </tr>\n",
       "    <tr>\n",
       "      <td>6</td>\n",
       "      <td>Egg Rolls (2)</td>\n",
       "      <td>2020-09-01</td>\n",
       "      <td>837.80</td>\n",
       "    </tr>\n",
       "    <tr>\n",
       "      <td>7</td>\n",
       "      <td>Egg Rolls (2)</td>\n",
       "      <td>2020-10-01</td>\n",
       "      <td>721.22</td>\n",
       "    </tr>\n",
       "    <tr>\n",
       "      <td>8</td>\n",
       "      <td>Egg Rolls (2)</td>\n",
       "      <td>2020-11-01</td>\n",
       "      <td>1412.24</td>\n",
       "    </tr>\n",
       "    <tr>\n",
       "      <td>9</td>\n",
       "      <td>Egg Rolls (3)</td>\n",
       "      <td>2020-09-01</td>\n",
       "      <td>1252.75</td>\n",
       "    </tr>\n",
       "    <tr>\n",
       "      <td>10</td>\n",
       "      <td>Egg Rolls (3)</td>\n",
       "      <td>2020-10-01</td>\n",
       "      <td>1147.45</td>\n",
       "    </tr>\n",
       "    <tr>\n",
       "      <td>11</td>\n",
       "      <td>Egg Rolls (3)</td>\n",
       "      <td>2020-11-01</td>\n",
       "      <td>1959.90</td>\n",
       "    </tr>\n",
       "    <tr>\n",
       "      <td>12</td>\n",
       "      <td>Firecracker Shrimp (4)</td>\n",
       "      <td>2020-09-01</td>\n",
       "      <td>402.06</td>\n",
       "    </tr>\n",
       "    <tr>\n",
       "      <td>13</td>\n",
       "      <td>Firecracker Shrimp (4)</td>\n",
       "      <td>2020-10-01</td>\n",
       "      <td>408.31</td>\n",
       "    </tr>\n",
       "    <tr>\n",
       "      <td>14</td>\n",
       "      <td>Firecracker Shrimp (4)</td>\n",
       "      <td>2020-11-01</td>\n",
       "      <td>671.38</td>\n",
       "    </tr>\n",
       "    <tr>\n",
       "      <td>15</td>\n",
       "      <td>Firecracker Shrimp (7)</td>\n",
       "      <td>2020-09-01</td>\n",
       "      <td>405.15</td>\n",
       "    </tr>\n",
       "    <tr>\n",
       "      <td>16</td>\n",
       "      <td>Firecracker Shrimp (7)</td>\n",
       "      <td>2020-10-01</td>\n",
       "      <td>284.70</td>\n",
       "    </tr>\n",
       "    <tr>\n",
       "      <td>17</td>\n",
       "      <td>Firecracker Shrimp (7)</td>\n",
       "      <td>2020-11-01</td>\n",
       "      <td>657.00</td>\n",
       "    </tr>\n",
       "  </tbody>\n",
       "</table>\n",
       "</div>"
      ],
      "text/plain": [
       "                Appetizers      Month    Total\n",
       "0      Chicken Skewers (2) 2020-09-01   430.90\n",
       "1      Chicken Skewers (2) 2020-10-01   429.86\n",
       "2      Chicken Skewers (2) 2020-11-01   567.12\n",
       "3      Chicken Skewers (3) 2020-09-01   668.57\n",
       "4      Chicken Skewers (3) 2020-10-01   615.76\n",
       "5      Chicken Skewers (3) 2020-11-01   912.90\n",
       "6            Egg Rolls (2) 2020-09-01   837.80\n",
       "7            Egg Rolls (2) 2020-10-01   721.22\n",
       "8            Egg Rolls (2) 2020-11-01  1412.24\n",
       "9            Egg Rolls (3) 2020-09-01  1252.75\n",
       "10           Egg Rolls (3) 2020-10-01  1147.45\n",
       "11           Egg Rolls (3) 2020-11-01  1959.90\n",
       "12  Firecracker Shrimp (4) 2020-09-01   402.06\n",
       "13  Firecracker Shrimp (4) 2020-10-01   408.31\n",
       "14  Firecracker Shrimp (4) 2020-11-01   671.38\n",
       "15  Firecracker Shrimp (7) 2020-09-01   405.15\n",
       "16  Firecracker Shrimp (7) 2020-10-01   284.70\n",
       "17  Firecracker Shrimp (7) 2020-11-01   657.00"
      ]
     },
     "execution_count": 77,
     "metadata": {},
     "output_type": "execute_result"
    }
   ],
   "source": [
    "mod_df = pd.DataFrame()\n",
    "\n",
    "# iterating through our 3 csv's\n",
    "for i in ('09','10','11'):\n",
    "    \n",
    "    # cleaning and joining each month's modifiers from September 2020 to December 2020\n",
    "    temp = pd.read_csv('.\\data\\Modifiers {}-01-2020.csv'.format(i))\n",
    "    mod_df = pd.concat([df2, clean_mod(temp, month=i)])\n",
    "\n",
    "mod_df = mod_df.reset_index(drop=True)\n",
    "mod_df = mod_df.groupby(['Appetizers', 'Month'])['Appetizers', 'Total'].agg('sum').reset_index()\n",
    "mod_df"
   ]
  },
  {
   "cell_type": "code",
   "execution_count": 54,
   "metadata": {},
   "outputs": [
    {
     "data": {
      "image/png": "[encoded data removed]",
      "text/plain": [
       "<Figure size 432x288 with 1 Axes>"
      ]
     },
     "metadata": {
      "needs_background": "light"
     },
     "output_type": "display_data"
    }
   ],
   "source": [
    "sns.barplot(x='Month', y='Total', hue='Appetizers', data=mod_df)\n",
    "plt.title('Total by Appetizers')\n",
    "plt.xticks([0,1,2], ['Sept 2020', 'Oct 2020', 'Nov 2020'], rotation=45);\n",
    "plt.legend(bbox_to_anchor=(1, 1));"
   ]
  },
  {
   "cell_type": "markdown",
   "metadata": {},
   "source": [
    "Viewing this new table we can see that consistently over the months of September 2020 to November 2020, <font color='red'>Egg Rolls (3)</font> and <font color='orange'>Chicken Skewers (3)</font> make more than its other quantity; on average over the three months,\n",
    "\n",
    "- <font color='red'>Egg Rolls (3)</font> make **\\\\$1,126.72** while <font color='green'>Egg Rolls (2)</font> make **\\\\$755.05**\n",
    "- <font color='orange'>Chicken Skewers (3)</font> make **\\\\$580.26** while <font color='blue'>Chicken Skewers (2)</font> make **\\\\$381.44**\n",
    "\n",
    "Therefore, it is advisable to drop the appetizer options with lower quantites and **retain the appetizer options with higher piece quantities**, i.e., \"(3)\" over \"(2)\". The only item that did not see this consistent trend was <font color='purple'>Firecracker Shrimp (4)</font> and <font color='brown'>Firecracker Shrimp (7)</font>, and therefore, it was suggested that the business owner could settle for whatever quantity she desired. She decided to go with an intermediate quantity of 5."
   ]
  },
  {
   "cell_type": "code",
   "execution_count": 20,
   "metadata": {},
   "outputs": [
    {
     "data": {
      "text/html": [
       "<div>\n",
       "<style scoped>\n",
       "    .dataframe tbody tr th:only-of-type {\n",
       "        vertical-align: middle;\n",
       "    }\n",
       "\n",
       "    .dataframe tbody tr th {\n",
       "        vertical-align: top;\n",
       "    }\n",
       "\n",
       "    .dataframe thead th {\n",
       "        text-align: right;\n",
       "    }\n",
       "</style>\n",
       "<table border=\"1\" class=\"dataframe\">\n",
       "  <thead>\n",
       "    <tr style=\"text-align: right;\">\n",
       "      <th></th>\n",
       "      <th>Lookup Code</th>\n",
       "      <th>Description</th>\n",
       "      <th>Qty</th>\n",
       "      <th>Total (Tax included)</th>\n",
       "    </tr>\n",
       "  </thead>\n",
       "  <tbody>\n",
       "    <tr>\n",
       "      <td>4</td>\n",
       "      <td>110054059</td>\n",
       "      <td>Egg Rolls (3)</td>\n",
       "      <td>284</td>\n",
       "      <td>2,117.42</td>\n",
       "    </tr>\n",
       "    <tr>\n",
       "      <td>17</td>\n",
       "      <td>605023613</td>\n",
       "      <td>Chicken Skewers (3)</td>\n",
       "      <td>105</td>\n",
       "      <td>1,009.37</td>\n",
       "    </tr>\n",
       "    <tr>\n",
       "      <td>19</td>\n",
       "      <td>826060240</td>\n",
       "      <td>Firecracker Shrimp (5)</td>\n",
       "      <td>91</td>\n",
       "      <td>779.70</td>\n",
       "    </tr>\n",
       "  </tbody>\n",
       "</table>\n",
       "</div>"
      ],
      "text/plain": [
       "    Lookup Code              Description  Qty Total (Tax included)\n",
       "4     110054059           Egg Rolls (3)   284             2,117.42\n",
       "17    605023613     Chicken Skewers (3)   105             1,009.37\n",
       "19    826060240  Firecracker Shrimp (5)    91               779.70"
      ]
     },
     "execution_count": 20,
     "metadata": {},
     "output_type": "execute_result"
    }
   ],
   "source": [
    "best_01_21 = pd.read_csv('.\\data\\Best & Worst Sold Items 01-01-2021.csv')\n",
    "best_01_21[best_01_21['Description'].str.strip().isin(['Egg Rolls (3)', 'Chicken Skewers (3)', 'Firecracker Shrimp (5)'])]"
   ]
  },
  {
   "cell_type": "markdown",
   "metadata": {},
   "source": [
    "In the month of January 2021 *after* the itemization reduction, we see that the restaurant still **retains (and even exceeds) the aggregate earnings** of the *before* appetizer options, i.e., <font color='green'>Egg Rolls (2)</font> + <font color='red'>Egg Rolls (3)</font>, <font color='blue'>Chicken Skewers (2)</font> + <font color='orange'>Chicken Skewers (3)</font>. Now, the condensed appetizer menu with higher piece quantities make\n",
    "\n",
    "- \\\\$2,117.42 or **12.52% more** for Egg Rolls\n",
    "- \\\\$1,009.37 or **4.96% more** for Chicken Skewers"
   ]
  },
  {
   "cell_type": "markdown",
   "metadata": {},
   "source": [
    "### 3. Price Changes"
   ]
  },
  {
   "cell_type": "code",
   "execution_count": null,
   "metadata": {},
   "outputs": [],
   "source": []
  }
 ],
 "metadata": {
  "kernelspec": {
   "display_name": "Python 3",
   "language": "python",
   "name": "python3"
  },
  "language_info": {
   "codemirror_mode": {
    "name": "ipython",
    "version": 3
   },
   "file_extension": ".py",
   "mimetype": "text/x-python",
   "name": "python",
   "nbconvert_exporter": "python",
   "pygments_lexer": "ipython3",
   "version": "3.7.4"
  }
 },
 "nbformat": 4,
 "nbformat_minor": 2
}
